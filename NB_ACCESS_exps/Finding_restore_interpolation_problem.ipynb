{
 "cells": [
  {
   "cell_type": "code",
   "execution_count": 1,
   "id": "a19a49f8-23d9-4ac9-a79e-2e9ebbdc0b78",
   "metadata": {
    "tags": []
   },
   "outputs": [],
   "source": [
    "import xarray as xr\n",
    "import xesmf as xe\n",
    "import numpy as np\n",
    "%matplotlib inline\n",
    "import matplotlib.pyplot as plt\n",
    "import cartopy.crs as ccrs\n",
    "import dask\n",
    "import cftime\n",
    "import random\n",
    "import glob\n",
    "import matplotlib.gridspec as gs\n",
    "import pint_xarray\n",
    "import cf_xarray as cfxr\n",
    "from eofs.xarray import Eof"
   ]
  },
  {
   "cell_type": "code",
   "execution_count": 2,
   "id": "eb127f04-8da3-4f18-a379-c107f5477734",
   "metadata": {
    "tags": []
   },
   "outputs": [
    {
     "name": "stderr",
     "output_type": "stream",
     "text": [
      "/g/data/hh5/public/apps/miniconda3/envs/analysis3-22.10/lib/python3.9/site-packages/distributed/node.py:182: UserWarning: Port 8787 is already in use.\n",
      "Perhaps you already have a cluster running?\n",
      "Hosting the HTTP server on port 40937 instead\n",
      "  warnings.warn(\n"
     ]
    },
    {
     "data": {
      "text/html": [
       "<div>\n",
       "    <div style=\"width: 24px; height: 24px; background-color: #e1e1e1; border: 3px solid #9D9D9D; border-radius: 5px; position: absolute;\"> </div>\n",
       "    <div style=\"margin-left: 48px;\">\n",
       "        <h3 style=\"margin-bottom: 0px;\">Client</h3>\n",
       "        <p style=\"color: #9D9D9D; margin-bottom: 0px;\">Client-4af6d8d0-0d28-11ef-a63c-000007aafe80</p>\n",
       "        <table style=\"width: 100%; text-align: left;\">\n",
       "\n",
       "        <tr>\n",
       "        \n",
       "            <td style=\"text-align: left;\"><strong>Connection method:</strong> Cluster object</td>\n",
       "            <td style=\"text-align: left;\"><strong>Cluster type:</strong> distributed.LocalCluster</td>\n",
       "        \n",
       "        </tr>\n",
       "\n",
       "        \n",
       "            <tr>\n",
       "                <td style=\"text-align: left;\">\n",
       "                    <strong>Dashboard: </strong> <a href=\"/proxy/40937/status\" target=\"_blank\">/proxy/40937/status</a>\n",
       "                </td>\n",
       "                <td style=\"text-align: left;\"></td>\n",
       "            </tr>\n",
       "        \n",
       "\n",
       "        </table>\n",
       "\n",
       "        \n",
       "\n",
       "        \n",
       "            <details>\n",
       "            <summary style=\"margin-bottom: 20px;\"><h3 style=\"display: inline;\">Cluster Info</h3></summary>\n",
       "            <div class=\"jp-RenderedHTMLCommon jp-RenderedHTML jp-mod-trusted jp-OutputArea-output\">\n",
       "    <div style=\"width: 24px; height: 24px; background-color: #e1e1e1; border: 3px solid #9D9D9D; border-radius: 5px; position: absolute;\">\n",
       "    </div>\n",
       "    <div style=\"margin-left: 48px;\">\n",
       "        <h3 style=\"margin-bottom: 0px; margin-top: 0px;\">LocalCluster</h3>\n",
       "        <p style=\"color: #9D9D9D; margin-bottom: 0px;\">00caa22a</p>\n",
       "        <table style=\"width: 100%; text-align: left;\">\n",
       "            <tr>\n",
       "                <td style=\"text-align: left;\">\n",
       "                    <strong>Dashboard:</strong> <a href=\"/proxy/40937/status\" target=\"_blank\">/proxy/40937/status</a>\n",
       "                </td>\n",
       "                <td style=\"text-align: left;\">\n",
       "                    <strong>Workers:</strong> 7\n",
       "                </td>\n",
       "            </tr>\n",
       "            <tr>\n",
       "                <td style=\"text-align: left;\">\n",
       "                    <strong>Total threads:</strong> 14\n",
       "                </td>\n",
       "                <td style=\"text-align: left;\">\n",
       "                    <strong>Total memory:</strong> 63.00 GiB\n",
       "                </td>\n",
       "            </tr>\n",
       "            \n",
       "            <tr>\n",
       "    <td style=\"text-align: left;\"><strong>Status:</strong> running</td>\n",
       "    <td style=\"text-align: left;\"><strong>Using processes:</strong> True</td>\n",
       "</tr>\n",
       "\n",
       "            \n",
       "        </table>\n",
       "\n",
       "        <details>\n",
       "            <summary style=\"margin-bottom: 20px;\">\n",
       "                <h3 style=\"display: inline;\">Scheduler Info</h3>\n",
       "            </summary>\n",
       "\n",
       "            <div style=\"\">\n",
       "    <div>\n",
       "        <div style=\"width: 24px; height: 24px; background-color: #FFF7E5; border: 3px solid #FF6132; border-radius: 5px; position: absolute;\"> </div>\n",
       "        <div style=\"margin-left: 48px;\">\n",
       "            <h3 style=\"margin-bottom: 0px;\">Scheduler</h3>\n",
       "            <p style=\"color: #9D9D9D; margin-bottom: 0px;\">Scheduler-d807cb2a-5ca4-446d-ad2d-bfd1898a46bc</p>\n",
       "            <table style=\"width: 100%; text-align: left;\">\n",
       "                <tr>\n",
       "                    <td style=\"text-align: left;\">\n",
       "                        <strong>Comm:</strong> tcp://127.0.0.1:40177\n",
       "                    </td>\n",
       "                    <td style=\"text-align: left;\">\n",
       "                        <strong>Workers:</strong> 7\n",
       "                    </td>\n",
       "                </tr>\n",
       "                <tr>\n",
       "                    <td style=\"text-align: left;\">\n",
       "                        <strong>Dashboard:</strong> <a href=\"/proxy/40937/status\" target=\"_blank\">/proxy/40937/status</a>\n",
       "                    </td>\n",
       "                    <td style=\"text-align: left;\">\n",
       "                        <strong>Total threads:</strong> 14\n",
       "                    </td>\n",
       "                </tr>\n",
       "                <tr>\n",
       "                    <td style=\"text-align: left;\">\n",
       "                        <strong>Started:</strong> Just now\n",
       "                    </td>\n",
       "                    <td style=\"text-align: left;\">\n",
       "                        <strong>Total memory:</strong> 63.00 GiB\n",
       "                    </td>\n",
       "                </tr>\n",
       "            </table>\n",
       "        </div>\n",
       "    </div>\n",
       "\n",
       "    <details style=\"margin-left: 48px;\">\n",
       "        <summary style=\"margin-bottom: 20px;\">\n",
       "            <h3 style=\"display: inline;\">Workers</h3>\n",
       "        </summary>\n",
       "\n",
       "        \n",
       "        <div style=\"margin-bottom: 20px;\">\n",
       "            <div style=\"width: 24px; height: 24px; background-color: #DBF5FF; border: 3px solid #4CC9FF; border-radius: 5px; position: absolute;\"> </div>\n",
       "            <div style=\"margin-left: 48px;\">\n",
       "            <details>\n",
       "                <summary>\n",
       "                    <h4 style=\"margin-bottom: 0px; display: inline;\">Worker: 0</h4>\n",
       "                </summary>\n",
       "                <table style=\"width: 100%; text-align: left;\">\n",
       "                    <tr>\n",
       "                        <td style=\"text-align: left;\">\n",
       "                            <strong>Comm: </strong> tcp://127.0.0.1:39449\n",
       "                        </td>\n",
       "                        <td style=\"text-align: left;\">\n",
       "                            <strong>Total threads: </strong> 2\n",
       "                        </td>\n",
       "                    </tr>\n",
       "                    <tr>\n",
       "                        <td style=\"text-align: left;\">\n",
       "                            <strong>Dashboard: </strong> <a href=\"/proxy/46679/status\" target=\"_blank\">/proxy/46679/status</a>\n",
       "                        </td>\n",
       "                        <td style=\"text-align: left;\">\n",
       "                            <strong>Memory: </strong> 9.00 GiB\n",
       "                        </td>\n",
       "                    </tr>\n",
       "                    <tr>\n",
       "                        <td style=\"text-align: left;\">\n",
       "                            <strong>Nanny: </strong> tcp://127.0.0.1:34101\n",
       "                        </td>\n",
       "                        <td style=\"text-align: left;\"></td>\n",
       "                    </tr>\n",
       "                    <tr>\n",
       "                        <td colspan=\"2\" style=\"text-align: left;\">\n",
       "                            <strong>Local directory: </strong> /jobfs/115242417.gadi-pbs/dask-worker-space/worker-c6maedyp\n",
       "                        </td>\n",
       "                    </tr>\n",
       "\n",
       "                    \n",
       "\n",
       "                    \n",
       "\n",
       "                </table>\n",
       "            </details>\n",
       "            </div>\n",
       "        </div>\n",
       "        \n",
       "        <div style=\"margin-bottom: 20px;\">\n",
       "            <div style=\"width: 24px; height: 24px; background-color: #DBF5FF; border: 3px solid #4CC9FF; border-radius: 5px; position: absolute;\"> </div>\n",
       "            <div style=\"margin-left: 48px;\">\n",
       "            <details>\n",
       "                <summary>\n",
       "                    <h4 style=\"margin-bottom: 0px; display: inline;\">Worker: 1</h4>\n",
       "                </summary>\n",
       "                <table style=\"width: 100%; text-align: left;\">\n",
       "                    <tr>\n",
       "                        <td style=\"text-align: left;\">\n",
       "                            <strong>Comm: </strong> tcp://127.0.0.1:40195\n",
       "                        </td>\n",
       "                        <td style=\"text-align: left;\">\n",
       "                            <strong>Total threads: </strong> 2\n",
       "                        </td>\n",
       "                    </tr>\n",
       "                    <tr>\n",
       "                        <td style=\"text-align: left;\">\n",
       "                            <strong>Dashboard: </strong> <a href=\"/proxy/33383/status\" target=\"_blank\">/proxy/33383/status</a>\n",
       "                        </td>\n",
       "                        <td style=\"text-align: left;\">\n",
       "                            <strong>Memory: </strong> 9.00 GiB\n",
       "                        </td>\n",
       "                    </tr>\n",
       "                    <tr>\n",
       "                        <td style=\"text-align: left;\">\n",
       "                            <strong>Nanny: </strong> tcp://127.0.0.1:46565\n",
       "                        </td>\n",
       "                        <td style=\"text-align: left;\"></td>\n",
       "                    </tr>\n",
       "                    <tr>\n",
       "                        <td colspan=\"2\" style=\"text-align: left;\">\n",
       "                            <strong>Local directory: </strong> /jobfs/115242417.gadi-pbs/dask-worker-space/worker-z7mlll8h\n",
       "                        </td>\n",
       "                    </tr>\n",
       "\n",
       "                    \n",
       "\n",
       "                    \n",
       "\n",
       "                </table>\n",
       "            </details>\n",
       "            </div>\n",
       "        </div>\n",
       "        \n",
       "        <div style=\"margin-bottom: 20px;\">\n",
       "            <div style=\"width: 24px; height: 24px; background-color: #DBF5FF; border: 3px solid #4CC9FF; border-radius: 5px; position: absolute;\"> </div>\n",
       "            <div style=\"margin-left: 48px;\">\n",
       "            <details>\n",
       "                <summary>\n",
       "                    <h4 style=\"margin-bottom: 0px; display: inline;\">Worker: 2</h4>\n",
       "                </summary>\n",
       "                <table style=\"width: 100%; text-align: left;\">\n",
       "                    <tr>\n",
       "                        <td style=\"text-align: left;\">\n",
       "                            <strong>Comm: </strong> tcp://127.0.0.1:39311\n",
       "                        </td>\n",
       "                        <td style=\"text-align: left;\">\n",
       "                            <strong>Total threads: </strong> 2\n",
       "                        </td>\n",
       "                    </tr>\n",
       "                    <tr>\n",
       "                        <td style=\"text-align: left;\">\n",
       "                            <strong>Dashboard: </strong> <a href=\"/proxy/39761/status\" target=\"_blank\">/proxy/39761/status</a>\n",
       "                        </td>\n",
       "                        <td style=\"text-align: left;\">\n",
       "                            <strong>Memory: </strong> 9.00 GiB\n",
       "                        </td>\n",
       "                    </tr>\n",
       "                    <tr>\n",
       "                        <td style=\"text-align: left;\">\n",
       "                            <strong>Nanny: </strong> tcp://127.0.0.1:40251\n",
       "                        </td>\n",
       "                        <td style=\"text-align: left;\"></td>\n",
       "                    </tr>\n",
       "                    <tr>\n",
       "                        <td colspan=\"2\" style=\"text-align: left;\">\n",
       "                            <strong>Local directory: </strong> /jobfs/115242417.gadi-pbs/dask-worker-space/worker-ij5b0r0t\n",
       "                        </td>\n",
       "                    </tr>\n",
       "\n",
       "                    \n",
       "\n",
       "                    \n",
       "\n",
       "                </table>\n",
       "            </details>\n",
       "            </div>\n",
       "        </div>\n",
       "        \n",
       "        <div style=\"margin-bottom: 20px;\">\n",
       "            <div style=\"width: 24px; height: 24px; background-color: #DBF5FF; border: 3px solid #4CC9FF; border-radius: 5px; position: absolute;\"> </div>\n",
       "            <div style=\"margin-left: 48px;\">\n",
       "            <details>\n",
       "                <summary>\n",
       "                    <h4 style=\"margin-bottom: 0px; display: inline;\">Worker: 3</h4>\n",
       "                </summary>\n",
       "                <table style=\"width: 100%; text-align: left;\">\n",
       "                    <tr>\n",
       "                        <td style=\"text-align: left;\">\n",
       "                            <strong>Comm: </strong> tcp://127.0.0.1:44091\n",
       "                        </td>\n",
       "                        <td style=\"text-align: left;\">\n",
       "                            <strong>Total threads: </strong> 2\n",
       "                        </td>\n",
       "                    </tr>\n",
       "                    <tr>\n",
       "                        <td style=\"text-align: left;\">\n",
       "                            <strong>Dashboard: </strong> <a href=\"/proxy/40701/status\" target=\"_blank\">/proxy/40701/status</a>\n",
       "                        </td>\n",
       "                        <td style=\"text-align: left;\">\n",
       "                            <strong>Memory: </strong> 9.00 GiB\n",
       "                        </td>\n",
       "                    </tr>\n",
       "                    <tr>\n",
       "                        <td style=\"text-align: left;\">\n",
       "                            <strong>Nanny: </strong> tcp://127.0.0.1:41289\n",
       "                        </td>\n",
       "                        <td style=\"text-align: left;\"></td>\n",
       "                    </tr>\n",
       "                    <tr>\n",
       "                        <td colspan=\"2\" style=\"text-align: left;\">\n",
       "                            <strong>Local directory: </strong> /jobfs/115242417.gadi-pbs/dask-worker-space/worker-sukfiutp\n",
       "                        </td>\n",
       "                    </tr>\n",
       "\n",
       "                    \n",
       "\n",
       "                    \n",
       "\n",
       "                </table>\n",
       "            </details>\n",
       "            </div>\n",
       "        </div>\n",
       "        \n",
       "        <div style=\"margin-bottom: 20px;\">\n",
       "            <div style=\"width: 24px; height: 24px; background-color: #DBF5FF; border: 3px solid #4CC9FF; border-radius: 5px; position: absolute;\"> </div>\n",
       "            <div style=\"margin-left: 48px;\">\n",
       "            <details>\n",
       "                <summary>\n",
       "                    <h4 style=\"margin-bottom: 0px; display: inline;\">Worker: 4</h4>\n",
       "                </summary>\n",
       "                <table style=\"width: 100%; text-align: left;\">\n",
       "                    <tr>\n",
       "                        <td style=\"text-align: left;\">\n",
       "                            <strong>Comm: </strong> tcp://127.0.0.1:46013\n",
       "                        </td>\n",
       "                        <td style=\"text-align: left;\">\n",
       "                            <strong>Total threads: </strong> 2\n",
       "                        </td>\n",
       "                    </tr>\n",
       "                    <tr>\n",
       "                        <td style=\"text-align: left;\">\n",
       "                            <strong>Dashboard: </strong> <a href=\"/proxy/45099/status\" target=\"_blank\">/proxy/45099/status</a>\n",
       "                        </td>\n",
       "                        <td style=\"text-align: left;\">\n",
       "                            <strong>Memory: </strong> 9.00 GiB\n",
       "                        </td>\n",
       "                    </tr>\n",
       "                    <tr>\n",
       "                        <td style=\"text-align: left;\">\n",
       "                            <strong>Nanny: </strong> tcp://127.0.0.1:45347\n",
       "                        </td>\n",
       "                        <td style=\"text-align: left;\"></td>\n",
       "                    </tr>\n",
       "                    <tr>\n",
       "                        <td colspan=\"2\" style=\"text-align: left;\">\n",
       "                            <strong>Local directory: </strong> /jobfs/115242417.gadi-pbs/dask-worker-space/worker-kmukcq83\n",
       "                        </td>\n",
       "                    </tr>\n",
       "\n",
       "                    \n",
       "\n",
       "                    \n",
       "\n",
       "                </table>\n",
       "            </details>\n",
       "            </div>\n",
       "        </div>\n",
       "        \n",
       "        <div style=\"margin-bottom: 20px;\">\n",
       "            <div style=\"width: 24px; height: 24px; background-color: #DBF5FF; border: 3px solid #4CC9FF; border-radius: 5px; position: absolute;\"> </div>\n",
       "            <div style=\"margin-left: 48px;\">\n",
       "            <details>\n",
       "                <summary>\n",
       "                    <h4 style=\"margin-bottom: 0px; display: inline;\">Worker: 5</h4>\n",
       "                </summary>\n",
       "                <table style=\"width: 100%; text-align: left;\">\n",
       "                    <tr>\n",
       "                        <td style=\"text-align: left;\">\n",
       "                            <strong>Comm: </strong> tcp://127.0.0.1:37133\n",
       "                        </td>\n",
       "                        <td style=\"text-align: left;\">\n",
       "                            <strong>Total threads: </strong> 2\n",
       "                        </td>\n",
       "                    </tr>\n",
       "                    <tr>\n",
       "                        <td style=\"text-align: left;\">\n",
       "                            <strong>Dashboard: </strong> <a href=\"/proxy/41839/status\" target=\"_blank\">/proxy/41839/status</a>\n",
       "                        </td>\n",
       "                        <td style=\"text-align: left;\">\n",
       "                            <strong>Memory: </strong> 9.00 GiB\n",
       "                        </td>\n",
       "                    </tr>\n",
       "                    <tr>\n",
       "                        <td style=\"text-align: left;\">\n",
       "                            <strong>Nanny: </strong> tcp://127.0.0.1:36273\n",
       "                        </td>\n",
       "                        <td style=\"text-align: left;\"></td>\n",
       "                    </tr>\n",
       "                    <tr>\n",
       "                        <td colspan=\"2\" style=\"text-align: left;\">\n",
       "                            <strong>Local directory: </strong> /jobfs/115242417.gadi-pbs/dask-worker-space/worker-sks5rsuf\n",
       "                        </td>\n",
       "                    </tr>\n",
       "\n",
       "                    \n",
       "\n",
       "                    \n",
       "\n",
       "                </table>\n",
       "            </details>\n",
       "            </div>\n",
       "        </div>\n",
       "        \n",
       "        <div style=\"margin-bottom: 20px;\">\n",
       "            <div style=\"width: 24px; height: 24px; background-color: #DBF5FF; border: 3px solid #4CC9FF; border-radius: 5px; position: absolute;\"> </div>\n",
       "            <div style=\"margin-left: 48px;\">\n",
       "            <details>\n",
       "                <summary>\n",
       "                    <h4 style=\"margin-bottom: 0px; display: inline;\">Worker: 6</h4>\n",
       "                </summary>\n",
       "                <table style=\"width: 100%; text-align: left;\">\n",
       "                    <tr>\n",
       "                        <td style=\"text-align: left;\">\n",
       "                            <strong>Comm: </strong> tcp://127.0.0.1:37935\n",
       "                        </td>\n",
       "                        <td style=\"text-align: left;\">\n",
       "                            <strong>Total threads: </strong> 2\n",
       "                        </td>\n",
       "                    </tr>\n",
       "                    <tr>\n",
       "                        <td style=\"text-align: left;\">\n",
       "                            <strong>Dashboard: </strong> <a href=\"/proxy/37055/status\" target=\"_blank\">/proxy/37055/status</a>\n",
       "                        </td>\n",
       "                        <td style=\"text-align: left;\">\n",
       "                            <strong>Memory: </strong> 9.00 GiB\n",
       "                        </td>\n",
       "                    </tr>\n",
       "                    <tr>\n",
       "                        <td style=\"text-align: left;\">\n",
       "                            <strong>Nanny: </strong> tcp://127.0.0.1:34695\n",
       "                        </td>\n",
       "                        <td style=\"text-align: left;\"></td>\n",
       "                    </tr>\n",
       "                    <tr>\n",
       "                        <td colspan=\"2\" style=\"text-align: left;\">\n",
       "                            <strong>Local directory: </strong> /jobfs/115242417.gadi-pbs/dask-worker-space/worker-fylp2hrn\n",
       "                        </td>\n",
       "                    </tr>\n",
       "\n",
       "                    \n",
       "\n",
       "                    \n",
       "\n",
       "                </table>\n",
       "            </details>\n",
       "            </div>\n",
       "        </div>\n",
       "        \n",
       "\n",
       "    </details>\n",
       "</div>\n",
       "\n",
       "        </details>\n",
       "    </div>\n",
       "</div>\n",
       "            </details>\n",
       "        \n",
       "\n",
       "    </div>\n",
       "</div>"
      ],
      "text/plain": [
       "<Client: 'tcp://127.0.0.1:40177' processes=7 threads=14, memory=63.00 GiB>"
      ]
     },
     "execution_count": 2,
     "metadata": {},
     "output_type": "execute_result"
    }
   ],
   "source": [
    "from dask.distributed import Client, LocalCluster\n",
    "client = Client()\n",
    "client"
   ]
  },
  {
   "cell_type": "code",
   "execution_count": 3,
   "id": "802a0711-c7e0-48dd-88ee-d6212af5839e",
   "metadata": {
    "tags": []
   },
   "outputs": [
    {
     "name": "stderr",
     "output_type": "stream",
     "text": [
      "Exception ignored in: <bound method GCDiagnosis._gc_callback of <distributed.utils_perf.GCDiagnosis object at 0x14c70efe2400>>\n",
      "Traceback (most recent call last):\n",
      "  File \"/g/data/hh5/public/apps/miniconda3/envs/analysis3-22.10/lib/python3.9/site-packages/distributed/utils_perf.py\", line 176, in _gc_callback\n",
      "    def _gc_callback(self, phase, info):\n",
      "KeyboardInterrupt: \n",
      "Exception ignored in: <bound method GCDiagnosis._gc_callback of <distributed.utils_perf.GCDiagnosis object at 0x154a67b18460>>\n",
      "Traceback (most recent call last):\n",
      "  File \"/g/data/hh5/public/apps/miniconda3/envs/analysis3-22.10/lib/python3.9/site-packages/distributed/utils_perf.py\", line 176, in _gc_callback\n",
      "    def _gc_callback(self, phase, info):\n",
      "KeyboardInterrupt: \n",
      "Exception ignored in: <bound method GCDiagnosis._gc_callback of <distributed.utils_perf.GCDiagnosis object at 0x14978e1e4460>>\n",
      "Traceback (most recent call last):\n",
      "  File \"/g/data/hh5/public/apps/miniconda3/envs/analysis3-22.10/lib/python3.9/site-packages/distributed/utils_perf.py\", line 176, in _gc_callback\n",
      "    def _gc_callback(self, phase, info):\n",
      "KeyboardInterrupt: \n",
      "Exception ignored in: <bound method GCDiagnosis._gc_callback of <distributed.utils_perf.GCDiagnosis object at 0x14ea14edb460>>\n",
      "Traceback (most recent call last):\n",
      "  File \"/g/data/hh5/public/apps/miniconda3/envs/analysis3-22.10/lib/python3.9/site-packages/distributed/utils_perf.py\", line 176, in _gc_callback\n",
      "Exception ignored in: <bound method GCDiagnosis._gc_callback of <distributed.utils_perf.GCDiagnosis object at 0x14a4f751f400>>\n",
      "    def _gc_callback(self, phase, info):\n",
      "KeyboardInterrupt: \n",
      "Traceback (most recent call last):\n",
      "  File \"/g/data/hh5/public/apps/miniconda3/envs/analysis3-22.10/lib/python3.9/site-packages/distributed/utils_perf.py\", line 176, in _gc_callback\n",
      "    def _gc_callback(self, phase, info):\n",
      "KeyboardInterrupt: \n",
      "Exception ignored in: <bound method GCDiagnosis._gc_callback of <distributed.utils_perf.GCDiagnosis object at 0x1490d412e460>>\n",
      "Traceback (most recent call last):\n",
      "  File \"/g/data/hh5/public/apps/miniconda3/envs/analysis3-22.10/lib/python3.9/site-packages/distributed/utils_perf.py\", line 176, in _gc_callback\n",
      "    def _gc_callback(self, phase, info):\n",
      "KeyboardInterrupt: \n",
      "2024-05-08 20:47:32,619 - distributed.nanny - WARNING - Restarting worker\n",
      "2024-05-08 20:47:32,659 - distributed.nanny - WARNING - Restarting worker\n",
      "2024-05-08 20:47:32,944 - distributed.nanny - WARNING - Restarting worker\n",
      "2024-05-08 20:47:33,039 - distributed.nanny - WARNING - Restarting worker\n",
      "2024-05-08 20:47:33,088 - distributed.nanny - WARNING - Restarting worker\n",
      "2024-05-08 20:47:33,150 - distributed.nanny - WARNING - Restarting worker\n"
     ]
    },
    {
     "ename": "KeyboardInterrupt",
     "evalue": "",
     "output_type": "error",
     "traceback": [
      "\u001b[0;31m---------------------------------------------------------------------------\u001b[0m",
      "\u001b[0;31mKeyboardInterrupt\u001b[0m                         Traceback (most recent call last)",
      "Cell \u001b[0;32mIn[3], line 6\u001b[0m\n\u001b[1;32m      4\u001b[0m \u001b[38;5;66;03m#rename coords\u001b[39;00m\n\u001b[1;32m      5\u001b[0m hadsst \u001b[38;5;241m=\u001b[39mhadsst\u001b[38;5;241m.\u001b[39msel(time \u001b[38;5;241m=\u001b[39m \u001b[38;5;28mslice\u001b[39m(\u001b[38;5;124m\"\u001b[39m\u001b[38;5;124m1950-01-01\u001b[39m\u001b[38;5;124m\"\u001b[39m, \u001b[38;5;124m\"\u001b[39m\u001b[38;5;124m2022-12-31\u001b[39m\u001b[38;5;124m\"\u001b[39m))\n\u001b[0;32m----> 6\u001b[0m hadsst \u001b[38;5;241m=\u001b[39m \u001b[43mhadsst\u001b[49m\u001b[38;5;241;43m.\u001b[39;49m\u001b[43mcompute\u001b[49m\u001b[43m(\u001b[49m\u001b[43m)\u001b[49m\n",
      "File \u001b[0;32m/g/data/hh5/public/apps/miniconda3/envs/analysis3-22.10/lib/python3.9/site-packages/xarray/core/dataarray.py:1089\u001b[0m, in \u001b[0;36mDataArray.compute\u001b[0;34m(self, **kwargs)\u001b[0m\n\u001b[1;32m   1070\u001b[0m \u001b[38;5;124;03m\"\"\"Manually trigger loading of this array's data from disk or a\u001b[39;00m\n\u001b[1;32m   1071\u001b[0m \u001b[38;5;124;03mremote source into memory and return a new array. The original is\u001b[39;00m\n\u001b[1;32m   1072\u001b[0m \u001b[38;5;124;03mleft unaltered.\u001b[39;00m\n\u001b[0;32m   (...)\u001b[0m\n\u001b[1;32m   1086\u001b[0m \u001b[38;5;124;03mdask.compute\u001b[39;00m\n\u001b[1;32m   1087\u001b[0m \u001b[38;5;124;03m\"\"\"\u001b[39;00m\n\u001b[1;32m   1088\u001b[0m new \u001b[38;5;241m=\u001b[39m \u001b[38;5;28mself\u001b[39m\u001b[38;5;241m.\u001b[39mcopy(deep\u001b[38;5;241m=\u001b[39m\u001b[38;5;28;01mFalse\u001b[39;00m)\n\u001b[0;32m-> 1089\u001b[0m \u001b[38;5;28;01mreturn\u001b[39;00m \u001b[43mnew\u001b[49m\u001b[38;5;241;43m.\u001b[39;49m\u001b[43mload\u001b[49m\u001b[43m(\u001b[49m\u001b[38;5;241;43m*\u001b[39;49m\u001b[38;5;241;43m*\u001b[39;49m\u001b[43mkwargs\u001b[49m\u001b[43m)\u001b[49m\n",
      "File \u001b[0;32m/g/data/hh5/public/apps/miniconda3/envs/analysis3-22.10/lib/python3.9/site-packages/xarray/core/dataarray.py:1063\u001b[0m, in \u001b[0;36mDataArray.load\u001b[0;34m(self, **kwargs)\u001b[0m\n\u001b[1;32m   1045\u001b[0m \u001b[38;5;28;01mdef\u001b[39;00m \u001b[38;5;21mload\u001b[39m(\u001b[38;5;28mself\u001b[39m: T_DataArray, \u001b[38;5;241m*\u001b[39m\u001b[38;5;241m*\u001b[39mkwargs) \u001b[38;5;241m-\u001b[39m\u001b[38;5;241m>\u001b[39m T_DataArray:\n\u001b[1;32m   1046\u001b[0m     \u001b[38;5;124;03m\"\"\"Manually trigger loading of this array's data from disk or a\u001b[39;00m\n\u001b[1;32m   1047\u001b[0m \u001b[38;5;124;03m    remote source into memory and return this array.\u001b[39;00m\n\u001b[1;32m   1048\u001b[0m \n\u001b[0;32m   (...)\u001b[0m\n\u001b[1;32m   1061\u001b[0m \u001b[38;5;124;03m    dask.compute\u001b[39;00m\n\u001b[1;32m   1062\u001b[0m \u001b[38;5;124;03m    \"\"\"\u001b[39;00m\n\u001b[0;32m-> 1063\u001b[0m     ds \u001b[38;5;241m=\u001b[39m \u001b[38;5;28;43mself\u001b[39;49m\u001b[38;5;241;43m.\u001b[39;49m\u001b[43m_to_temp_dataset\u001b[49m\u001b[43m(\u001b[49m\u001b[43m)\u001b[49m\u001b[38;5;241;43m.\u001b[39;49m\u001b[43mload\u001b[49m\u001b[43m(\u001b[49m\u001b[38;5;241;43m*\u001b[39;49m\u001b[38;5;241;43m*\u001b[39;49m\u001b[43mkwargs\u001b[49m\u001b[43m)\u001b[49m\n\u001b[1;32m   1064\u001b[0m     new \u001b[38;5;241m=\u001b[39m \u001b[38;5;28mself\u001b[39m\u001b[38;5;241m.\u001b[39m_from_temp_dataset(ds)\n\u001b[1;32m   1065\u001b[0m     \u001b[38;5;28mself\u001b[39m\u001b[38;5;241m.\u001b[39m_variable \u001b[38;5;241m=\u001b[39m new\u001b[38;5;241m.\u001b[39m_variable\n",
      "File \u001b[0;32m/g/data/hh5/public/apps/miniconda3/envs/analysis3-22.10/lib/python3.9/site-packages/xarray/core/dataset.py:746\u001b[0m, in \u001b[0;36mDataset.load\u001b[0;34m(self, **kwargs)\u001b[0m\n\u001b[1;32m    743\u001b[0m \u001b[38;5;28;01mimport\u001b[39;00m \u001b[38;5;21;01mdask\u001b[39;00m\u001b[38;5;21;01m.\u001b[39;00m\u001b[38;5;21;01marray\u001b[39;00m \u001b[38;5;28;01mas\u001b[39;00m \u001b[38;5;21;01mda\u001b[39;00m\n\u001b[1;32m    745\u001b[0m \u001b[38;5;66;03m# evaluate all the dask arrays simultaneously\u001b[39;00m\n\u001b[0;32m--> 746\u001b[0m evaluated_data \u001b[38;5;241m=\u001b[39m \u001b[43mda\u001b[49m\u001b[38;5;241;43m.\u001b[39;49m\u001b[43mcompute\u001b[49m\u001b[43m(\u001b[49m\u001b[38;5;241;43m*\u001b[39;49m\u001b[43mlazy_data\u001b[49m\u001b[38;5;241;43m.\u001b[39;49m\u001b[43mvalues\u001b[49m\u001b[43m(\u001b[49m\u001b[43m)\u001b[49m\u001b[43m,\u001b[49m\u001b[43m \u001b[49m\u001b[38;5;241;43m*\u001b[39;49m\u001b[38;5;241;43m*\u001b[39;49m\u001b[43mkwargs\u001b[49m\u001b[43m)\u001b[49m\n\u001b[1;32m    748\u001b[0m \u001b[38;5;28;01mfor\u001b[39;00m k, data \u001b[38;5;129;01min\u001b[39;00m \u001b[38;5;28mzip\u001b[39m(lazy_data, evaluated_data):\n\u001b[1;32m    749\u001b[0m     \u001b[38;5;28mself\u001b[39m\u001b[38;5;241m.\u001b[39mvariables[k]\u001b[38;5;241m.\u001b[39mdata \u001b[38;5;241m=\u001b[39m data\n",
      "File \u001b[0;32m/g/data/hh5/public/apps/miniconda3/envs/analysis3-22.10/lib/python3.9/site-packages/dask/base.py:599\u001b[0m, in \u001b[0;36mcompute\u001b[0;34m(traverse, optimize_graph, scheduler, get, *args, **kwargs)\u001b[0m\n\u001b[1;32m    596\u001b[0m     keys\u001b[38;5;241m.\u001b[39mappend(x\u001b[38;5;241m.\u001b[39m__dask_keys__())\n\u001b[1;32m    597\u001b[0m     postcomputes\u001b[38;5;241m.\u001b[39mappend(x\u001b[38;5;241m.\u001b[39m__dask_postcompute__())\n\u001b[0;32m--> 599\u001b[0m results \u001b[38;5;241m=\u001b[39m \u001b[43mschedule\u001b[49m\u001b[43m(\u001b[49m\u001b[43mdsk\u001b[49m\u001b[43m,\u001b[49m\u001b[43m \u001b[49m\u001b[43mkeys\u001b[49m\u001b[43m,\u001b[49m\u001b[43m \u001b[49m\u001b[38;5;241;43m*\u001b[39;49m\u001b[38;5;241;43m*\u001b[39;49m\u001b[43mkwargs\u001b[49m\u001b[43m)\u001b[49m\n\u001b[1;32m    600\u001b[0m \u001b[38;5;28;01mreturn\u001b[39;00m repack([f(r, \u001b[38;5;241m*\u001b[39ma) \u001b[38;5;28;01mfor\u001b[39;00m r, (f, a) \u001b[38;5;129;01min\u001b[39;00m \u001b[38;5;28mzip\u001b[39m(results, postcomputes)])\n",
      "File \u001b[0;32m/g/data/hh5/public/apps/miniconda3/envs/analysis3-22.10/lib/python3.9/site-packages/distributed/client.py:3137\u001b[0m, in \u001b[0;36mClient.get\u001b[0;34m(self, dsk, keys, workers, allow_other_workers, resources, sync, asynchronous, direct, retries, priority, fifo_timeout, actors, **kwargs)\u001b[0m\n\u001b[1;32m   3135\u001b[0m         should_rejoin \u001b[38;5;241m=\u001b[39m \u001b[38;5;28;01mFalse\u001b[39;00m\n\u001b[1;32m   3136\u001b[0m \u001b[38;5;28;01mtry\u001b[39;00m:\n\u001b[0;32m-> 3137\u001b[0m     results \u001b[38;5;241m=\u001b[39m \u001b[38;5;28;43mself\u001b[39;49m\u001b[38;5;241;43m.\u001b[39;49m\u001b[43mgather\u001b[49m\u001b[43m(\u001b[49m\u001b[43mpacked\u001b[49m\u001b[43m,\u001b[49m\u001b[43m \u001b[49m\u001b[43masynchronous\u001b[49m\u001b[38;5;241;43m=\u001b[39;49m\u001b[43masynchronous\u001b[49m\u001b[43m,\u001b[49m\u001b[43m \u001b[49m\u001b[43mdirect\u001b[49m\u001b[38;5;241;43m=\u001b[39;49m\u001b[43mdirect\u001b[49m\u001b[43m)\u001b[49m\n\u001b[1;32m   3138\u001b[0m \u001b[38;5;28;01mfinally\u001b[39;00m:\n\u001b[1;32m   3139\u001b[0m     \u001b[38;5;28;01mfor\u001b[39;00m f \u001b[38;5;129;01min\u001b[39;00m futures\u001b[38;5;241m.\u001b[39mvalues():\n",
      "File \u001b[0;32m/g/data/hh5/public/apps/miniconda3/envs/analysis3-22.10/lib/python3.9/site-packages/distributed/client.py:2306\u001b[0m, in \u001b[0;36mClient.gather\u001b[0;34m(self, futures, errors, direct, asynchronous)\u001b[0m\n\u001b[1;32m   2304\u001b[0m \u001b[38;5;28;01melse\u001b[39;00m:\n\u001b[1;32m   2305\u001b[0m     local_worker \u001b[38;5;241m=\u001b[39m \u001b[38;5;28;01mNone\u001b[39;00m\n\u001b[0;32m-> 2306\u001b[0m \u001b[38;5;28;01mreturn\u001b[39;00m \u001b[38;5;28;43mself\u001b[39;49m\u001b[38;5;241;43m.\u001b[39;49m\u001b[43msync\u001b[49m\u001b[43m(\u001b[49m\n\u001b[1;32m   2307\u001b[0m \u001b[43m    \u001b[49m\u001b[38;5;28;43mself\u001b[39;49m\u001b[38;5;241;43m.\u001b[39;49m\u001b[43m_gather\u001b[49m\u001b[43m,\u001b[49m\n\u001b[1;32m   2308\u001b[0m \u001b[43m    \u001b[49m\u001b[43mfutures\u001b[49m\u001b[43m,\u001b[49m\n\u001b[1;32m   2309\u001b[0m \u001b[43m    \u001b[49m\u001b[43merrors\u001b[49m\u001b[38;5;241;43m=\u001b[39;49m\u001b[43merrors\u001b[49m\u001b[43m,\u001b[49m\n\u001b[1;32m   2310\u001b[0m \u001b[43m    \u001b[49m\u001b[43mdirect\u001b[49m\u001b[38;5;241;43m=\u001b[39;49m\u001b[43mdirect\u001b[49m\u001b[43m,\u001b[49m\n\u001b[1;32m   2311\u001b[0m \u001b[43m    \u001b[49m\u001b[43mlocal_worker\u001b[49m\u001b[38;5;241;43m=\u001b[39;49m\u001b[43mlocal_worker\u001b[49m\u001b[43m,\u001b[49m\n\u001b[1;32m   2312\u001b[0m \u001b[43m    \u001b[49m\u001b[43masynchronous\u001b[49m\u001b[38;5;241;43m=\u001b[39;49m\u001b[43masynchronous\u001b[49m\u001b[43m,\u001b[49m\n\u001b[1;32m   2313\u001b[0m \u001b[43m\u001b[49m\u001b[43m)\u001b[49m\n",
      "File \u001b[0;32m/g/data/hh5/public/apps/miniconda3/envs/analysis3-22.10/lib/python3.9/site-packages/distributed/utils.py:338\u001b[0m, in \u001b[0;36mSyncMethodMixin.sync\u001b[0;34m(self, func, asynchronous, callback_timeout, *args, **kwargs)\u001b[0m\n\u001b[1;32m    336\u001b[0m     \u001b[38;5;28;01mreturn\u001b[39;00m future\n\u001b[1;32m    337\u001b[0m \u001b[38;5;28;01melse\u001b[39;00m:\n\u001b[0;32m--> 338\u001b[0m     \u001b[38;5;28;01mreturn\u001b[39;00m \u001b[43msync\u001b[49m\u001b[43m(\u001b[49m\n\u001b[1;32m    339\u001b[0m \u001b[43m        \u001b[49m\u001b[38;5;28;43mself\u001b[39;49m\u001b[38;5;241;43m.\u001b[39;49m\u001b[43mloop\u001b[49m\u001b[43m,\u001b[49m\u001b[43m \u001b[49m\u001b[43mfunc\u001b[49m\u001b[43m,\u001b[49m\u001b[43m \u001b[49m\u001b[38;5;241;43m*\u001b[39;49m\u001b[43margs\u001b[49m\u001b[43m,\u001b[49m\u001b[43m \u001b[49m\u001b[43mcallback_timeout\u001b[49m\u001b[38;5;241;43m=\u001b[39;49m\u001b[43mcallback_timeout\u001b[49m\u001b[43m,\u001b[49m\u001b[43m \u001b[49m\u001b[38;5;241;43m*\u001b[39;49m\u001b[38;5;241;43m*\u001b[39;49m\u001b[43mkwargs\u001b[49m\n\u001b[1;32m    340\u001b[0m \u001b[43m    \u001b[49m\u001b[43m)\u001b[49m\n",
      "File \u001b[0;32m/g/data/hh5/public/apps/miniconda3/envs/analysis3-22.10/lib/python3.9/site-packages/distributed/utils.py:401\u001b[0m, in \u001b[0;36msync\u001b[0;34m(loop, func, callback_timeout, *args, **kwargs)\u001b[0m\n\u001b[1;32m    399\u001b[0m \u001b[38;5;28;01melse\u001b[39;00m:\n\u001b[1;32m    400\u001b[0m     \u001b[38;5;28;01mwhile\u001b[39;00m \u001b[38;5;129;01mnot\u001b[39;00m e\u001b[38;5;241m.\u001b[39mis_set():\n\u001b[0;32m--> 401\u001b[0m         \u001b[43mwait\u001b[49m\u001b[43m(\u001b[49m\u001b[38;5;241;43m10\u001b[39;49m\u001b[43m)\u001b[49m\n\u001b[1;32m    403\u001b[0m \u001b[38;5;28;01mif\u001b[39;00m error:\n\u001b[1;32m    404\u001b[0m     typ, exc, tb \u001b[38;5;241m=\u001b[39m error\n",
      "File \u001b[0;32m/g/data/hh5/public/apps/miniconda3/envs/analysis3-22.10/lib/python3.9/site-packages/distributed/utils.py:390\u001b[0m, in \u001b[0;36msync.<locals>.wait\u001b[0;34m(timeout)\u001b[0m\n\u001b[1;32m    388\u001b[0m \u001b[38;5;28;01mdef\u001b[39;00m \u001b[38;5;21mwait\u001b[39m(timeout):\n\u001b[1;32m    389\u001b[0m     \u001b[38;5;28;01mtry\u001b[39;00m:\n\u001b[0;32m--> 390\u001b[0m         \u001b[38;5;28;01mreturn\u001b[39;00m \u001b[43me\u001b[49m\u001b[38;5;241;43m.\u001b[39;49m\u001b[43mwait\u001b[49m\u001b[43m(\u001b[49m\u001b[43mtimeout\u001b[49m\u001b[43m)\u001b[49m\n\u001b[1;32m    391\u001b[0m     \u001b[38;5;28;01mexcept\u001b[39;00m \u001b[38;5;167;01mKeyboardInterrupt\u001b[39;00m:\n\u001b[1;32m    392\u001b[0m         loop\u001b[38;5;241m.\u001b[39madd_callback(cancel)\n",
      "File \u001b[0;32m/g/data/hh5/public/apps/miniconda3/envs/analysis3-22.10/lib/python3.9/threading.py:581\u001b[0m, in \u001b[0;36mEvent.wait\u001b[0;34m(self, timeout)\u001b[0m\n\u001b[1;32m    579\u001b[0m signaled \u001b[38;5;241m=\u001b[39m \u001b[38;5;28mself\u001b[39m\u001b[38;5;241m.\u001b[39m_flag\n\u001b[1;32m    580\u001b[0m \u001b[38;5;28;01mif\u001b[39;00m \u001b[38;5;129;01mnot\u001b[39;00m signaled:\n\u001b[0;32m--> 581\u001b[0m     signaled \u001b[38;5;241m=\u001b[39m \u001b[38;5;28;43mself\u001b[39;49m\u001b[38;5;241;43m.\u001b[39;49m\u001b[43m_cond\u001b[49m\u001b[38;5;241;43m.\u001b[39;49m\u001b[43mwait\u001b[49m\u001b[43m(\u001b[49m\u001b[43mtimeout\u001b[49m\u001b[43m)\u001b[49m\n\u001b[1;32m    582\u001b[0m \u001b[38;5;28;01mreturn\u001b[39;00m signaled\n",
      "File \u001b[0;32m/g/data/hh5/public/apps/miniconda3/envs/analysis3-22.10/lib/python3.9/threading.py:316\u001b[0m, in \u001b[0;36mCondition.wait\u001b[0;34m(self, timeout)\u001b[0m\n\u001b[1;32m    314\u001b[0m \u001b[38;5;28;01melse\u001b[39;00m:\n\u001b[1;32m    315\u001b[0m     \u001b[38;5;28;01mif\u001b[39;00m timeout \u001b[38;5;241m>\u001b[39m \u001b[38;5;241m0\u001b[39m:\n\u001b[0;32m--> 316\u001b[0m         gotit \u001b[38;5;241m=\u001b[39m \u001b[43mwaiter\u001b[49m\u001b[38;5;241;43m.\u001b[39;49m\u001b[43macquire\u001b[49m\u001b[43m(\u001b[49m\u001b[38;5;28;43;01mTrue\u001b[39;49;00m\u001b[43m,\u001b[49m\u001b[43m \u001b[49m\u001b[43mtimeout\u001b[49m\u001b[43m)\u001b[49m\n\u001b[1;32m    317\u001b[0m     \u001b[38;5;28;01melse\u001b[39;00m:\n\u001b[1;32m    318\u001b[0m         gotit \u001b[38;5;241m=\u001b[39m waiter\u001b[38;5;241m.\u001b[39macquire(\u001b[38;5;28;01mFalse\u001b[39;00m)\n",
      "\u001b[0;31mKeyboardInterrupt\u001b[0m: "
     ]
    }
   ],
   "source": [
    "#load observational SST\n",
    "hadsst = xr.open_dataset(\"/g/data/e14/sm2435/Pacemaker/HadISST_sst.nc\", chunks = {'time':12}).sst\n",
    "hadsst = hadsst.sortby(hadsst.latitude, ascending=True)\n",
    "#rename coords\n",
    "hadsst =hadsst.sel(time = slice(\"1950-01-01\", \"2022-12-31\"))\n",
    "hadsst = hadsst.compute()"
   ]
  },
  {
   "cell_type": "code",
   "execution_count": null,
   "id": "0fb2af3b-126f-4ee2-b037-7ff9afb887ed",
   "metadata": {
    "tags": []
   },
   "outputs": [],
   "source": [
    "hadsst1 = xr.where(hadsst == -1000, np.nan, hadsst)"
   ]
  },
  {
   "cell_type": "code",
   "execution_count": null,
   "id": "a73afe61-fc0a-47f2-9888-edeadb9eb28b",
   "metadata": {
    "tags": []
   },
   "outputs": [],
   "source": [
    "def roll_lon(df):\n",
    "    df.coords['longitude'] = (df.coords['longitude']+360) % 360 #- 180\n",
    "    df = df.sortby(df.longitude)\n",
    "    return df"
   ]
  },
  {
   "cell_type": "code",
   "execution_count": null,
   "id": "ee815898-f962-403a-bec7-04ba435be85b",
   "metadata": {
    "tags": []
   },
   "outputs": [],
   "source": [
    "hadsst1 = roll_lon(hadsst1)"
   ]
  },
  {
   "cell_type": "code",
   "execution_count": null,
   "id": "3e10dd9f-0065-4782-b97f-6c4dc672485c",
   "metadata": {
    "tags": []
   },
   "outputs": [],
   "source": [
    "hadsst1[0].plot()"
   ]
  },
  {
   "cell_type": "code",
   "execution_count": null,
   "id": "f4b8e24e-6770-43c5-80f1-8c2b8592cd25",
   "metadata": {
    "tags": []
   },
   "outputs": [],
   "source": [
    "def ssta(DS):\n",
    "    #DEFINE SSTA RELATIVE TO 1990-2005 MEAN\n",
    "    clim = DS.sel(time = slice(\"1990-01-01\", \"2005-12-31\")).groupby('time.month').mean('time')\n",
    "    ssta = DS.groupby('time.month') - clim\n",
    "    return ssta.drop(\"month\")"
   ]
  },
  {
   "cell_type": "code",
   "execution_count": null,
   "id": "d2715057-fceb-4958-9155-b4058eff9330",
   "metadata": {
    "tags": []
   },
   "outputs": [],
   "source": [
    "def EP_CP_index(DS):\n",
    "    \"\"\"\n",
    "    Calculate the Eastern Pacific (EP) and Central Pacific (CP) indices \n",
    "    based on the first two principal components (PCs) from an EOF analysis \n",
    "    of sea surface temperature anomalies (SSTAs), with adjustments based \n",
    "    on the sign of the EOFs at a specific location (250° longitude, 0° latitude).\n",
    "\n",
    "    The function first computes the SST anomalies over a specified region \n",
    "    (140° to 280° longitude, -15° to 15° latitude) and then performs an EOF analysis.\n",
    "    The sign of the first two EOFs at the specified location is used to adjust\n",
    "    the sign of the corresponding PCs. The EP and CP indices are then calculated \n",
    "    from these adjusted PCs.\n",
    "\n",
    "    Parameters:\n",
    "    -----------\n",
    "    DS : xarray.Dataset\n",
    "        A dataset containing sea surface temperature data. The dataset should \n",
    "        include 'xt_ocean' and 'yt_ocean' coordinates.\n",
    "\n",
    "    Returns:\n",
    "    --------\n",
    "    tuple of xarray.DataArray\n",
    "        A tuple containing the EP and CP indices as xarray.DataArray objects.\n",
    "\n",
    "    Notes:\n",
    "    ------\n",
    "    - The function assumes that the input dataset 'DS' has the necessary \n",
    "      fields and coordinates for the EOF analysis.\n",
    "    - The SST anomaly is calculated internally within the function; \n",
    "      hence, 'DS' should contain absolute SST values.\n",
    "    - The function uses the 'eofs.xarray' package for EOF analysis.\n",
    "    - The weights for the EOF analysis are calculated as the square root \n",
    "      of the cosine of latitude.\n",
    "\n",
    "    Example:\n",
    "    --------\n",
    "    >>> ds = xr.open_dataset('sst_data.nc')\n",
    "    >>> ep_index, cp_index = EP_CP_index(ds)\n",
    "    >>> print(ep_index, cp_index)\n",
    "    \"\"\"\n",
    "    # Compute SST anomaly and select region\n",
    "    DS = roll_lon(DS)\n",
    "    sst_anom = ssta(DS)\n",
    "    sst_anom = sst_anom.sel(longitude=slice(140, 280), latitude=slice(-15, 15))\n",
    "    coslat = np.cos(np.deg2rad(sst_anom.coords['latitude'].values))\n",
    "    wgts = np.sqrt(coslat)[..., np.newaxis]\n",
    "\n",
    "    # EOF analysis\n",
    "    solver = Eof(sst_anom, weights=wgts)\n",
    "    pcs = solver.pcs(npcs=2, pcscaling=1)\n",
    "\n",
    "    # Calculate EOFs\n",
    "    eofs_ = solver.eofsAsCovariance(neofs=4)\n",
    "    \n",
    "    # Check sign of EOFs at specific location\n",
    "    eof1_val = eofs_.sel(mode=0, longitude=250, latitude=0, method=\"nearest\").values\n",
    "    eof2_val = eofs_.sel(mode=1, longitude=250, latitude=0, method=\"nearest\").values\n",
    "\n",
    "    # Adjust PCs based on EOF sign\n",
    "    if eof1_val < 0:\n",
    "        pc1= -pcs[:, 0]\n",
    "    else:\n",
    "        pc1 = pcs[:, 0]\n",
    "    if eof2_val < 0:\n",
    "        pc2 = pcs[:, 1]\n",
    "    else:\n",
    "        pc2 = -pcs[:, 1]\n",
    "\n",
    "    # Calculate indices\n",
    "    EP = (pc1 - pc2) / np.sqrt(2)\n",
    "    CP = (pc1 + pc2) / np.sqrt(2)\n",
    "\n",
    "    return EP, CP"
   ]
  },
  {
   "cell_type": "code",
   "execution_count": null,
   "id": "2f70120c-758a-4d09-9af4-9f8613466177",
   "metadata": {
    "tags": []
   },
   "outputs": [],
   "source": [
    "def EP_CP_events(DS):\n",
    "    EP, CP = EP_CP_index(DS)\n",
    "    # Select SON seasons into a timeseries\n",
    "    E_DJF = EP.resample(time='QS-DEC').mean(dim=\"time\").groupby('time.season')[\"DJF\"]\n",
    "    C_DJF = CP.resample(time='QS-DEC').mean(dim=\"time\").groupby('time.season')[\"DJF\"]\n",
    "    #get the Ep and CP events\n",
    "    TH_E = E_DJF.std()\n",
    "    EP_e = E_DJF.where(E_DJF >1* TH_E.values).dropna(dim=\"time\")\n",
    "    TH_C = C_DJF.std()\n",
    "    CP_e = C_DJF.where(C_DJF >1* TH_C.values).dropna(dim=\"time\")\n",
    "    return EP_e.groupby('time.year').mean(\"time\").year, CP_e.groupby('time.year').mean(\"time\").year"
   ]
  },
  {
   "cell_type": "code",
   "execution_count": null,
   "id": "d2787fa3-fafb-403d-bed3-c1f96a12c79d",
   "metadata": {
    "tags": []
   },
   "outputs": [],
   "source": [
    "def get_EPCP_times(ds_sst, ds_var=None):\n",
    "\n",
    "    EP, CP = EP_CP_events(ds_sst)\n",
    "    \n",
    "    # Calculate the mean year for LN and EN\n",
    "    EP_E = EP\n",
    "    CP_E = CP\n",
    "    \n",
    "    # If ds_var is not provided, use ds_sst\n",
    "    if ds_var is None:\n",
    "        ds_var = ssta(ds_sst)\n",
    "    \n",
    "        \n",
    "    # Initialize empty lists to store subsets\n",
    "    epos_list = []\n",
    "    epos_list2 = []\n",
    "    cpos_list = []\n",
    "    cpos_list2 = []    \n",
    "    # Loop through each year group in ds_var and subset based on specific years in LN and EN\n",
    "    for year, group in ds_var.groupby(\"time.year\"):\n",
    "        try:\n",
    "            if year in EP_E:\n",
    "                pos_subset = group\n",
    "                epos_list.append(pos_subset)\n",
    "                epos_list2.append(ds_var.groupby(\"time.year\")[year+1])\n",
    "            elif year in CP_E:\n",
    "                pos_subset = group\n",
    "                cpos_list.append(pos_subset)\n",
    "                cpos_list2.append(ds_var.groupby(\"time.year\")[year+1])\n",
    "            else:\n",
    "                pass\n",
    "        except:\n",
    "            print(\"some error, probs year is no in timeseries\", year)\n",
    "    \n",
    "    # Concatenate subsets into a single DataArray\n",
    "    esubset_ds_pos = xr.concat(epos_list, dim='time')\n",
    "    esubset_ds_pos2 = xr.concat(epos_list2, dim='time')\n",
    "    \n",
    "    csubset_ds_pos = xr.concat(cpos_list, dim='time')\n",
    "    csubset_ds_pos2 = xr.concat(cpos_list2, dim='time')\n",
    "    \n",
    "    #now groupby month to get the monhtly evolution of EP and CP events\n",
    "    esubset_ds_pos = esubset_ds_pos.groupby(\"time.month\").mean(\"time\")\n",
    "    esubset_ds_pos2 = esubset_ds_pos2.groupby(\"time.month\").mean(\"time\")\n",
    "    csubset_ds_pos = csubset_ds_pos.groupby(\"time.month\").mean(\"time\")\n",
    "    csubset_ds_pos2 = csubset_ds_pos2.groupby(\"time.month\").mean(\"time\")\n",
    "       \n",
    "    return esubset_ds_pos, esubset_ds_pos2, csubset_ds_pos, csubset_ds_pos2"
   ]
  },
  {
   "cell_type": "code",
   "execution_count": null,
   "id": "d8ed691c-01e0-4452-ba70-39da3df495d2",
   "metadata": {
    "tags": []
   },
   "outputs": [],
   "source": [
    "ep1, ep2, cp1, cp2 = get_EPCP_times(hadsst1)"
   ]
  },
  {
   "cell_type": "code",
   "execution_count": null,
   "id": "9e7380ef-55f5-4c9f-9dc0-1d1f2a1fee13",
   "metadata": {
    "tags": []
   },
   "outputs": [],
   "source": [
    "#now erode the coastlines a bit and use the "
   ]
  },
  {
   "cell_type": "code",
   "execution_count": null,
   "id": "9b2cc0ce-342a-4d97-9407-8339a4d9a13c",
   "metadata": {
    "tags": []
   },
   "outputs": [],
   "source": [
    "def erode_coastlines(da):\n",
    "    # Create a mask of NaN values\n",
    "    nan_mask = np.isnan(da[0])\n",
    "    # Create a mask of ocean points (i.e., non-NaN)\n",
    "    ocean_mask = (~nan_mask)\n",
    "    # Create a mask of points that are NaN and surrounded by at least one ocean point\n",
    "    replace_mask = nan_mask & (\n",
    "        ocean_mask.shift(latitude=1, fill_value=False) | \n",
    "        ocean_mask.shift(latitude=-1, fill_value=False) | \n",
    "        ocean_mask.shift(longitude=1, fill_value=False) | \n",
    "        ocean_mask.shift(longitude=-1, fill_value=False) | \n",
    "        ocean_mask.shift(latitude=1, longitude=1, fill_value=False) | \n",
    "        ocean_mask.shift(latitude=1, longitude=-1, fill_value=False) | \n",
    "        ocean_mask.shift(latitude=-1, longitude=-1, fill_value=False) | \n",
    "        ocean_mask.shift(latitude=-1, longitude=1, fill_value=False)\n",
    "    )\n",
    "    #create values of rolling mean of the area surrounding the points\n",
    "    rep = da.rolling(latitude=3, longitude=3, center=True, min_periods=1).mean()\n",
    "    #mask da with averaged points\n",
    "    da_eroded = da.where(~replace_mask, rep)\n",
    "    return da_eroded"
   ]
  },
  {
   "cell_type": "code",
   "execution_count": null,
   "id": "766f6eab-4b63-4964-b533-b8647ebf3773",
   "metadata": {
    "tags": []
   },
   "outputs": [],
   "source": [
    "ep1 = erode_coastlines(ep1)\n",
    "ep2 = erode_coastlines(ep2)\n",
    "cp1 = erode_coastlines(cp1)\n",
    "cp2 = erode_coastlines(cp2)"
   ]
  },
  {
   "cell_type": "code",
   "execution_count": null,
   "id": "3b35ed64-4401-42fa-91ad-640fb52f6b1f",
   "metadata": {
    "tags": []
   },
   "outputs": [],
   "source": [
    "def roll_lon2ACCESS(df):\n",
    "    # Make a copy of the input array\n",
    "    df_copy = df.copy(deep=True)\n",
    "    \n",
    "    # Modify longitude for the copied array\n",
    "    df_copy.coords['longitude'] = (df_copy.coords['longitude']-180)# %360\n",
    "    df_copy = df_copy.sortby(df_copy.longitude)\n",
    "    \n",
    "    return df_copy"
   ]
  },
  {
   "cell_type": "code",
   "execution_count": null,
   "id": "1c43dfe6-334f-4a9d-9d7d-e9b5a93b7c1f",
   "metadata": {
    "tags": []
   },
   "outputs": [],
   "source": [
    "ep1 = roll_lon2ACCESS(ep1)\n",
    "ep2 = roll_lon2ACCESS(ep2)\n",
    "cp1 = roll_lon2ACCESS(cp1)\n",
    "cp2 = roll_lon2ACCESS(cp2)"
   ]
  },
  {
   "cell_type": "code",
   "execution_count": null,
   "id": "4c75e7d7-5117-4b68-91ad-03096f37ff0c",
   "metadata": {
    "tags": []
   },
   "outputs": [],
   "source": [
    "#now lets load in the SST climatology and add the composites to get the evolution of model_clim + EP(CP) El Nino"
   ]
  },
  {
   "cell_type": "code",
   "execution_count": null,
   "id": "72304950-729d-4b00-8631-04b6e608f468",
   "metadata": {
    "tags": []
   },
   "outputs": [],
   "source": [
    "model_clim = xr.open_dataset(\"/g/data/e14/sm2435/Pacemaker/global_sst_restoring_cm000_climatology_0951-1150.nc\", decode_cf=False)"
   ]
  },
  {
   "cell_type": "code",
   "execution_count": null,
   "id": "418f2b11-4f18-4d3d-8a49-5800a169a4d6",
   "metadata": {
    "tags": []
   },
   "outputs": [],
   "source": [
    "#write regridder"
   ]
  },
  {
   "cell_type": "code",
   "execution_count": null,
   "id": "08106a8c-b2aa-4543-bdb8-6eb7af2bcb55",
   "metadata": {
    "tags": []
   },
   "outputs": [],
   "source": [
    "grid_in = xe.util.grid_2d(0.0, 360.0, 1.0, -90.0, 90.0, 1.0)"
   ]
  },
  {
   "cell_type": "code",
   "execution_count": null,
   "id": "6340a915-94e5-4d0a-ba27-a6fccf0a3ee0",
   "metadata": {
    "tags": []
   },
   "outputs": [],
   "source": [
    "grid_in"
   ]
  },
  {
   "cell_type": "code",
   "execution_count": null,
   "id": "0fd5a8a2-14f4-4804-a607-602bf870bd07",
   "metadata": {
    "tags": []
   },
   "outputs": [],
   "source": [
    "ds_out = xr.Dataset(\n",
    "    {\n",
    "        \"lat\": ([\"lat\"], model_clim.GRID_Y_T.values, {\"units\": \"degrees_north\"}),\n",
    "        \"lon\": ([\"lon\"], model_clim.GRID_X_T.values, {\"units\": \"degrees_east\"}),\n",
    "    }\n",
    ")\n",
    "ds_out\n"
   ]
  },
  {
   "cell_type": "code",
   "execution_count": null,
   "id": "5a90a090-b0db-4950-a631-1cadb5c89ed4",
   "metadata": {
    "tags": []
   },
   "outputs": [],
   "source": [
    "RG = xe.Regridder(grid_in, ds_out, method = 'conservative_normed', periodic=True)"
   ]
  },
  {
   "cell_type": "code",
   "execution_count": null,
   "id": "c4f6bfec-f8b8-4cdd-88a2-75f1ff863e71",
   "metadata": {
    "tags": []
   },
   "outputs": [],
   "source": [
    "RG"
   ]
  },
  {
   "cell_type": "code",
   "execution_count": null,
   "id": "bf52cc17-8fdc-4d39-8614-a8060398d034",
   "metadata": {
    "tags": []
   },
   "outputs": [],
   "source": [
    "def regrid_meta(da):\n",
    "    da = RG(da)\n",
    "    da = da.rename({\"lon\": \"GRID_X_T\", \"lat\": \"GRID_Y_T\", \"month\": \"TIME\"})\n",
    "    da = da.expand_dims(dim =  {\"DEPTH1_1\":model_clim.DEPTH1_1})\n",
    "    da = da.assign_coords({\"GRID_X_T\": model_clim.GRID_X_T, \"GRID_Y_T\": model_clim.GRID_Y_T, \"TIME\":model_clim.TIME, \"DEPTH1_1\":model_clim.DEPTH1_1})\n",
    "    da = da.assign_attrs({\"long_name\": \"Climatology SST restoring\", \"units\": \"degrees K\", \"valid_range\": np.array([-10., 500.], dtype=np.float32)})\n",
    "    #da = da.to_dataset(name = 'temp')\n",
    "    #da = da[[\"TIME\", \"DEPTH1_1\", \"GRID_Y_T\", \"GRID_X_T\", \"temp\"]]\n",
    "    return da"
   ]
  },
  {
   "cell_type": "code",
   "execution_count": null,
   "id": "9aed72a3-97fe-4671-bb7d-0ec5595fce71",
   "metadata": {},
   "outputs": [],
   "source": [
    "#now lets regrid and save our SST restroing files"
   ]
  },
  {
   "cell_type": "code",
   "execution_count": null,
   "id": "c22105ba-c203-4583-a3ee-acb1dbbf3d8e",
   "metadata": {
    "tags": []
   },
   "outputs": [],
   "source": [
    "EP1 = regrid_meta(ep1)\n",
    "EP2 = regrid_meta(ep2)\n",
    "CP1 = regrid_meta(cp1)\n",
    "CP2 = regrid_meta(cp2)"
   ]
  },
  {
   "cell_type": "code",
   "execution_count": null,
   "id": "164b1c46-3b85-4e10-b4da-c2491ef0002d",
   "metadata": {
    "tags": []
   },
   "outputs": [],
   "source": [
    "def mask_jan_apr(da):\n",
    "    da = da.where((da.TIME > 4*30) | da.isnull(), other=0)\n",
    "    return da"
   ]
  },
  {
   "cell_type": "code",
   "execution_count": null,
   "id": "95724dfd-3f5b-41f8-8c04-fde9e7e10df1",
   "metadata": {
    "tags": []
   },
   "outputs": [],
   "source": [
    "#mask jan-apr for year 1"
   ]
  },
  {
   "cell_type": "code",
   "execution_count": null,
   "id": "9a7e0474-3022-4ab5-8fc6-4ada8c612b2d",
   "metadata": {
    "tags": []
   },
   "outputs": [],
   "source": [
    "EP1 = mask_jan_apr(EP1)\n",
    "CP1 = mask_jan_apr(CP1)\n"
   ]
  },
  {
   "cell_type": "code",
   "execution_count": null,
   "id": "6212c060-6781-4ad9-bf33-8dff8ca3b5a8",
   "metadata": {
    "tags": []
   },
   "outputs": [],
   "source": [
    "EP1[0,0].plot()"
   ]
  },
  {
   "cell_type": "code",
   "execution_count": null,
   "id": "cdfaf45a-eb3d-4a12-8104-ef27b52ce8e2",
   "metadata": {
    "tags": []
   },
   "outputs": [],
   "source": [
    "#now add to model cliamtology and assign attributes"
   ]
  },
  {
   "cell_type": "code",
   "execution_count": null,
   "id": "fce3897b-dadb-4262-af7d-f2d61c91cc74",
   "metadata": {
    "tags": []
   },
   "outputs": [],
   "source": [
    "EP1_clim = EP1+model_clim.temp\n",
    "EP2_clim = EP2+model_clim.temp\n",
    "CP1_clim = CP1+model_clim.temp\n",
    "CP2_clim = CP2+model_clim.temp"
   ]
  },
  {
   "cell_type": "code",
   "execution_count": null,
   "id": "408ec33f-9428-42d2-bfcf-a3b9aaa2b7dc",
   "metadata": {
    "tags": []
   },
   "outputs": [],
   "source": [
    "EP1_clim = EP1_clim[0].drop(\"DEPTH1_1\")"
   ]
  },
  {
   "cell_type": "code",
   "execution_count": null,
   "id": "1848a51a-7219-427e-a4f4-9a77a7ada311",
   "metadata": {
    "tags": []
   },
   "outputs": [],
   "source": [
    "EP2_clim = EP2_clim[0].drop(\"DEPTH1_1\")"
   ]
  },
  {
   "cell_type": "code",
   "execution_count": null,
   "id": "47788b06-32f7-4e09-9f36-6fea5aa6b17c",
   "metadata": {
    "tags": []
   },
   "outputs": [],
   "source": [
    "EP1_clim = EP1_clim.rename({\"GRID_X_T\":\"longitude\", \"GRID_Y_T\":\"latitude\", \"TIME\":\"month\"})\n",
    "EP2_clim = EP2_clim.rename({\"GRID_X_T\":\"longitude\", \"GRID_Y_T\":\"latitude\", \"TIME\":\"month\"})\n"
   ]
  },
  {
   "cell_type": "code",
   "execution_count": null,
   "id": "60e14224-2f3d-4b50-a35b-5a0b302dfe8c",
   "metadata": {
    "tags": []
   },
   "outputs": [],
   "source": [
    "CP1_clim = CP1_clim[0].drop(\"DEPTH1_1\")"
   ]
  },
  {
   "cell_type": "code",
   "execution_count": null,
   "id": "d3d2e1f8-d573-46f1-a1cb-49db229027fe",
   "metadata": {
    "tags": []
   },
   "outputs": [],
   "source": [
    "CP2_clim = CP2_clim[0].drop(\"DEPTH1_1\")"
   ]
  },
  {
   "cell_type": "code",
   "execution_count": null,
   "id": "c920695d-5aad-4d34-a9c3-b4b83142f1f0",
   "metadata": {
    "tags": []
   },
   "outputs": [],
   "source": [
    "CP1_clim = CP1_clim.rename({\"GRID_X_T\":\"longitude\", \"GRID_Y_T\":\"latitude\", \"TIME\":\"month\"})\n",
    "CP2_clim = CP2_clim.rename({\"GRID_X_T\":\"longitude\", \"GRID_Y_T\":\"latitude\", \"TIME\":\"month\"})\n"
   ]
  },
  {
   "cell_type": "code",
   "execution_count": null,
   "id": "29aeb968-f7c4-4a91-a771-823156521f80",
   "metadata": {
    "tags": []
   },
   "outputs": [],
   "source": [
    "def ssta(DS):\n",
    "    clim = DS.groupby('time.month').mean('time')\n",
    "    ssta = DS.groupby('time.month') - clim\n",
    "    return ssta.drop(\"month\")\n",
    "def nino34(DS):\n",
    "    nino = (DS).sel(latitude=slice(-5, 5),longitude=slice(-170, -120)).mean(['latitude', 'longitude'])\n",
    "    return  nino"
   ]
  },
  {
   "cell_type": "code",
   "execution_count": null,
   "id": "b96f1e9e-8ff9-40f7-9a50-2965dadf42d9",
   "metadata": {
    "tags": []
   },
   "outputs": [],
   "source": [
    "EP_n34_1 = nino34(EP1_clim)\n",
    "EP_n34_2 = nino34(EP2_clim)"
   ]
  },
  {
   "cell_type": "code",
   "execution_count": null,
   "id": "613b675c-a1dd-4ed0-8ed7-ab3e25c92069",
   "metadata": {
    "tags": []
   },
   "outputs": [],
   "source": [
    "CP_n34_1 = nino34(CP1_clim)\n",
    "CP_n34_2 = nino34(CP2_clim)"
   ]
  },
  {
   "cell_type": "code",
   "execution_count": null,
   "id": "b8323b2f-3d0d-4705-9acb-aebe54c409ee",
   "metadata": {
    "tags": []
   },
   "outputs": [],
   "source": [
    "#assign the dates from year 2000 (incl leap years...)"
   ]
  },
  {
   "cell_type": "code",
   "execution_count": null,
   "id": "6e9d7ebd-00f3-448f-a599-09da251fc10d",
   "metadata": {
    "tags": []
   },
   "outputs": [],
   "source": [
    "times = hadsst1.sel(time = slice(\"1998-01-01\", \"1998-12-31\")).time\n",
    "times2 = hadsst1.sel(time = slice(\"1999-01-01\", \"1999-12-31\")).time\n"
   ]
  },
  {
   "cell_type": "code",
   "execution_count": null,
   "id": "3698afc3-216a-4d04-a7b9-3a69a4fdae28",
   "metadata": {
    "tags": []
   },
   "outputs": [],
   "source": [
    "EP_n34_1 = EP_n34_1.rename({\"month\": \"time\"})\n",
    "EP_n34_2 = EP_n34_2.rename({\"month\": \"time\"})\n",
    "CP_n34_1 = CP_n34_1.rename({\"month\": \"time\"})\n",
    "CP_n34_2 = CP_n34_2.rename({\"month\": \"time\"})"
   ]
  },
  {
   "cell_type": "code",
   "execution_count": null,
   "id": "70998e01-2bd2-4355-8a45-a79929263d3e",
   "metadata": {
    "tags": []
   },
   "outputs": [],
   "source": [
    "EP_n34_1 = EP_n34_1.assign_coords({\"time\": times})\n",
    "EP_n34_2 = EP_n34_2.assign_coords({\"time\": times2})\n",
    "CP_n34_1 = CP_n34_1.assign_coords({\"time\": times})\n",
    "CP_n34_2 = CP_n34_2.assign_coords({\"time\": times2})\n"
   ]
  },
  {
   "cell_type": "code",
   "execution_count": null,
   "id": "0192740e-a50a-4915-b195-ae00e5fc21d2",
   "metadata": {
    "tags": []
   },
   "outputs": [],
   "source": [
    "#now to add the last timestep to an earlier time and the first to a later time"
   ]
  },
  {
   "cell_type": "code",
   "execution_count": null,
   "id": "de4d5e83-c8c0-4604-9e45-7349490f757f",
   "metadata": {
    "tags": []
   },
   "outputs": [
    {
     "name": "stderr",
     "output_type": "stream",
     "text": [
      "2024-05-08 20:47:33,895 - distributed.nanny - WARNING - Restarting worker\n"
     ]
    }
   ],
   "source": [
    "times_first1 = hadsst1.sel(time = (\"1997-12-16\")).time\n",
    "time_last1 = hadsst1.sel(time = (\"1999-01-16\")).time\n",
    "\n",
    "times_first2 = hadsst1.sel(time = (\"1998-12-16\")).time\n",
    "time_last2 = hadsst1.sel(time = (\"2000-01-16\")).time"
   ]
  },
  {
   "cell_type": "code",
   "execution_count": 49,
   "id": "bc59d3c9-ab7e-40e6-80f5-a3279f9052e8",
   "metadata": {
    "tags": []
   },
   "outputs": [],
   "source": [
    "first_1ep = EP_n34_1[-1]\n",
    "last_1ep = EP_n34_1[0]"
   ]
  },
  {
   "cell_type": "code",
   "execution_count": 61,
   "id": "d9dbc9c5-ffe0-487f-bd80-66a8f2d74efe",
   "metadata": {
    "tags": []
   },
   "outputs": [],
   "source": [
    "first_time_da_ep = xr.DataArray(float(first_1ep.values), coords={'time': times_first1.values}, dims=['time'])\n",
    "last_time_da_ep = xr.DataArray(float(last_1ep.values), coords={'time': time_last1.values}, dims=['time'])"
   ]
  },
  {
   "cell_type": "code",
   "execution_count": 62,
   "id": "ee8b073f-0193-4c80-9f87-fb3e6d87d36a",
   "metadata": {
    "tags": []
   },
   "outputs": [],
   "source": [
    "first_2ep = EP_n34_2[-1]\n",
    "last_2ep = EP_n34_2[0]"
   ]
  },
  {
   "cell_type": "code",
   "execution_count": 63,
   "id": "fe931534-7a57-4a94-a8ca-6efd17c1086a",
   "metadata": {
    "tags": []
   },
   "outputs": [],
   "source": [
    "first_time_da2_ep = xr.DataArray(float(first_2ep.values), coords={'time': times_first2.values}, dims=['time'])\n",
    "last_time_da2_ep = xr.DataArray(float(first_2ep.values), coords={'time': time_last2.values}, dims=['time'])"
   ]
  },
  {
   "cell_type": "code",
   "execution_count": 64,
   "id": "cbb36ae4-499e-485e-a261-5d51bbea2c5d",
   "metadata": {
    "tags": []
   },
   "outputs": [],
   "source": [
    "new_da_EP1 = xr.concat([first_time_da_ep, EP_n34_1, last_time_da_ep], dim = \"time\")"
   ]
  },
  {
   "cell_type": "code",
   "execution_count": 65,
   "id": "7ec45277-abe0-495d-a72b-ad1965a39e78",
   "metadata": {
    "tags": []
   },
   "outputs": [],
   "source": [
    "new_da2_EP2 = xr.concat([first_time_da2_ep, EP_n34_2, last_time_da2_ep], dim = \"time\")"
   ]
  },
  {
   "cell_type": "code",
   "execution_count": 67,
   "id": "54720ddf-4de7-44cd-af14-52071adaa6c9",
   "metadata": {
    "tags": []
   },
   "outputs": [],
   "source": [
    "first_1cp = CP_n34_1[-1]\n",
    "last_1cp = CP_n34_1[0]"
   ]
  },
  {
   "cell_type": "code",
   "execution_count": 68,
   "id": "da5d84cd-3d68-4e29-b7ec-0e2718dcafce",
   "metadata": {
    "tags": []
   },
   "outputs": [],
   "source": [
    "first_time_da_cp = xr.DataArray(float(first_1cp.values), coords={'time': times_first1.values}, dims=['time'])\n",
    "last_time_da_cp = xr.DataArray(float(last_1cp.values), coords={'time': time_last1.values}, dims=['time'])"
   ]
  },
  {
   "cell_type": "code",
   "execution_count": 69,
   "id": "da62dd39-be7b-4fdf-856c-38f8302a1fd5",
   "metadata": {
    "tags": []
   },
   "outputs": [],
   "source": [
    "first_2cp = CP_n34_2[-1]\n",
    "last_2cp = CP_n34_2[0]"
   ]
  },
  {
   "cell_type": "code",
   "execution_count": 70,
   "id": "e36181f1-0dcd-4b03-97c8-b61b969a70a3",
   "metadata": {
    "tags": []
   },
   "outputs": [],
   "source": [
    "first_time_da2_cp = xr.DataArray(float(first_2cp.values), coords={'time': times_first2.values}, dims=['time'])\n",
    "last_time_da2_cp = xr.DataArray(float(first_2cp.values), coords={'time': time_last2.values}, dims=['time'])"
   ]
  },
  {
   "cell_type": "code",
   "execution_count": 71,
   "id": "84fc2900-8346-4e48-967e-658c4c5d4d84",
   "metadata": {
    "tags": []
   },
   "outputs": [],
   "source": [
    "new_da_CP1 = xr.concat([first_time_da_cp, CP_n34_1, last_time_da_cp], dim = \"time\")"
   ]
  },
  {
   "cell_type": "code",
   "execution_count": 72,
   "id": "78cc22fe-d394-4464-a222-b9642f507903",
   "metadata": {
    "tags": []
   },
   "outputs": [],
   "source": [
    "new_da2_CP2 = xr.concat([first_time_da2_cp, CP_n34_2, last_time_da2_cp], dim = \"time\")"
   ]
  },
  {
   "cell_type": "code",
   "execution_count": null,
   "id": "dc964b45-ae0f-4298-92ea-b1978ccd1c67",
   "metadata": {},
   "outputs": [],
   "source": []
  },
  {
   "cell_type": "code",
   "execution_count": 75,
   "id": "c2cb89e0-8bd1-45b1-b1b6-4da565ee4c7b",
   "metadata": {
    "tags": []
   },
   "outputs": [
    {
     "data": {
      "text/plain": [
       "<matplotlib.legend.Legend at 0x146c1c4dcf40>"
      ]
     },
     "execution_count": 75,
     "metadata": {},
     "output_type": "execute_result"
    },
    {
     "data": {
      "image/png": "[encoded data removed]",
      "text/plain": [
       "<Figure size 800x400 with 1 Axes>"
      ]
     },
     "metadata": {},
     "output_type": "display_data"
    }
   ],
   "source": [
    "plt.figure(figsize = (8,4))\n",
    "CP_n34_1.plot.scatter(label = \"restore year 1 CP\")\n",
    "CP_n34_2.plot.scatter(label = \"restore year 2 CP\")\n",
    "\n",
    "new_da_CP1.resample(time=\"1D\").interpolate(\"linear\").sel(time = slice(\"1998-01-01\", \"1998-12-31\")).plot()\n",
    "new_da2_CP2.resample(time=\"1D\").interpolate(\"linear\").sel(time = slice(\"1999-01-01\", \"1999-12-31\")).plot()\n",
    "\n",
    "EP_n34_1.plot.scatter(label = \"restore year 1 EP\")\n",
    "EP_n34_2.plot.scatter(label = \"restore year 2 EP\")\n",
    "\n",
    "new_da_EP1.resample(time=\"1D\").interpolate(\"linear\").sel(time = slice(\"1998-01-01\", \"1998-12-31\")).plot()\n",
    "new_da2_EP2.resample(time=\"1D\").interpolate(\"linear\").sel(time = slice(\"1999-01-01\", \"1999-12-31\")).plot()\n",
    "plt.title(\"Restore values and interpolation over 2 year ensemble\")\n",
    "plt.ylabel(\"SST restore value [K]\")\n",
    "plt.legend()"
   ]
  },
  {
   "cell_type": "code",
   "execution_count": null,
   "id": "41fd1fdf-3c0a-4fab-88f5-6cd949478c79",
   "metadata": {},
   "outputs": [],
   "source": []
  }
 ],
 "metadata": {
  "kernelspec": {
   "display_name": "Python 3 (ipykernel)",
   "language": "python",
   "name": "python3"
  },
  "language_info": {
   "codemirror_mode": {
    "name": "ipython",
    "version": 3
   },
   "file_extension": ".py",
   "mimetype": "text/x-python",
   "name": "python",
   "nbconvert_exporter": "python",
   "pygments_lexer": "ipython3",
   "version": "3.9.15"
  }
 },
 "nbformat": 4,
 "nbformat_minor": 5
}
