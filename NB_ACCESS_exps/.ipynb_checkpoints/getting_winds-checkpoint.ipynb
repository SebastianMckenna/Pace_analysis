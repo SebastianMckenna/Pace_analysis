{
 "cells": [
  {
   "cell_type": "code",
   "execution_count": 1,
   "id": "20414f99-5f45-4dd5-bfdb-e7f2967cd778",
   "metadata": {
    "tags": []
   },
   "outputs": [],
   "source": [
    "import xarray as xr\n",
    "import xesmf as xe\n",
    "import numpy as np\n",
    "%matplotlib inline\n",
    "import matplotlib.pyplot as plt\n",
    "import cartopy.crs as ccrs\n",
    "import dask\n",
    "import cftime\n",
    "import random\n",
    "import glob\n",
    "import matplotlib.gridspec as gs\n"
   ]
  },
  {
   "cell_type": "code",
   "execution_count": 2,
   "id": "630ebc96-4275-4add-8831-1e8b2de6a9cf",
   "metadata": {
    "tags": []
   },
   "outputs": [
    {
     "name": "stderr",
     "output_type": "stream",
     "text": [
      "/g/data/hh5/public/apps/miniconda3/envs/analysis3-22.10/lib/python3.9/site-packages/distributed/node.py:182: UserWarning: Port 8787 is already in use.\n",
      "Perhaps you already have a cluster running?\n",
      "Hosting the HTTP server on port 40313 instead\n",
      "  warnings.warn(\n"
     ]
    },
    {
     "data": {
      "text/html": [
       "<div>\n",
       "    <div style=\"width: 24px; height: 24px; background-color: #e1e1e1; border: 3px solid #9D9D9D; border-radius: 5px; position: absolute;\"> </div>\n",
       "    <div style=\"margin-left: 48px;\">\n",
       "        <h3 style=\"margin-bottom: 0px;\">Client</h3>\n",
       "        <p style=\"color: #9D9D9D; margin-bottom: 0px;\">Client-471f6f66-5053-11ee-88bc-0000075dfe80</p>\n",
       "        <table style=\"width: 100%; text-align: left;\">\n",
       "\n",
       "        <tr>\n",
       "        \n",
       "            <td style=\"text-align: left;\"><strong>Connection method:</strong> Cluster object</td>\n",
       "            <td style=\"text-align: left;\"><strong>Cluster type:</strong> distributed.LocalCluster</td>\n",
       "        \n",
       "        </tr>\n",
       "\n",
       "        \n",
       "            <tr>\n",
       "                <td style=\"text-align: left;\">\n",
       "                    <strong>Dashboard: </strong> <a href=\"/proxy/40313/status\" target=\"_blank\">/proxy/40313/status</a>\n",
       "                </td>\n",
       "                <td style=\"text-align: left;\"></td>\n",
       "            </tr>\n",
       "        \n",
       "\n",
       "        </table>\n",
       "\n",
       "        \n",
       "\n",
       "        \n",
       "            <details>\n",
       "            <summary style=\"margin-bottom: 20px;\"><h3 style=\"display: inline;\">Cluster Info</h3></summary>\n",
       "            <div class=\"jp-RenderedHTMLCommon jp-RenderedHTML jp-mod-trusted jp-OutputArea-output\">\n",
       "    <div style=\"width: 24px; height: 24px; background-color: #e1e1e1; border: 3px solid #9D9D9D; border-radius: 5px; position: absolute;\">\n",
       "    </div>\n",
       "    <div style=\"margin-left: 48px;\">\n",
       "        <h3 style=\"margin-bottom: 0px; margin-top: 0px;\">LocalCluster</h3>\n",
       "        <p style=\"color: #9D9D9D; margin-bottom: 0px;\">c0f6df91</p>\n",
       "        <table style=\"width: 100%; text-align: left;\">\n",
       "            <tr>\n",
       "                <td style=\"text-align: left;\">\n",
       "                    <strong>Dashboard:</strong> <a href=\"/proxy/40313/status\" target=\"_blank\">/proxy/40313/status</a>\n",
       "                </td>\n",
       "                <td style=\"text-align: left;\">\n",
       "                    <strong>Workers:</strong> 4\n",
       "                </td>\n",
       "            </tr>\n",
       "            <tr>\n",
       "                <td style=\"text-align: left;\">\n",
       "                    <strong>Total threads:</strong> 8\n",
       "                </td>\n",
       "                <td style=\"text-align: left;\">\n",
       "                    <strong>Total memory:</strong> 64.00 GiB\n",
       "                </td>\n",
       "            </tr>\n",
       "            \n",
       "            <tr>\n",
       "    <td style=\"text-align: left;\"><strong>Status:</strong> running</td>\n",
       "    <td style=\"text-align: left;\"><strong>Using processes:</strong> True</td>\n",
       "</tr>\n",
       "\n",
       "            \n",
       "        </table>\n",
       "\n",
       "        <details>\n",
       "            <summary style=\"margin-bottom: 20px;\">\n",
       "                <h3 style=\"display: inline;\">Scheduler Info</h3>\n",
       "            </summary>\n",
       "\n",
       "            <div style=\"\">\n",
       "    <div>\n",
       "        <div style=\"width: 24px; height: 24px; background-color: #FFF7E5; border: 3px solid #FF6132; border-radius: 5px; position: absolute;\"> </div>\n",
       "        <div style=\"margin-left: 48px;\">\n",
       "            <h3 style=\"margin-bottom: 0px;\">Scheduler</h3>\n",
       "            <p style=\"color: #9D9D9D; margin-bottom: 0px;\">Scheduler-be9660e0-8cc5-41e3-b3c3-82ef83633d7c</p>\n",
       "            <table style=\"width: 100%; text-align: left;\">\n",
       "                <tr>\n",
       "                    <td style=\"text-align: left;\">\n",
       "                        <strong>Comm:</strong> tcp://127.0.0.1:42755\n",
       "                    </td>\n",
       "                    <td style=\"text-align: left;\">\n",
       "                        <strong>Workers:</strong> 4\n",
       "                    </td>\n",
       "                </tr>\n",
       "                <tr>\n",
       "                    <td style=\"text-align: left;\">\n",
       "                        <strong>Dashboard:</strong> <a href=\"/proxy/40313/status\" target=\"_blank\">/proxy/40313/status</a>\n",
       "                    </td>\n",
       "                    <td style=\"text-align: left;\">\n",
       "                        <strong>Total threads:</strong> 8\n",
       "                    </td>\n",
       "                </tr>\n",
       "                <tr>\n",
       "                    <td style=\"text-align: left;\">\n",
       "                        <strong>Started:</strong> Just now\n",
       "                    </td>\n",
       "                    <td style=\"text-align: left;\">\n",
       "                        <strong>Total memory:</strong> 64.00 GiB\n",
       "                    </td>\n",
       "                </tr>\n",
       "            </table>\n",
       "        </div>\n",
       "    </div>\n",
       "\n",
       "    <details style=\"margin-left: 48px;\">\n",
       "        <summary style=\"margin-bottom: 20px;\">\n",
       "            <h3 style=\"display: inline;\">Workers</h3>\n",
       "        </summary>\n",
       "\n",
       "        \n",
       "        <div style=\"margin-bottom: 20px;\">\n",
       "            <div style=\"width: 24px; height: 24px; background-color: #DBF5FF; border: 3px solid #4CC9FF; border-radius: 5px; position: absolute;\"> </div>\n",
       "            <div style=\"margin-left: 48px;\">\n",
       "            <details>\n",
       "                <summary>\n",
       "                    <h4 style=\"margin-bottom: 0px; display: inline;\">Worker: 0</h4>\n",
       "                </summary>\n",
       "                <table style=\"width: 100%; text-align: left;\">\n",
       "                    <tr>\n",
       "                        <td style=\"text-align: left;\">\n",
       "                            <strong>Comm: </strong> tcp://127.0.0.1:40975\n",
       "                        </td>\n",
       "                        <td style=\"text-align: left;\">\n",
       "                            <strong>Total threads: </strong> 2\n",
       "                        </td>\n",
       "                    </tr>\n",
       "                    <tr>\n",
       "                        <td style=\"text-align: left;\">\n",
       "                            <strong>Dashboard: </strong> <a href=\"/proxy/44543/status\" target=\"_blank\">/proxy/44543/status</a>\n",
       "                        </td>\n",
       "                        <td style=\"text-align: left;\">\n",
       "                            <strong>Memory: </strong> 16.00 GiB\n",
       "                        </td>\n",
       "                    </tr>\n",
       "                    <tr>\n",
       "                        <td style=\"text-align: left;\">\n",
       "                            <strong>Nanny: </strong> tcp://127.0.0.1:45665\n",
       "                        </td>\n",
       "                        <td style=\"text-align: left;\"></td>\n",
       "                    </tr>\n",
       "                    <tr>\n",
       "                        <td colspan=\"2\" style=\"text-align: left;\">\n",
       "                            <strong>Local directory: </strong> /jobfs/94871825.gadi-pbs/dask-worker-space/worker-ap6roox9\n",
       "                        </td>\n",
       "                    </tr>\n",
       "\n",
       "                    \n",
       "\n",
       "                    \n",
       "\n",
       "                </table>\n",
       "            </details>\n",
       "            </div>\n",
       "        </div>\n",
       "        \n",
       "        <div style=\"margin-bottom: 20px;\">\n",
       "            <div style=\"width: 24px; height: 24px; background-color: #DBF5FF; border: 3px solid #4CC9FF; border-radius: 5px; position: absolute;\"> </div>\n",
       "            <div style=\"margin-left: 48px;\">\n",
       "            <details>\n",
       "                <summary>\n",
       "                    <h4 style=\"margin-bottom: 0px; display: inline;\">Worker: 1</h4>\n",
       "                </summary>\n",
       "                <table style=\"width: 100%; text-align: left;\">\n",
       "                    <tr>\n",
       "                        <td style=\"text-align: left;\">\n",
       "                            <strong>Comm: </strong> tcp://127.0.0.1:40693\n",
       "                        </td>\n",
       "                        <td style=\"text-align: left;\">\n",
       "                            <strong>Total threads: </strong> 2\n",
       "                        </td>\n",
       "                    </tr>\n",
       "                    <tr>\n",
       "                        <td style=\"text-align: left;\">\n",
       "                            <strong>Dashboard: </strong> <a href=\"/proxy/38869/status\" target=\"_blank\">/proxy/38869/status</a>\n",
       "                        </td>\n",
       "                        <td style=\"text-align: left;\">\n",
       "                            <strong>Memory: </strong> 16.00 GiB\n",
       "                        </td>\n",
       "                    </tr>\n",
       "                    <tr>\n",
       "                        <td style=\"text-align: left;\">\n",
       "                            <strong>Nanny: </strong> tcp://127.0.0.1:36789\n",
       "                        </td>\n",
       "                        <td style=\"text-align: left;\"></td>\n",
       "                    </tr>\n",
       "                    <tr>\n",
       "                        <td colspan=\"2\" style=\"text-align: left;\">\n",
       "                            <strong>Local directory: </strong> /jobfs/94871825.gadi-pbs/dask-worker-space/worker-k1imitit\n",
       "                        </td>\n",
       "                    </tr>\n",
       "\n",
       "                    \n",
       "\n",
       "                    \n",
       "\n",
       "                </table>\n",
       "            </details>\n",
       "            </div>\n",
       "        </div>\n",
       "        \n",
       "        <div style=\"margin-bottom: 20px;\">\n",
       "            <div style=\"width: 24px; height: 24px; background-color: #DBF5FF; border: 3px solid #4CC9FF; border-radius: 5px; position: absolute;\"> </div>\n",
       "            <div style=\"margin-left: 48px;\">\n",
       "            <details>\n",
       "                <summary>\n",
       "                    <h4 style=\"margin-bottom: 0px; display: inline;\">Worker: 2</h4>\n",
       "                </summary>\n",
       "                <table style=\"width: 100%; text-align: left;\">\n",
       "                    <tr>\n",
       "                        <td style=\"text-align: left;\">\n",
       "                            <strong>Comm: </strong> tcp://127.0.0.1:38737\n",
       "                        </td>\n",
       "                        <td style=\"text-align: left;\">\n",
       "                            <strong>Total threads: </strong> 2\n",
       "                        </td>\n",
       "                    </tr>\n",
       "                    <tr>\n",
       "                        <td style=\"text-align: left;\">\n",
       "                            <strong>Dashboard: </strong> <a href=\"/proxy/46681/status\" target=\"_blank\">/proxy/46681/status</a>\n",
       "                        </td>\n",
       "                        <td style=\"text-align: left;\">\n",
       "                            <strong>Memory: </strong> 16.00 GiB\n",
       "                        </td>\n",
       "                    </tr>\n",
       "                    <tr>\n",
       "                        <td style=\"text-align: left;\">\n",
       "                            <strong>Nanny: </strong> tcp://127.0.0.1:45391\n",
       "                        </td>\n",
       "                        <td style=\"text-align: left;\"></td>\n",
       "                    </tr>\n",
       "                    <tr>\n",
       "                        <td colspan=\"2\" style=\"text-align: left;\">\n",
       "                            <strong>Local directory: </strong> /jobfs/94871825.gadi-pbs/dask-worker-space/worker-k4nsttj8\n",
       "                        </td>\n",
       "                    </tr>\n",
       "\n",
       "                    \n",
       "\n",
       "                    \n",
       "\n",
       "                </table>\n",
       "            </details>\n",
       "            </div>\n",
       "        </div>\n",
       "        \n",
       "        <div style=\"margin-bottom: 20px;\">\n",
       "            <div style=\"width: 24px; height: 24px; background-color: #DBF5FF; border: 3px solid #4CC9FF; border-radius: 5px; position: absolute;\"> </div>\n",
       "            <div style=\"margin-left: 48px;\">\n",
       "            <details>\n",
       "                <summary>\n",
       "                    <h4 style=\"margin-bottom: 0px; display: inline;\">Worker: 3</h4>\n",
       "                </summary>\n",
       "                <table style=\"width: 100%; text-align: left;\">\n",
       "                    <tr>\n",
       "                        <td style=\"text-align: left;\">\n",
       "                            <strong>Comm: </strong> tcp://127.0.0.1:40735\n",
       "                        </td>\n",
       "                        <td style=\"text-align: left;\">\n",
       "                            <strong>Total threads: </strong> 2\n",
       "                        </td>\n",
       "                    </tr>\n",
       "                    <tr>\n",
       "                        <td style=\"text-align: left;\">\n",
       "                            <strong>Dashboard: </strong> <a href=\"/proxy/44419/status\" target=\"_blank\">/proxy/44419/status</a>\n",
       "                        </td>\n",
       "                        <td style=\"text-align: left;\">\n",
       "                            <strong>Memory: </strong> 16.00 GiB\n",
       "                        </td>\n",
       "                    </tr>\n",
       "                    <tr>\n",
       "                        <td style=\"text-align: left;\">\n",
       "                            <strong>Nanny: </strong> tcp://127.0.0.1:37869\n",
       "                        </td>\n",
       "                        <td style=\"text-align: left;\"></td>\n",
       "                    </tr>\n",
       "                    <tr>\n",
       "                        <td colspan=\"2\" style=\"text-align: left;\">\n",
       "                            <strong>Local directory: </strong> /jobfs/94871825.gadi-pbs/dask-worker-space/worker-5dz_icra\n",
       "                        </td>\n",
       "                    </tr>\n",
       "\n",
       "                    \n",
       "\n",
       "                    \n",
       "\n",
       "                </table>\n",
       "            </details>\n",
       "            </div>\n",
       "        </div>\n",
       "        \n",
       "\n",
       "    </details>\n",
       "</div>\n",
       "\n",
       "        </details>\n",
       "    </div>\n",
       "</div>\n",
       "            </details>\n",
       "        \n",
       "\n",
       "    </div>\n",
       "</div>"
      ],
      "text/plain": [
       "<Client: 'tcp://127.0.0.1:42755' processes=4 threads=8, memory=64.00 GiB>"
      ]
     },
     "execution_count": 2,
     "metadata": {},
     "output_type": "execute_result"
    }
   ],
   "source": [
    "from dask.distributed import Client, LocalCluster\n",
    "client = Client()\n",
    "client"
   ]
  },
  {
   "cell_type": "code",
   "execution_count": 6,
   "id": "b5d038c0-3bbd-4468-ba29-e9dc973099be",
   "metadata": {},
   "outputs": [
    {
     "name": "stderr",
     "output_type": "stream",
     "text": [
      "/g/data/hh5/public/apps/miniconda3/envs/analysis3-22.10/lib/python3.9/site-packages/xarray/coding/times.py:710: SerializationWarning: Unable to decode time axis into full numpy.datetime64 objects, continuing using cftime.datetime objects instead, reason: dates out of range\n",
      "  dtype = _decode_cf_datetime_dtype(data, units, calendar, self.use_cftime)\n",
      "/g/data/hh5/public/apps/miniconda3/envs/analysis3-22.10/lib/python3.9/site-packages/xarray/core/indexing.py:524: SerializationWarning: Unable to decode time axis into full numpy.datetime64 objects, continuing using cftime.datetime objects instead, reason: dates out of range\n",
      "  return np.asarray(array[self.key], dtype=None)\n"
     ]
    }
   ],
   "source": [
    "test = xr.open_dataset(\"/scratch/e14/sm2435/PACE_OC/cy286/history/atm/netCDF/cy286a.pm095102_mon.nc\")"
   ]
  },
  {
   "cell_type": "code",
   "execution_count": 7,
   "id": "e5908483-099e-4637-96a1-07be6979a65d",
   "metadata": {
    "tags": []
   },
   "outputs": [
    {
     "data": {
      "text/html": [
       "<div><svg style=\"position: absolute; width: 0; height: 0; overflow: hidden\">\n",
       "<defs>\n",
       "<symbol id=\"icon-database\" viewBox=\"0 0 32 32\">\n",
       "<path d=\"M16 0c-8.837 0-16 2.239-16 5v4c0 2.761 7.163 5 16 5s16-2.239 16-5v-4c0-2.761-7.163-5-16-5z\"></path>\n",
       "<path d=\"M16 17c-8.837 0-16-2.239-16-5v6c0 2.761 7.163 5 16 5s16-2.239 16-5v-6c0 2.761-7.163 5-16 5z\"></path>\n",
       "<path d=\"M16 26c-8.837 0-16-2.239-16-5v6c0 2.761 7.163 5 16 5s16-2.239 16-5v-6c0 2.761-7.163 5-16 5z\"></path>\n",
       "</symbol>\n",
       "<symbol id=\"icon-file-text2\" viewBox=\"0 0 32 32\">\n",
       "<path d=\"M28.681 7.159c-0.694-0.947-1.662-2.053-2.724-3.116s-2.169-2.030-3.116-2.724c-1.612-1.182-2.393-1.319-2.841-1.319h-15.5c-1.378 0-2.5 1.121-2.5 2.5v27c0 1.378 1.122 2.5 2.5 2.5h23c1.378 0 2.5-1.122 2.5-2.5v-19.5c0-0.448-0.137-1.23-1.319-2.841zM24.543 5.457c0.959 0.959 1.712 1.825 2.268 2.543h-4.811v-4.811c0.718 0.556 1.584 1.309 2.543 2.268zM28 29.5c0 0.271-0.229 0.5-0.5 0.5h-23c-0.271 0-0.5-0.229-0.5-0.5v-27c0-0.271 0.229-0.5 0.5-0.5 0 0 15.499-0 15.5 0v7c0 0.552 0.448 1 1 1h7v19.5z\"></path>\n",
       "<path d=\"M23 26h-14c-0.552 0-1-0.448-1-1s0.448-1 1-1h14c0.552 0 1 0.448 1 1s-0.448 1-1 1z\"></path>\n",
       "<path d=\"M23 22h-14c-0.552 0-1-0.448-1-1s0.448-1 1-1h14c0.552 0 1 0.448 1 1s-0.448 1-1 1z\"></path>\n",
       "<path d=\"M23 18h-14c-0.552 0-1-0.448-1-1s0.448-1 1-1h14c0.552 0 1 0.448 1 1s-0.448 1-1 1z\"></path>\n",
       "</symbol>\n",
       "</defs>\n",
       "</svg>\n",
       "<style>/* CSS stylesheet for displaying xarray objects in jupyterlab.\n",
       " *\n",
       " */\n",
       "\n",
       ":root {\n",
       "  --xr-font-color0: var(--jp-content-font-color0, rgba(0, 0, 0, 1));\n",
       "  --xr-font-color2: var(--jp-content-font-color2, rgba(0, 0, 0, 0.54));\n",
       "  --xr-font-color3: var(--jp-content-font-color3, rgba(0, 0, 0, 0.38));\n",
       "  --xr-border-color: var(--jp-border-color2, #e0e0e0);\n",
       "  --xr-disabled-color: var(--jp-layout-color3, #bdbdbd);\n",
       "  --xr-background-color: var(--jp-layout-color0, white);\n",
       "  --xr-background-color-row-even: var(--jp-layout-color1, white);\n",
       "  --xr-background-color-row-odd: var(--jp-layout-color2, #eeeeee);\n",
       "}\n",
       "\n",
       "html[theme=dark],\n",
       "body[data-theme=dark],\n",
       "body.vscode-dark {\n",
       "  --xr-font-color0: rgba(255, 255, 255, 1);\n",
       "  --xr-font-color2: rgba(255, 255, 255, 0.54);\n",
       "  --xr-font-color3: rgba(255, 255, 255, 0.38);\n",
       "  --xr-border-color: #1F1F1F;\n",
       "  --xr-disabled-color: #515151;\n",
       "  --xr-background-color: #111111;\n",
       "  --xr-background-color-row-even: #111111;\n",
       "  --xr-background-color-row-odd: #313131;\n",
       "}\n",
       "\n",
       ".xr-wrap {\n",
       "  display: block !important;\n",
       "  min-width: 300px;\n",
       "  max-width: 700px;\n",
       "}\n",
       "\n",
       ".xr-text-repr-fallback {\n",
       "  /* fallback to plain text repr when CSS is not injected (untrusted notebook) */\n",
       "  display: none;\n",
       "}\n",
       "\n",
       ".xr-header {\n",
       "  padding-top: 6px;\n",
       "  padding-bottom: 6px;\n",
       "  margin-bottom: 4px;\n",
       "  border-bottom: solid 1px var(--xr-border-color);\n",
       "}\n",
       "\n",
       ".xr-header > div,\n",
       ".xr-header > ul {\n",
       "  display: inline;\n",
       "  margin-top: 0;\n",
       "  margin-bottom: 0;\n",
       "}\n",
       "\n",
       ".xr-obj-type,\n",
       ".xr-array-name {\n",
       "  margin-left: 2px;\n",
       "  margin-right: 10px;\n",
       "}\n",
       "\n",
       ".xr-obj-type {\n",
       "  color: var(--xr-font-color2);\n",
       "}\n",
       "\n",
       ".xr-sections {\n",
       "  padding-left: 0 !important;\n",
       "  display: grid;\n",
       "  grid-template-columns: 150px auto auto 1fr 20px 20px;\n",
       "}\n",
       "\n",
       ".xr-section-item {\n",
       "  display: contents;\n",
       "}\n",
       "\n",
       ".xr-section-item input {\n",
       "  display: none;\n",
       "}\n",
       "\n",
       ".xr-section-item input + label {\n",
       "  color: var(--xr-disabled-color);\n",
       "}\n",
       "\n",
       ".xr-section-item input:enabled + label {\n",
       "  cursor: pointer;\n",
       "  color: var(--xr-font-color2);\n",
       "}\n",
       "\n",
       ".xr-section-item input:enabled + label:hover {\n",
       "  color: var(--xr-font-color0);\n",
       "}\n",
       "\n",
       ".xr-section-summary {\n",
       "  grid-column: 1;\n",
       "  color: var(--xr-font-color2);\n",
       "  font-weight: 500;\n",
       "}\n",
       "\n",
       ".xr-section-summary > span {\n",
       "  display: inline-block;\n",
       "  padding-left: 0.5em;\n",
       "}\n",
       "\n",
       ".xr-section-summary-in:disabled + label {\n",
       "  color: var(--xr-font-color2);\n",
       "}\n",
       "\n",
       ".xr-section-summary-in + label:before {\n",
       "  display: inline-block;\n",
       "  content: '►';\n",
       "  font-size: 11px;\n",
       "  width: 15px;\n",
       "  text-align: center;\n",
       "}\n",
       "\n",
       ".xr-section-summary-in:disabled + label:before {\n",
       "  color: var(--xr-disabled-color);\n",
       "}\n",
       "\n",
       ".xr-section-summary-in:checked + label:before {\n",
       "  content: '▼';\n",
       "}\n",
       "\n",
       ".xr-section-summary-in:checked + label > span {\n",
       "  display: none;\n",
       "}\n",
       "\n",
       ".xr-section-summary,\n",
       ".xr-section-inline-details {\n",
       "  padding-top: 4px;\n",
       "  padding-bottom: 4px;\n",
       "}\n",
       "\n",
       ".xr-section-inline-details {\n",
       "  grid-column: 2 / -1;\n",
       "}\n",
       "\n",
       ".xr-section-details {\n",
       "  display: none;\n",
       "  grid-column: 1 / -1;\n",
       "  margin-bottom: 5px;\n",
       "}\n",
       "\n",
       ".xr-section-summary-in:checked ~ .xr-section-details {\n",
       "  display: contents;\n",
       "}\n",
       "\n",
       ".xr-array-wrap {\n",
       "  grid-column: 1 / -1;\n",
       "  display: grid;\n",
       "  grid-template-columns: 20px auto;\n",
       "}\n",
       "\n",
       ".xr-array-wrap > label {\n",
       "  grid-column: 1;\n",
       "  vertical-align: top;\n",
       "}\n",
       "\n",
       ".xr-preview {\n",
       "  color: var(--xr-font-color3);\n",
       "}\n",
       "\n",
       ".xr-array-preview,\n",
       ".xr-array-data {\n",
       "  padding: 0 5px !important;\n",
       "  grid-column: 2;\n",
       "}\n",
       "\n",
       ".xr-array-data,\n",
       ".xr-array-in:checked ~ .xr-array-preview {\n",
       "  display: none;\n",
       "}\n",
       "\n",
       ".xr-array-in:checked ~ .xr-array-data,\n",
       ".xr-array-preview {\n",
       "  display: inline-block;\n",
       "}\n",
       "\n",
       ".xr-dim-list {\n",
       "  display: inline-block !important;\n",
       "  list-style: none;\n",
       "  padding: 0 !important;\n",
       "  margin: 0;\n",
       "}\n",
       "\n",
       ".xr-dim-list li {\n",
       "  display: inline-block;\n",
       "  padding: 0;\n",
       "  margin: 0;\n",
       "}\n",
       "\n",
       ".xr-dim-list:before {\n",
       "  content: '(';\n",
       "}\n",
       "\n",
       ".xr-dim-list:after {\n",
       "  content: ')';\n",
       "}\n",
       "\n",
       ".xr-dim-list li:not(:last-child):after {\n",
       "  content: ',';\n",
       "  padding-right: 5px;\n",
       "}\n",
       "\n",
       ".xr-has-index {\n",
       "  font-weight: bold;\n",
       "}\n",
       "\n",
       ".xr-var-list,\n",
       ".xr-var-item {\n",
       "  display: contents;\n",
       "}\n",
       "\n",
       ".xr-var-item > div,\n",
       ".xr-var-item label,\n",
       ".xr-var-item > .xr-var-name span {\n",
       "  background-color: var(--xr-background-color-row-even);\n",
       "  margin-bottom: 0;\n",
       "}\n",
       "\n",
       ".xr-var-item > .xr-var-name:hover span {\n",
       "  padding-right: 5px;\n",
       "}\n",
       "\n",
       ".xr-var-list > li:nth-child(odd) > div,\n",
       ".xr-var-list > li:nth-child(odd) > label,\n",
       ".xr-var-list > li:nth-child(odd) > .xr-var-name span {\n",
       "  background-color: var(--xr-background-color-row-odd);\n",
       "}\n",
       "\n",
       ".xr-var-name {\n",
       "  grid-column: 1;\n",
       "}\n",
       "\n",
       ".xr-var-dims {\n",
       "  grid-column: 2;\n",
       "}\n",
       "\n",
       ".xr-var-dtype {\n",
       "  grid-column: 3;\n",
       "  text-align: right;\n",
       "  color: var(--xr-font-color2);\n",
       "}\n",
       "\n",
       ".xr-var-preview {\n",
       "  grid-column: 4;\n",
       "}\n",
       "\n",
       ".xr-index-preview {\n",
       "  grid-column: 2 / 5;\n",
       "  color: var(--xr-font-color2);\n",
       "}\n",
       "\n",
       ".xr-var-name,\n",
       ".xr-var-dims,\n",
       ".xr-var-dtype,\n",
       ".xr-preview,\n",
       ".xr-attrs dt {\n",
       "  white-space: nowrap;\n",
       "  overflow: hidden;\n",
       "  text-overflow: ellipsis;\n",
       "  padding-right: 10px;\n",
       "}\n",
       "\n",
       ".xr-var-name:hover,\n",
       ".xr-var-dims:hover,\n",
       ".xr-var-dtype:hover,\n",
       ".xr-attrs dt:hover {\n",
       "  overflow: visible;\n",
       "  width: auto;\n",
       "  z-index: 1;\n",
       "}\n",
       "\n",
       ".xr-var-attrs,\n",
       ".xr-var-data,\n",
       ".xr-index-data {\n",
       "  display: none;\n",
       "  background-color: var(--xr-background-color) !important;\n",
       "  padding-bottom: 5px !important;\n",
       "}\n",
       "\n",
       ".xr-var-attrs-in:checked ~ .xr-var-attrs,\n",
       ".xr-var-data-in:checked ~ .xr-var-data,\n",
       ".xr-index-data-in:checked ~ .xr-index-data {\n",
       "  display: block;\n",
       "}\n",
       "\n",
       ".xr-var-data > table {\n",
       "  float: right;\n",
       "}\n",
       "\n",
       ".xr-var-name span,\n",
       ".xr-var-data,\n",
       ".xr-index-name div,\n",
       ".xr-index-data,\n",
       ".xr-attrs {\n",
       "  padding-left: 25px !important;\n",
       "}\n",
       "\n",
       ".xr-attrs,\n",
       ".xr-var-attrs,\n",
       ".xr-var-data,\n",
       ".xr-index-data {\n",
       "  grid-column: 1 / -1;\n",
       "}\n",
       "\n",
       "dl.xr-attrs {\n",
       "  padding: 0;\n",
       "  margin: 0;\n",
       "  display: grid;\n",
       "  grid-template-columns: 125px auto;\n",
       "}\n",
       "\n",
       ".xr-attrs dt,\n",
       ".xr-attrs dd {\n",
       "  padding: 0;\n",
       "  margin: 0;\n",
       "  float: left;\n",
       "  padding-right: 10px;\n",
       "  width: auto;\n",
       "}\n",
       "\n",
       ".xr-attrs dt {\n",
       "  font-weight: normal;\n",
       "  grid-column: 1;\n",
       "}\n",
       "\n",
       ".xr-attrs dt:hover span {\n",
       "  display: inline-block;\n",
       "  background: var(--xr-background-color);\n",
       "  padding-right: 10px;\n",
       "}\n",
       "\n",
       ".xr-attrs dd {\n",
       "  grid-column: 2;\n",
       "  white-space: pre-wrap;\n",
       "  word-break: break-all;\n",
       "}\n",
       "\n",
       ".xr-icon-database,\n",
       ".xr-icon-file-text2,\n",
       ".xr-no-icon {\n",
       "  display: inline-block;\n",
       "  vertical-align: middle;\n",
       "  width: 1em;\n",
       "  height: 1.5em !important;\n",
       "  stroke-width: 0;\n",
       "  stroke: currentColor;\n",
       "  fill: currentColor;\n",
       "}\n",
       "</style><pre class='xr-text-repr-fallback'>&lt;xarray.DataArray &#x27;fld_s00i409&#x27; (time: 1, lat: 144, lon: 192)&gt;\n",
       "[27648 values with dtype=float32]\n",
       "Coordinates:\n",
       "  * time              (time) object 0951-02-15 00:00:00\n",
       "  * lat               (lat) float64 -89.38 -88.12 -86.88 ... 86.88 88.12 89.38\n",
       "  * lon               (lon) float64 0.9375 2.812 4.688 ... 355.3 357.2 359.1\n",
       "    surface_altitude  (lat, lon) float32 ...\n",
       "    height            float64 ...\n",
       "    height_0          float64 ...\n",
       "Attributes:\n",
       "    standard_name:    surface_air_pressure\n",
       "    long_name:        SURFACE PRESSURE AFTER TIMESTEP\n",
       "    units:            Pa\n",
       "    um_stash_source:  m01s00i409\n",
       "    cell_methods:     time: mean\n",
       "    grid_mapping:     latitude_longitude</pre><div class='xr-wrap' style='display:none'><div class='xr-header'><div class='xr-obj-type'>xarray.DataArray</div><div class='xr-array-name'>'fld_s00i409'</div><ul class='xr-dim-list'><li><span class='xr-has-index'>time</span>: 1</li><li><span class='xr-has-index'>lat</span>: 144</li><li><span class='xr-has-index'>lon</span>: 192</li></ul></div><ul class='xr-sections'><li class='xr-section-item'><div class='xr-array-wrap'><input id='section-6d47e933-a3b6-40c7-9b8c-782d861fe3b3' class='xr-array-in' type='checkbox' checked><label for='section-6d47e933-a3b6-40c7-9b8c-782d861fe3b3' title='Show/hide data repr'><svg class='icon xr-icon-database'><use xlink:href='#icon-database'></use></svg></label><div class='xr-array-preview xr-preview'><span>...</span></div><div class='xr-array-data'><pre>[27648 values with dtype=float32]</pre></div></div></li><li class='xr-section-item'><input id='section-d73f5425-0554-4c9b-aa12-050c819f5f11' class='xr-section-summary-in' type='checkbox'  checked><label for='section-d73f5425-0554-4c9b-aa12-050c819f5f11' class='xr-section-summary' >Coordinates: <span>(6)</span></label><div class='xr-section-inline-details'></div><div class='xr-section-details'><ul class='xr-var-list'><li class='xr-var-item'><div class='xr-var-name'><span class='xr-has-index'>time</span></div><div class='xr-var-dims'>(time)</div><div class='xr-var-dtype'>object</div><div class='xr-var-preview xr-preview'>0951-02-15 00:00:00</div><input id='attrs-b29cef78-070d-4d38-9e13-08e17e1d1520' class='xr-var-attrs-in' type='checkbox' ><label for='attrs-b29cef78-070d-4d38-9e13-08e17e1d1520' title='Show/Hide attributes'><svg class='icon xr-icon-file-text2'><use xlink:href='#icon-file-text2'></use></svg></label><input id='data-1df50db8-ad01-4587-919a-8f5c240e2cbb' class='xr-var-data-in' type='checkbox'><label for='data-1df50db8-ad01-4587-919a-8f5c240e2cbb' title='Show/Hide data repr'><svg class='icon xr-icon-database'><use xlink:href='#icon-database'></use></svg></label><div class='xr-var-attrs'><dl class='xr-attrs'><dt><span>axis :</span></dt><dd>T</dd><dt><span>bounds :</span></dt><dd>time_bnds</dd><dt><span>standard_name :</span></dt><dd>time</dd></dl></div><div class='xr-var-data'><pre>array([cftime.DatetimeProlepticGregorian(951, 2, 15, 0, 0, 0, 0, has_year_zero=True)],\n",
       "      dtype=object)</pre></div></li><li class='xr-var-item'><div class='xr-var-name'><span class='xr-has-index'>lat</span></div><div class='xr-var-dims'>(lat)</div><div class='xr-var-dtype'>float64</div><div class='xr-var-preview xr-preview'>-89.38 -88.12 ... 88.12 89.38</div><input id='attrs-5e62da18-4bf9-4daf-b512-cddc49add231' class='xr-var-attrs-in' type='checkbox' ><label for='attrs-5e62da18-4bf9-4daf-b512-cddc49add231' title='Show/Hide attributes'><svg class='icon xr-icon-file-text2'><use xlink:href='#icon-file-text2'></use></svg></label><input id='data-80da14b1-8a96-4c30-9d6f-ed1a6f1af120' class='xr-var-data-in' type='checkbox'><label for='data-80da14b1-8a96-4c30-9d6f-ed1a6f1af120' title='Show/Hide data repr'><svg class='icon xr-icon-database'><use xlink:href='#icon-database'></use></svg></label><div class='xr-var-attrs'><dl class='xr-attrs'><dt><span>axis :</span></dt><dd>Y</dd><dt><span>bounds :</span></dt><dd>lat_bnds</dd><dt><span>units :</span></dt><dd>degrees_north</dd><dt><span>standard_name :</span></dt><dd>latitude</dd></dl></div><div class='xr-var-data'><pre>array([-89.375, -88.125, -86.875, -85.625, -84.375, -83.125, -81.875, -80.625,\n",
       "       -79.375, -78.125, -76.875, -75.625, -74.375, -73.125, -71.875, -70.625,\n",
       "       -69.375, -68.125, -66.875, -65.625, -64.375, -63.125, -61.875, -60.625,\n",
       "       -59.375, -58.125, -56.875, -55.625, -54.375, -53.125, -51.875, -50.625,\n",
       "       -49.375, -48.125, -46.875, -45.625, -44.375, -43.125, -41.875, -40.625,\n",
       "       -39.375, -38.125, -36.875, -35.625, -34.375, -33.125, -31.875, -30.625,\n",
       "       -29.375, -28.125, -26.875, -25.625, -24.375, -23.125, -21.875, -20.625,\n",
       "       -19.375, -18.125, -16.875, -15.625, -14.375, -13.125, -11.875, -10.625,\n",
       "        -9.375,  -8.125,  -6.875,  -5.625,  -4.375,  -3.125,  -1.875,  -0.625,\n",
       "         0.625,   1.875,   3.125,   4.375,   5.625,   6.875,   8.125,   9.375,\n",
       "        10.625,  11.875,  13.125,  14.375,  15.625,  16.875,  18.125,  19.375,\n",
       "        20.625,  21.875,  23.125,  24.375,  25.625,  26.875,  28.125,  29.375,\n",
       "        30.625,  31.875,  33.125,  34.375,  35.625,  36.875,  38.125,  39.375,\n",
       "        40.625,  41.875,  43.125,  44.375,  45.625,  46.875,  48.125,  49.375,\n",
       "        50.625,  51.875,  53.125,  54.375,  55.625,  56.875,  58.125,  59.375,\n",
       "        60.625,  61.875,  63.125,  64.375,  65.625,  66.875,  68.125,  69.375,\n",
       "        70.625,  71.875,  73.125,  74.375,  75.625,  76.875,  78.125,  79.375,\n",
       "        80.625,  81.875,  83.125,  84.375,  85.625,  86.875,  88.125,  89.375])</pre></div></li><li class='xr-var-item'><div class='xr-var-name'><span class='xr-has-index'>lon</span></div><div class='xr-var-dims'>(lon)</div><div class='xr-var-dtype'>float64</div><div class='xr-var-preview xr-preview'>0.9375 2.812 4.688 ... 357.2 359.1</div><input id='attrs-820e08aa-82af-47b2-88b3-0054a20fd9b6' class='xr-var-attrs-in' type='checkbox' ><label for='attrs-820e08aa-82af-47b2-88b3-0054a20fd9b6' title='Show/Hide attributes'><svg class='icon xr-icon-file-text2'><use xlink:href='#icon-file-text2'></use></svg></label><input id='data-65fa0db3-76ce-42bc-90b8-e32e8efb5c29' class='xr-var-data-in' type='checkbox'><label for='data-65fa0db3-76ce-42bc-90b8-e32e8efb5c29' title='Show/Hide data repr'><svg class='icon xr-icon-database'><use xlink:href='#icon-database'></use></svg></label><div class='xr-var-attrs'><dl class='xr-attrs'><dt><span>axis :</span></dt><dd>X</dd><dt><span>bounds :</span></dt><dd>lon_bnds</dd><dt><span>units :</span></dt><dd>degrees_east</dd><dt><span>standard_name :</span></dt><dd>longitude</dd></dl></div><div class='xr-var-data'><pre>array([  0.9375,   2.8125,   4.6875,   6.5625,   8.4375,  10.3125,  12.1875,\n",
       "        14.0625,  15.9375,  17.8125,  19.6875,  21.5625,  23.4375,  25.3125,\n",
       "        27.1875,  29.0625,  30.9375,  32.8125,  34.6875,  36.5625,  38.4375,\n",
       "        40.3125,  42.1875,  44.0625,  45.9375,  47.8125,  49.6875,  51.5625,\n",
       "        53.4375,  55.3125,  57.1875,  59.0625,  60.9375,  62.8125,  64.6875,\n",
       "        66.5625,  68.4375,  70.3125,  72.1875,  74.0625,  75.9375,  77.8125,\n",
       "        79.6875,  81.5625,  83.4375,  85.3125,  87.1875,  89.0625,  90.9375,\n",
       "        92.8125,  94.6875,  96.5625,  98.4375, 100.3125, 102.1875, 104.0625,\n",
       "       105.9375, 107.8125, 109.6875, 111.5625, 113.4375, 115.3125, 117.1875,\n",
       "       119.0625, 120.9375, 122.8125, 124.6875, 126.5625, 128.4375, 130.3125,\n",
       "       132.1875, 134.0625, 135.9375, 137.8125, 139.6875, 141.5625, 143.4375,\n",
       "       145.3125, 147.1875, 149.0625, 150.9375, 152.8125, 154.6875, 156.5625,\n",
       "       158.4375, 160.3125, 162.1875, 164.0625, 165.9375, 167.8125, 169.6875,\n",
       "       171.5625, 173.4375, 175.3125, 177.1875, 179.0625, 180.9375, 182.8125,\n",
       "       184.6875, 186.5625, 188.4375, 190.3125, 192.1875, 194.0625, 195.9375,\n",
       "       197.8125, 199.6875, 201.5625, 203.4375, 205.3125, 207.1875, 209.0625,\n",
       "       210.9375, 212.8125, 214.6875, 216.5625, 218.4375, 220.3125, 222.1875,\n",
       "       224.0625, 225.9375, 227.8125, 229.6875, 231.5625, 233.4375, 235.3125,\n",
       "       237.1875, 239.0625, 240.9375, 242.8125, 244.6875, 246.5625, 248.4375,\n",
       "       250.3125, 252.1875, 254.0625, 255.9375, 257.8125, 259.6875, 261.5625,\n",
       "       263.4375, 265.3125, 267.1875, 269.0625, 270.9375, 272.8125, 274.6875,\n",
       "       276.5625, 278.4375, 280.3125, 282.1875, 284.0625, 285.9375, 287.8125,\n",
       "       289.6875, 291.5625, 293.4375, 295.3125, 297.1875, 299.0625, 300.9375,\n",
       "       302.8125, 304.6875, 306.5625, 308.4375, 310.3125, 312.1875, 314.0625,\n",
       "       315.9375, 317.8125, 319.6875, 321.5625, 323.4375, 325.3125, 327.1875,\n",
       "       329.0625, 330.9375, 332.8125, 334.6875, 336.5625, 338.4375, 340.3125,\n",
       "       342.1875, 344.0625, 345.9375, 347.8125, 349.6875, 351.5625, 353.4375,\n",
       "       355.3125, 357.1875, 359.0625])</pre></div></li><li class='xr-var-item'><div class='xr-var-name'><span>surface_altitude</span></div><div class='xr-var-dims'>(lat, lon)</div><div class='xr-var-dtype'>float32</div><div class='xr-var-preview xr-preview'>...</div><input id='attrs-ae997938-cf78-4702-ac7c-a9fbd2b1cb3d' class='xr-var-attrs-in' type='checkbox' ><label for='attrs-ae997938-cf78-4702-ac7c-a9fbd2b1cb3d' title='Show/Hide attributes'><svg class='icon xr-icon-file-text2'><use xlink:href='#icon-file-text2'></use></svg></label><input id='data-a6d54d4b-6509-4a78-b3b8-3cf09632dd5e' class='xr-var-data-in' type='checkbox'><label for='data-a6d54d4b-6509-4a78-b3b8-3cf09632dd5e' title='Show/Hide data repr'><svg class='icon xr-icon-database'><use xlink:href='#icon-database'></use></svg></label><div class='xr-var-attrs'><dl class='xr-attrs'><dt><span>units :</span></dt><dd>m</dd><dt><span>standard_name :</span></dt><dd>surface_altitude</dd><dt><span>um_stash_source :</span></dt><dd>m01s00i033</dd><dt><span>source :</span></dt><dd>Data from Met Office Unified Model</dd><dt><span>um_version :</span></dt><dd>10.6</dd></dl></div><div class='xr-var-data'><pre>[27648 values with dtype=float32]</pre></div></li><li class='xr-var-item'><div class='xr-var-name'><span>height</span></div><div class='xr-var-dims'>()</div><div class='xr-var-dtype'>float64</div><div class='xr-var-preview xr-preview'>...</div><input id='attrs-dce4cffd-6272-409b-9776-99eb7512669a' class='xr-var-attrs-in' type='checkbox' ><label for='attrs-dce4cffd-6272-409b-9776-99eb7512669a' title='Show/Hide attributes'><svg class='icon xr-icon-file-text2'><use xlink:href='#icon-file-text2'></use></svg></label><input id='data-d0332119-45d9-4b38-8d01-6b5e31004744' class='xr-var-data-in' type='checkbox'><label for='data-d0332119-45d9-4b38-8d01-6b5e31004744' title='Show/Hide data repr'><svg class='icon xr-icon-database'><use xlink:href='#icon-database'></use></svg></label><div class='xr-var-attrs'><dl class='xr-attrs'><dt><span>units :</span></dt><dd>m</dd><dt><span>standard_name :</span></dt><dd>height</dd><dt><span>positive :</span></dt><dd>up</dd></dl></div><div class='xr-var-data'><pre>[1 values with dtype=float64]</pre></div></li><li class='xr-var-item'><div class='xr-var-name'><span>height_0</span></div><div class='xr-var-dims'>()</div><div class='xr-var-dtype'>float64</div><div class='xr-var-preview xr-preview'>...</div><input id='attrs-af6a0d30-08d1-4b2c-8618-a1a6b3418662' class='xr-var-attrs-in' type='checkbox' ><label for='attrs-af6a0d30-08d1-4b2c-8618-a1a6b3418662' title='Show/Hide attributes'><svg class='icon xr-icon-file-text2'><use xlink:href='#icon-file-text2'></use></svg></label><input id='data-47075619-959c-47bf-869b-203798ef7c0c' class='xr-var-data-in' type='checkbox'><label for='data-47075619-959c-47bf-869b-203798ef7c0c' title='Show/Hide data repr'><svg class='icon xr-icon-database'><use xlink:href='#icon-database'></use></svg></label><div class='xr-var-attrs'><dl class='xr-attrs'><dt><span>units :</span></dt><dd>m</dd><dt><span>standard_name :</span></dt><dd>height</dd><dt><span>positive :</span></dt><dd>up</dd></dl></div><div class='xr-var-data'><pre>[1 values with dtype=float64]</pre></div></li></ul></div></li><li class='xr-section-item'><input id='section-d654fbd3-5c39-46ee-83cd-6677c982fcdf' class='xr-section-summary-in' type='checkbox'  ><label for='section-d654fbd3-5c39-46ee-83cd-6677c982fcdf' class='xr-section-summary' >Indexes: <span>(3)</span></label><div class='xr-section-inline-details'></div><div class='xr-section-details'><ul class='xr-var-list'><li class='xr-var-item'><div class='xr-index-name'><div>time</div></div><div class='xr-index-preview'>PandasIndex</div><div></div><input id='index-9cda1fcd-ad66-46d7-98b6-5e1be6b82340' class='xr-index-data-in' type='checkbox'/><label for='index-9cda1fcd-ad66-46d7-98b6-5e1be6b82340' title='Show/Hide index repr'><svg class='icon xr-icon-database'><use xlink:href='#icon-database'></use></svg></label><div class='xr-index-data'><pre>PandasIndex(CFTimeIndex([0951-02-15 00:00:00],\n",
       "            dtype=&#x27;object&#x27;,\n",
       "            length=1,\n",
       "            calendar=&#x27;proleptic_gregorian&#x27;,\n",
       "            freq=None))</pre></div></li><li class='xr-var-item'><div class='xr-index-name'><div>lat</div></div><div class='xr-index-preview'>PandasIndex</div><div></div><input id='index-ec26a9ae-b0b6-4d8e-ad4c-981852f09f70' class='xr-index-data-in' type='checkbox'/><label for='index-ec26a9ae-b0b6-4d8e-ad4c-981852f09f70' title='Show/Hide index repr'><svg class='icon xr-icon-database'><use xlink:href='#icon-database'></use></svg></label><div class='xr-index-data'><pre>PandasIndex(Float64Index([-89.375, -88.125, -86.875, -85.625, -84.375, -83.125, -81.875,\n",
       "              -80.625, -79.375, -78.125,\n",
       "              ...\n",
       "               78.125,  79.375,  80.625,  81.875,  83.125,  84.375,  85.625,\n",
       "               86.875,  88.125,  89.375],\n",
       "             dtype=&#x27;float64&#x27;, name=&#x27;lat&#x27;, length=144))</pre></div></li><li class='xr-var-item'><div class='xr-index-name'><div>lon</div></div><div class='xr-index-preview'>PandasIndex</div><div></div><input id='index-2281a7c9-2b51-4b28-a400-525482c848ed' class='xr-index-data-in' type='checkbox'/><label for='index-2281a7c9-2b51-4b28-a400-525482c848ed' title='Show/Hide index repr'><svg class='icon xr-icon-database'><use xlink:href='#icon-database'></use></svg></label><div class='xr-index-data'><pre>PandasIndex(Float64Index([  0.9375,   2.8125,   4.6875,   6.5625,   8.4375,  10.3125,\n",
       "               12.1875,  14.0625,  15.9375,  17.8125,\n",
       "              ...\n",
       "              342.1875, 344.0625, 345.9375, 347.8125, 349.6875, 351.5625,\n",
       "              353.4375, 355.3125, 357.1875, 359.0625],\n",
       "             dtype=&#x27;float64&#x27;, name=&#x27;lon&#x27;, length=192))</pre></div></li></ul></div></li><li class='xr-section-item'><input id='section-7bfe2d69-ea7a-43ce-800a-cfa9afd4e100' class='xr-section-summary-in' type='checkbox'  checked><label for='section-7bfe2d69-ea7a-43ce-800a-cfa9afd4e100' class='xr-section-summary' >Attributes: <span>(6)</span></label><div class='xr-section-inline-details'></div><div class='xr-section-details'><dl class='xr-attrs'><dt><span>standard_name :</span></dt><dd>surface_air_pressure</dd><dt><span>long_name :</span></dt><dd>SURFACE PRESSURE AFTER TIMESTEP</dd><dt><span>units :</span></dt><dd>Pa</dd><dt><span>um_stash_source :</span></dt><dd>m01s00i409</dd><dt><span>cell_methods :</span></dt><dd>time: mean</dd><dt><span>grid_mapping :</span></dt><dd>latitude_longitude</dd></dl></div></li></ul></div></div>"
      ],
      "text/plain": [
       "<xarray.DataArray 'fld_s00i409' (time: 1, lat: 144, lon: 192)>\n",
       "[27648 values with dtype=float32]\n",
       "Coordinates:\n",
       "  * time              (time) object 0951-02-15 00:00:00\n",
       "  * lat               (lat) float64 -89.38 -88.12 -86.88 ... 86.88 88.12 89.38\n",
       "  * lon               (lon) float64 0.9375 2.812 4.688 ... 355.3 357.2 359.1\n",
       "    surface_altitude  (lat, lon) float32 ...\n",
       "    height            float64 ...\n",
       "    height_0          float64 ...\n",
       "Attributes:\n",
       "    standard_name:    surface_air_pressure\n",
       "    long_name:        SURFACE PRESSURE AFTER TIMESTEP\n",
       "    units:            Pa\n",
       "    um_stash_source:  m01s00i409\n",
       "    cell_methods:     time: mean\n",
       "    grid_mapping:     latitude_longitude"
      ]
     },
     "execution_count": 7,
     "metadata": {},
     "output_type": "execute_result"
    }
   ],
   "source": [
    "test.fld_s00i409"
   ]
  },
  {
   "cell_type": "code",
   "execution_count": 9,
   "id": "7a91884d-1470-4259-8c74-faf7dc8d5423",
   "metadata": {
    "tags": []
   },
   "outputs": [
    {
     "data": {
      "text/plain": [
       "<matplotlib.collections.QuadMesh at 0x14b366975d60>"
      ]
     },
     "execution_count": 9,
     "metadata": {},
     "output_type": "execute_result"
    },
    {
     "data": {
      "image/png": "[encoded data removed]",
      "text/plain": [
       "<Figure size 640x480 with 2 Axes>"
      ]
     },
     "metadata": {},
     "output_type": "display_data"
    }
   ],
   "source": [
    "(test.fld_s00i409[0]).plot()"
   ]
  },
  {
   "cell_type": "code",
   "execution_count": 14,
   "id": "bdb1a9eb-7311-48dc-ad1f-5ebac73088b1",
   "metadata": {
    "tags": []
   },
   "outputs": [
    {
     "data": {
      "text/plain": [
       "<matplotlib.collections.QuadMesh at 0x14b78de00be0>"
      ]
     },
     "execution_count": 14,
     "metadata": {},
     "output_type": "execute_result"
    },
    {
     "data": {
      "image/png": "[encoded data removed]",
      "text/plain": [
       "<Figure size 640x480 with 2 Axes>"
      ]
     },
     "metadata": {},
     "output_type": "display_data"
    }
   ],
   "source": [
    "(86400*30*(test.fld_s05i214[0]+test.fld_s05i215[0])).plot(vmin = 0, vmax = 500)"
   ]
  },
  {
   "cell_type": "code",
   "execution_count": 28,
   "id": "b08ce3f4-897f-4686-b3f7-d085d21c133e",
   "metadata": {
    "tags": []
   },
   "outputs": [
    {
     "data": {
      "text/html": [
       "<div><svg style=\"position: absolute; width: 0; height: 0; overflow: hidden\">\n",
       "<defs>\n",
       "<symbol id=\"icon-database\" viewBox=\"0 0 32 32\">\n",
       "<path d=\"M16 0c-8.837 0-16 2.239-16 5v4c0 2.761 7.163 5 16 5s16-2.239 16-5v-4c0-2.761-7.163-5-16-5z\"></path>\n",
       "<path d=\"M16 17c-8.837 0-16-2.239-16-5v6c0 2.761 7.163 5 16 5s16-2.239 16-5v-6c0 2.761-7.163 5-16 5z\"></path>\n",
       "<path d=\"M16 26c-8.837 0-16-2.239-16-5v6c0 2.761 7.163 5 16 5s16-2.239 16-5v-6c0 2.761-7.163 5-16 5z\"></path>\n",
       "</symbol>\n",
       "<symbol id=\"icon-file-text2\" viewBox=\"0 0 32 32\">\n",
       "<path d=\"M28.681 7.159c-0.694-0.947-1.662-2.053-2.724-3.116s-2.169-2.030-3.116-2.724c-1.612-1.182-2.393-1.319-2.841-1.319h-15.5c-1.378 0-2.5 1.121-2.5 2.5v27c0 1.378 1.122 2.5 2.5 2.5h23c1.378 0 2.5-1.122 2.5-2.5v-19.5c0-0.448-0.137-1.23-1.319-2.841zM24.543 5.457c0.959 0.959 1.712 1.825 2.268 2.543h-4.811v-4.811c0.718 0.556 1.584 1.309 2.543 2.268zM28 29.5c0 0.271-0.229 0.5-0.5 0.5h-23c-0.271 0-0.5-0.229-0.5-0.5v-27c0-0.271 0.229-0.5 0.5-0.5 0 0 15.499-0 15.5 0v7c0 0.552 0.448 1 1 1h7v19.5z\"></path>\n",
       "<path d=\"M23 26h-14c-0.552 0-1-0.448-1-1s0.448-1 1-1h14c0.552 0 1 0.448 1 1s-0.448 1-1 1z\"></path>\n",
       "<path d=\"M23 22h-14c-0.552 0-1-0.448-1-1s0.448-1 1-1h14c0.552 0 1 0.448 1 1s-0.448 1-1 1z\"></path>\n",
       "<path d=\"M23 18h-14c-0.552 0-1-0.448-1-1s0.448-1 1-1h14c0.552 0 1 0.448 1 1s-0.448 1-1 1z\"></path>\n",
       "</symbol>\n",
       "</defs>\n",
       "</svg>\n",
       "<style>/* CSS stylesheet for displaying xarray objects in jupyterlab.\n",
       " *\n",
       " */\n",
       "\n",
       ":root {\n",
       "  --xr-font-color0: var(--jp-content-font-color0, rgba(0, 0, 0, 1));\n",
       "  --xr-font-color2: var(--jp-content-font-color2, rgba(0, 0, 0, 0.54));\n",
       "  --xr-font-color3: var(--jp-content-font-color3, rgba(0, 0, 0, 0.38));\n",
       "  --xr-border-color: var(--jp-border-color2, #e0e0e0);\n",
       "  --xr-disabled-color: var(--jp-layout-color3, #bdbdbd);\n",
       "  --xr-background-color: var(--jp-layout-color0, white);\n",
       "  --xr-background-color-row-even: var(--jp-layout-color1, white);\n",
       "  --xr-background-color-row-odd: var(--jp-layout-color2, #eeeeee);\n",
       "}\n",
       "\n",
       "html[theme=dark],\n",
       "body[data-theme=dark],\n",
       "body.vscode-dark {\n",
       "  --xr-font-color0: rgba(255, 255, 255, 1);\n",
       "  --xr-font-color2: rgba(255, 255, 255, 0.54);\n",
       "  --xr-font-color3: rgba(255, 255, 255, 0.38);\n",
       "  --xr-border-color: #1F1F1F;\n",
       "  --xr-disabled-color: #515151;\n",
       "  --xr-background-color: #111111;\n",
       "  --xr-background-color-row-even: #111111;\n",
       "  --xr-background-color-row-odd: #313131;\n",
       "}\n",
       "\n",
       ".xr-wrap {\n",
       "  display: block !important;\n",
       "  min-width: 300px;\n",
       "  max-width: 700px;\n",
       "}\n",
       "\n",
       ".xr-text-repr-fallback {\n",
       "  /* fallback to plain text repr when CSS is not injected (untrusted notebook) */\n",
       "  display: none;\n",
       "}\n",
       "\n",
       ".xr-header {\n",
       "  padding-top: 6px;\n",
       "  padding-bottom: 6px;\n",
       "  margin-bottom: 4px;\n",
       "  border-bottom: solid 1px var(--xr-border-color);\n",
       "}\n",
       "\n",
       ".xr-header > div,\n",
       ".xr-header > ul {\n",
       "  display: inline;\n",
       "  margin-top: 0;\n",
       "  margin-bottom: 0;\n",
       "}\n",
       "\n",
       ".xr-obj-type,\n",
       ".xr-array-name {\n",
       "  margin-left: 2px;\n",
       "  margin-right: 10px;\n",
       "}\n",
       "\n",
       ".xr-obj-type {\n",
       "  color: var(--xr-font-color2);\n",
       "}\n",
       "\n",
       ".xr-sections {\n",
       "  padding-left: 0 !important;\n",
       "  display: grid;\n",
       "  grid-template-columns: 150px auto auto 1fr 20px 20px;\n",
       "}\n",
       "\n",
       ".xr-section-item {\n",
       "  display: contents;\n",
       "}\n",
       "\n",
       ".xr-section-item input {\n",
       "  display: none;\n",
       "}\n",
       "\n",
       ".xr-section-item input + label {\n",
       "  color: var(--xr-disabled-color);\n",
       "}\n",
       "\n",
       ".xr-section-item input:enabled + label {\n",
       "  cursor: pointer;\n",
       "  color: var(--xr-font-color2);\n",
       "}\n",
       "\n",
       ".xr-section-item input:enabled + label:hover {\n",
       "  color: var(--xr-font-color0);\n",
       "}\n",
       "\n",
       ".xr-section-summary {\n",
       "  grid-column: 1;\n",
       "  color: var(--xr-font-color2);\n",
       "  font-weight: 500;\n",
       "}\n",
       "\n",
       ".xr-section-summary > span {\n",
       "  display: inline-block;\n",
       "  padding-left: 0.5em;\n",
       "}\n",
       "\n",
       ".xr-section-summary-in:disabled + label {\n",
       "  color: var(--xr-font-color2);\n",
       "}\n",
       "\n",
       ".xr-section-summary-in + label:before {\n",
       "  display: inline-block;\n",
       "  content: '►';\n",
       "  font-size: 11px;\n",
       "  width: 15px;\n",
       "  text-align: center;\n",
       "}\n",
       "\n",
       ".xr-section-summary-in:disabled + label:before {\n",
       "  color: var(--xr-disabled-color);\n",
       "}\n",
       "\n",
       ".xr-section-summary-in:checked + label:before {\n",
       "  content: '▼';\n",
       "}\n",
       "\n",
       ".xr-section-summary-in:checked + label > span {\n",
       "  display: none;\n",
       "}\n",
       "\n",
       ".xr-section-summary,\n",
       ".xr-section-inline-details {\n",
       "  padding-top: 4px;\n",
       "  padding-bottom: 4px;\n",
       "}\n",
       "\n",
       ".xr-section-inline-details {\n",
       "  grid-column: 2 / -1;\n",
       "}\n",
       "\n",
       ".xr-section-details {\n",
       "  display: none;\n",
       "  grid-column: 1 / -1;\n",
       "  margin-bottom: 5px;\n",
       "}\n",
       "\n",
       ".xr-section-summary-in:checked ~ .xr-section-details {\n",
       "  display: contents;\n",
       "}\n",
       "\n",
       ".xr-array-wrap {\n",
       "  grid-column: 1 / -1;\n",
       "  display: grid;\n",
       "  grid-template-columns: 20px auto;\n",
       "}\n",
       "\n",
       ".xr-array-wrap > label {\n",
       "  grid-column: 1;\n",
       "  vertical-align: top;\n",
       "}\n",
       "\n",
       ".xr-preview {\n",
       "  color: var(--xr-font-color3);\n",
       "}\n",
       "\n",
       ".xr-array-preview,\n",
       ".xr-array-data {\n",
       "  padding: 0 5px !important;\n",
       "  grid-column: 2;\n",
       "}\n",
       "\n",
       ".xr-array-data,\n",
       ".xr-array-in:checked ~ .xr-array-preview {\n",
       "  display: none;\n",
       "}\n",
       "\n",
       ".xr-array-in:checked ~ .xr-array-data,\n",
       ".xr-array-preview {\n",
       "  display: inline-block;\n",
       "}\n",
       "\n",
       ".xr-dim-list {\n",
       "  display: inline-block !important;\n",
       "  list-style: none;\n",
       "  padding: 0 !important;\n",
       "  margin: 0;\n",
       "}\n",
       "\n",
       ".xr-dim-list li {\n",
       "  display: inline-block;\n",
       "  padding: 0;\n",
       "  margin: 0;\n",
       "}\n",
       "\n",
       ".xr-dim-list:before {\n",
       "  content: '(';\n",
       "}\n",
       "\n",
       ".xr-dim-list:after {\n",
       "  content: ')';\n",
       "}\n",
       "\n",
       ".xr-dim-list li:not(:last-child):after {\n",
       "  content: ',';\n",
       "  padding-right: 5px;\n",
       "}\n",
       "\n",
       ".xr-has-index {\n",
       "  font-weight: bold;\n",
       "}\n",
       "\n",
       ".xr-var-list,\n",
       ".xr-var-item {\n",
       "  display: contents;\n",
       "}\n",
       "\n",
       ".xr-var-item > div,\n",
       ".xr-var-item label,\n",
       ".xr-var-item > .xr-var-name span {\n",
       "  background-color: var(--xr-background-color-row-even);\n",
       "  margin-bottom: 0;\n",
       "}\n",
       "\n",
       ".xr-var-item > .xr-var-name:hover span {\n",
       "  padding-right: 5px;\n",
       "}\n",
       "\n",
       ".xr-var-list > li:nth-child(odd) > div,\n",
       ".xr-var-list > li:nth-child(odd) > label,\n",
       ".xr-var-list > li:nth-child(odd) > .xr-var-name span {\n",
       "  background-color: var(--xr-background-color-row-odd);\n",
       "}\n",
       "\n",
       ".xr-var-name {\n",
       "  grid-column: 1;\n",
       "}\n",
       "\n",
       ".xr-var-dims {\n",
       "  grid-column: 2;\n",
       "}\n",
       "\n",
       ".xr-var-dtype {\n",
       "  grid-column: 3;\n",
       "  text-align: right;\n",
       "  color: var(--xr-font-color2);\n",
       "}\n",
       "\n",
       ".xr-var-preview {\n",
       "  grid-column: 4;\n",
       "}\n",
       "\n",
       ".xr-index-preview {\n",
       "  grid-column: 2 / 5;\n",
       "  color: var(--xr-font-color2);\n",
       "}\n",
       "\n",
       ".xr-var-name,\n",
       ".xr-var-dims,\n",
       ".xr-var-dtype,\n",
       ".xr-preview,\n",
       ".xr-attrs dt {\n",
       "  white-space: nowrap;\n",
       "  overflow: hidden;\n",
       "  text-overflow: ellipsis;\n",
       "  padding-right: 10px;\n",
       "}\n",
       "\n",
       ".xr-var-name:hover,\n",
       ".xr-var-dims:hover,\n",
       ".xr-var-dtype:hover,\n",
       ".xr-attrs dt:hover {\n",
       "  overflow: visible;\n",
       "  width: auto;\n",
       "  z-index: 1;\n",
       "}\n",
       "\n",
       ".xr-var-attrs,\n",
       ".xr-var-data,\n",
       ".xr-index-data {\n",
       "  display: none;\n",
       "  background-color: var(--xr-background-color) !important;\n",
       "  padding-bottom: 5px !important;\n",
       "}\n",
       "\n",
       ".xr-var-attrs-in:checked ~ .xr-var-attrs,\n",
       ".xr-var-data-in:checked ~ .xr-var-data,\n",
       ".xr-index-data-in:checked ~ .xr-index-data {\n",
       "  display: block;\n",
       "}\n",
       "\n",
       ".xr-var-data > table {\n",
       "  float: right;\n",
       "}\n",
       "\n",
       ".xr-var-name span,\n",
       ".xr-var-data,\n",
       ".xr-index-name div,\n",
       ".xr-index-data,\n",
       ".xr-attrs {\n",
       "  padding-left: 25px !important;\n",
       "}\n",
       "\n",
       ".xr-attrs,\n",
       ".xr-var-attrs,\n",
       ".xr-var-data,\n",
       ".xr-index-data {\n",
       "  grid-column: 1 / -1;\n",
       "}\n",
       "\n",
       "dl.xr-attrs {\n",
       "  padding: 0;\n",
       "  margin: 0;\n",
       "  display: grid;\n",
       "  grid-template-columns: 125px auto;\n",
       "}\n",
       "\n",
       ".xr-attrs dt,\n",
       ".xr-attrs dd {\n",
       "  padding: 0;\n",
       "  margin: 0;\n",
       "  float: left;\n",
       "  padding-right: 10px;\n",
       "  width: auto;\n",
       "}\n",
       "\n",
       ".xr-attrs dt {\n",
       "  font-weight: normal;\n",
       "  grid-column: 1;\n",
       "}\n",
       "\n",
       ".xr-attrs dt:hover span {\n",
       "  display: inline-block;\n",
       "  background: var(--xr-background-color);\n",
       "  padding-right: 10px;\n",
       "}\n",
       "\n",
       ".xr-attrs dd {\n",
       "  grid-column: 2;\n",
       "  white-space: pre-wrap;\n",
       "  word-break: break-all;\n",
       "}\n",
       "\n",
       ".xr-icon-database,\n",
       ".xr-icon-file-text2,\n",
       ".xr-no-icon {\n",
       "  display: inline-block;\n",
       "  vertical-align: middle;\n",
       "  width: 1em;\n",
       "  height: 1.5em !important;\n",
       "  stroke-width: 0;\n",
       "  stroke: currentColor;\n",
       "  fill: currentColor;\n",
       "}\n",
       "</style><pre class='xr-text-repr-fallback'>&lt;xarray.DataArray &#x27;fld_s03i209&#x27; (time: 1, lat: 144, lon_u: 192)&gt;\n",
       "[27648 values with dtype=float32]\n",
       "Coordinates:\n",
       "  * time      (time) object 0981-01-16 12:00:00\n",
       "  * lat       (lat) float64 -89.38 -88.12 -86.88 -85.62 ... 86.88 88.12 89.38\n",
       "  * lon_u     (lon_u) float64 0.0 1.875 3.75 5.625 ... 352.5 354.4 356.2 358.1\n",
       "    height    float64 ...\n",
       "    height_0  float64 ...\n",
       "Attributes:\n",
       "    standard_name:    eastward_wind\n",
       "    long_name:        10 METRE WIND U-COMP\n",
       "    units:            m s-1\n",
       "    um_stash_source:  m01s03i209\n",
       "    cell_methods:     time: mean\n",
       "    grid_mapping:     latitude_longitude</pre><div class='xr-wrap' style='display:none'><div class='xr-header'><div class='xr-obj-type'>xarray.DataArray</div><div class='xr-array-name'>'fld_s03i209'</div><ul class='xr-dim-list'><li><span class='xr-has-index'>time</span>: 1</li><li><span class='xr-has-index'>lat</span>: 144</li><li><span class='xr-has-index'>lon_u</span>: 192</li></ul></div><ul class='xr-sections'><li class='xr-section-item'><div class='xr-array-wrap'><input id='section-2cb64fa1-8435-407e-8266-902f06dc75e0' class='xr-array-in' type='checkbox' checked><label for='section-2cb64fa1-8435-407e-8266-902f06dc75e0' title='Show/hide data repr'><svg class='icon xr-icon-database'><use xlink:href='#icon-database'></use></svg></label><div class='xr-array-preview xr-preview'><span>...</span></div><div class='xr-array-data'><pre>[27648 values with dtype=float32]</pre></div></div></li><li class='xr-section-item'><input id='section-fb74eed5-315e-45ee-b0c3-505c9dc0e890' class='xr-section-summary-in' type='checkbox'  checked><label for='section-fb74eed5-315e-45ee-b0c3-505c9dc0e890' class='xr-section-summary' >Coordinates: <span>(5)</span></label><div class='xr-section-inline-details'></div><div class='xr-section-details'><ul class='xr-var-list'><li class='xr-var-item'><div class='xr-var-name'><span class='xr-has-index'>time</span></div><div class='xr-var-dims'>(time)</div><div class='xr-var-dtype'>object</div><div class='xr-var-preview xr-preview'>0981-01-16 12:00:00</div><input id='attrs-1f795f44-e3f4-49c8-9746-f4bfa730999a' class='xr-var-attrs-in' type='checkbox' ><label for='attrs-1f795f44-e3f4-49c8-9746-f4bfa730999a' title='Show/Hide attributes'><svg class='icon xr-icon-file-text2'><use xlink:href='#icon-file-text2'></use></svg></label><input id='data-2f0a957d-416e-4dc2-9b11-4f175e58dc3d' class='xr-var-data-in' type='checkbox'><label for='data-2f0a957d-416e-4dc2-9b11-4f175e58dc3d' title='Show/Hide data repr'><svg class='icon xr-icon-database'><use xlink:href='#icon-database'></use></svg></label><div class='xr-var-attrs'><dl class='xr-attrs'><dt><span>axis :</span></dt><dd>T</dd><dt><span>bounds :</span></dt><dd>time_bnds</dd><dt><span>standard_name :</span></dt><dd>time</dd></dl></div><div class='xr-var-data'><pre>array([cftime.DatetimeProlepticGregorian(981, 1, 16, 12, 0, 0, 0, has_year_zero=True)],\n",
       "      dtype=object)</pre></div></li><li class='xr-var-item'><div class='xr-var-name'><span class='xr-has-index'>lat</span></div><div class='xr-var-dims'>(lat)</div><div class='xr-var-dtype'>float64</div><div class='xr-var-preview xr-preview'>-89.38 -88.12 ... 88.12 89.38</div><input id='attrs-b67c43cc-303f-4b77-b0ce-592991ae2606' class='xr-var-attrs-in' type='checkbox' ><label for='attrs-b67c43cc-303f-4b77-b0ce-592991ae2606' title='Show/Hide attributes'><svg class='icon xr-icon-file-text2'><use xlink:href='#icon-file-text2'></use></svg></label><input id='data-a8a25abb-17bc-40e4-a022-e9be665c2df6' class='xr-var-data-in' type='checkbox'><label for='data-a8a25abb-17bc-40e4-a022-e9be665c2df6' title='Show/Hide data repr'><svg class='icon xr-icon-database'><use xlink:href='#icon-database'></use></svg></label><div class='xr-var-attrs'><dl class='xr-attrs'><dt><span>axis :</span></dt><dd>Y</dd><dt><span>bounds :</span></dt><dd>lat_bnds</dd><dt><span>units :</span></dt><dd>degrees_north</dd><dt><span>standard_name :</span></dt><dd>latitude</dd></dl></div><div class='xr-var-data'><pre>array([-89.375, -88.125, -86.875, -85.625, -84.375, -83.125, -81.875, -80.625,\n",
       "       -79.375, -78.125, -76.875, -75.625, -74.375, -73.125, -71.875, -70.625,\n",
       "       -69.375, -68.125, -66.875, -65.625, -64.375, -63.125, -61.875, -60.625,\n",
       "       -59.375, -58.125, -56.875, -55.625, -54.375, -53.125, -51.875, -50.625,\n",
       "       -49.375, -48.125, -46.875, -45.625, -44.375, -43.125, -41.875, -40.625,\n",
       "       -39.375, -38.125, -36.875, -35.625, -34.375, -33.125, -31.875, -30.625,\n",
       "       -29.375, -28.125, -26.875, -25.625, -24.375, -23.125, -21.875, -20.625,\n",
       "       -19.375, -18.125, -16.875, -15.625, -14.375, -13.125, -11.875, -10.625,\n",
       "        -9.375,  -8.125,  -6.875,  -5.625,  -4.375,  -3.125,  -1.875,  -0.625,\n",
       "         0.625,   1.875,   3.125,   4.375,   5.625,   6.875,   8.125,   9.375,\n",
       "        10.625,  11.875,  13.125,  14.375,  15.625,  16.875,  18.125,  19.375,\n",
       "        20.625,  21.875,  23.125,  24.375,  25.625,  26.875,  28.125,  29.375,\n",
       "        30.625,  31.875,  33.125,  34.375,  35.625,  36.875,  38.125,  39.375,\n",
       "        40.625,  41.875,  43.125,  44.375,  45.625,  46.875,  48.125,  49.375,\n",
       "        50.625,  51.875,  53.125,  54.375,  55.625,  56.875,  58.125,  59.375,\n",
       "        60.625,  61.875,  63.125,  64.375,  65.625,  66.875,  68.125,  69.375,\n",
       "        70.625,  71.875,  73.125,  74.375,  75.625,  76.875,  78.125,  79.375,\n",
       "        80.625,  81.875,  83.125,  84.375,  85.625,  86.875,  88.125,  89.375])</pre></div></li><li class='xr-var-item'><div class='xr-var-name'><span class='xr-has-index'>lon_u</span></div><div class='xr-var-dims'>(lon_u)</div><div class='xr-var-dtype'>float64</div><div class='xr-var-preview xr-preview'>0.0 1.875 3.75 ... 356.2 358.1</div><input id='attrs-b42bce20-46b2-4e7f-97d1-294ded14744a' class='xr-var-attrs-in' type='checkbox' ><label for='attrs-b42bce20-46b2-4e7f-97d1-294ded14744a' title='Show/Hide attributes'><svg class='icon xr-icon-file-text2'><use xlink:href='#icon-file-text2'></use></svg></label><input id='data-a7538883-ec42-4dd9-bc85-6748352b867b' class='xr-var-data-in' type='checkbox'><label for='data-a7538883-ec42-4dd9-bc85-6748352b867b' title='Show/Hide data repr'><svg class='icon xr-icon-database'><use xlink:href='#icon-database'></use></svg></label><div class='xr-var-attrs'><dl class='xr-attrs'><dt><span>axis :</span></dt><dd>X</dd><dt><span>bounds :</span></dt><dd>lon_u_bnds</dd><dt><span>units :</span></dt><dd>degrees_east</dd><dt><span>standard_name :</span></dt><dd>longitude</dd></dl></div><div class='xr-var-data'><pre>array([  0.   ,   1.875,   3.75 ,   5.625,   7.5  ,   9.375,  11.25 ,  13.125,\n",
       "        15.   ,  16.875,  18.75 ,  20.625,  22.5  ,  24.375,  26.25 ,  28.125,\n",
       "        30.   ,  31.875,  33.75 ,  35.625,  37.5  ,  39.375,  41.25 ,  43.125,\n",
       "        45.   ,  46.875,  48.75 ,  50.625,  52.5  ,  54.375,  56.25 ,  58.125,\n",
       "        60.   ,  61.875,  63.75 ,  65.625,  67.5  ,  69.375,  71.25 ,  73.125,\n",
       "        75.   ,  76.875,  78.75 ,  80.625,  82.5  ,  84.375,  86.25 ,  88.125,\n",
       "        90.   ,  91.875,  93.75 ,  95.625,  97.5  ,  99.375, 101.25 , 103.125,\n",
       "       105.   , 106.875, 108.75 , 110.625, 112.5  , 114.375, 116.25 , 118.125,\n",
       "       120.   , 121.875, 123.75 , 125.625, 127.5  , 129.375, 131.25 , 133.125,\n",
       "       135.   , 136.875, 138.75 , 140.625, 142.5  , 144.375, 146.25 , 148.125,\n",
       "       150.   , 151.875, 153.75 , 155.625, 157.5  , 159.375, 161.25 , 163.125,\n",
       "       165.   , 166.875, 168.75 , 170.625, 172.5  , 174.375, 176.25 , 178.125,\n",
       "       180.   , 181.875, 183.75 , 185.625, 187.5  , 189.375, 191.25 , 193.125,\n",
       "       195.   , 196.875, 198.75 , 200.625, 202.5  , 204.375, 206.25 , 208.125,\n",
       "       210.   , 211.875, 213.75 , 215.625, 217.5  , 219.375, 221.25 , 223.125,\n",
       "       225.   , 226.875, 228.75 , 230.625, 232.5  , 234.375, 236.25 , 238.125,\n",
       "       240.   , 241.875, 243.75 , 245.625, 247.5  , 249.375, 251.25 , 253.125,\n",
       "       255.   , 256.875, 258.75 , 260.625, 262.5  , 264.375, 266.25 , 268.125,\n",
       "       270.   , 271.875, 273.75 , 275.625, 277.5  , 279.375, 281.25 , 283.125,\n",
       "       285.   , 286.875, 288.75 , 290.625, 292.5  , 294.375, 296.25 , 298.125,\n",
       "       300.   , 301.875, 303.75 , 305.625, 307.5  , 309.375, 311.25 , 313.125,\n",
       "       315.   , 316.875, 318.75 , 320.625, 322.5  , 324.375, 326.25 , 328.125,\n",
       "       330.   , 331.875, 333.75 , 335.625, 337.5  , 339.375, 341.25 , 343.125,\n",
       "       345.   , 346.875, 348.75 , 350.625, 352.5  , 354.375, 356.25 , 358.125])</pre></div></li><li class='xr-var-item'><div class='xr-var-name'><span>height</span></div><div class='xr-var-dims'>()</div><div class='xr-var-dtype'>float64</div><div class='xr-var-preview xr-preview'>...</div><input id='attrs-ebf14044-30a6-4a0b-a605-bace88278db4' class='xr-var-attrs-in' type='checkbox' ><label for='attrs-ebf14044-30a6-4a0b-a605-bace88278db4' title='Show/Hide attributes'><svg class='icon xr-icon-file-text2'><use xlink:href='#icon-file-text2'></use></svg></label><input id='data-ff6309e6-ffea-47a8-88fb-adf0b7b8d68c' class='xr-var-data-in' type='checkbox'><label for='data-ff6309e6-ffea-47a8-88fb-adf0b7b8d68c' title='Show/Hide data repr'><svg class='icon xr-icon-database'><use xlink:href='#icon-database'></use></svg></label><div class='xr-var-attrs'><dl class='xr-attrs'><dt><span>units :</span></dt><dd>m</dd><dt><span>standard_name :</span></dt><dd>height</dd><dt><span>positive :</span></dt><dd>up</dd></dl></div><div class='xr-var-data'><pre>[1 values with dtype=float64]</pre></div></li><li class='xr-var-item'><div class='xr-var-name'><span>height_0</span></div><div class='xr-var-dims'>()</div><div class='xr-var-dtype'>float64</div><div class='xr-var-preview xr-preview'>...</div><input id='attrs-898145f6-cde5-4b3e-9075-88b1bf8d9f07' class='xr-var-attrs-in' type='checkbox' ><label for='attrs-898145f6-cde5-4b3e-9075-88b1bf8d9f07' title='Show/Hide attributes'><svg class='icon xr-icon-file-text2'><use xlink:href='#icon-file-text2'></use></svg></label><input id='data-89a1a996-075c-4c0a-b782-b99372f482c6' class='xr-var-data-in' type='checkbox'><label for='data-89a1a996-075c-4c0a-b782-b99372f482c6' title='Show/Hide data repr'><svg class='icon xr-icon-database'><use xlink:href='#icon-database'></use></svg></label><div class='xr-var-attrs'><dl class='xr-attrs'><dt><span>units :</span></dt><dd>m</dd><dt><span>standard_name :</span></dt><dd>height</dd><dt><span>positive :</span></dt><dd>up</dd></dl></div><div class='xr-var-data'><pre>[1 values with dtype=float64]</pre></div></li></ul></div></li><li class='xr-section-item'><input id='section-88ece52f-036e-4065-939a-a9e1afa96f84' class='xr-section-summary-in' type='checkbox'  ><label for='section-88ece52f-036e-4065-939a-a9e1afa96f84' class='xr-section-summary' >Indexes: <span>(3)</span></label><div class='xr-section-inline-details'></div><div class='xr-section-details'><ul class='xr-var-list'><li class='xr-var-item'><div class='xr-index-name'><div>time</div></div><div class='xr-index-preview'>PandasIndex</div><div></div><input id='index-279f0c4d-79f5-4f76-81df-fa403c9ec7d7' class='xr-index-data-in' type='checkbox'/><label for='index-279f0c4d-79f5-4f76-81df-fa403c9ec7d7' title='Show/Hide index repr'><svg class='icon xr-icon-database'><use xlink:href='#icon-database'></use></svg></label><div class='xr-index-data'><pre>PandasIndex(CFTimeIndex([0981-01-16 12:00:00],\n",
       "            dtype=&#x27;object&#x27;,\n",
       "            length=1,\n",
       "            calendar=&#x27;proleptic_gregorian&#x27;,\n",
       "            freq=None))</pre></div></li><li class='xr-var-item'><div class='xr-index-name'><div>lat</div></div><div class='xr-index-preview'>PandasIndex</div><div></div><input id='index-82d02b12-1292-47a8-a812-8e31e0897b94' class='xr-index-data-in' type='checkbox'/><label for='index-82d02b12-1292-47a8-a812-8e31e0897b94' title='Show/Hide index repr'><svg class='icon xr-icon-database'><use xlink:href='#icon-database'></use></svg></label><div class='xr-index-data'><pre>PandasIndex(Float64Index([-89.375, -88.125, -86.875, -85.625, -84.375, -83.125, -81.875,\n",
       "              -80.625, -79.375, -78.125,\n",
       "              ...\n",
       "               78.125,  79.375,  80.625,  81.875,  83.125,  84.375,  85.625,\n",
       "               86.875,  88.125,  89.375],\n",
       "             dtype=&#x27;float64&#x27;, name=&#x27;lat&#x27;, length=144))</pre></div></li><li class='xr-var-item'><div class='xr-index-name'><div>lon_u</div></div><div class='xr-index-preview'>PandasIndex</div><div></div><input id='index-970a7d21-8588-4bdb-a484-d55aa9024a06' class='xr-index-data-in' type='checkbox'/><label for='index-970a7d21-8588-4bdb-a484-d55aa9024a06' title='Show/Hide index repr'><svg class='icon xr-icon-database'><use xlink:href='#icon-database'></use></svg></label><div class='xr-index-data'><pre>PandasIndex(Float64Index([    0.0,   1.875,    3.75,   5.625,     7.5,   9.375,   11.25,\n",
       "               13.125,    15.0,  16.875,\n",
       "              ...\n",
       "               341.25, 343.125,   345.0, 346.875,  348.75, 350.625,   352.5,\n",
       "              354.375,  356.25, 358.125],\n",
       "             dtype=&#x27;float64&#x27;, name=&#x27;lon_u&#x27;, length=192))</pre></div></li></ul></div></li><li class='xr-section-item'><input id='section-8aa16c16-8ba5-4539-a344-adc50dc06e7e' class='xr-section-summary-in' type='checkbox'  checked><label for='section-8aa16c16-8ba5-4539-a344-adc50dc06e7e' class='xr-section-summary' >Attributes: <span>(6)</span></label><div class='xr-section-inline-details'></div><div class='xr-section-details'><dl class='xr-attrs'><dt><span>standard_name :</span></dt><dd>eastward_wind</dd><dt><span>long_name :</span></dt><dd>10 METRE WIND U-COMP</dd><dt><span>units :</span></dt><dd>m s-1</dd><dt><span>um_stash_source :</span></dt><dd>m01s03i209</dd><dt><span>cell_methods :</span></dt><dd>time: mean</dd><dt><span>grid_mapping :</span></dt><dd>latitude_longitude</dd></dl></div></li></ul></div></div>"
      ],
      "text/plain": [
       "<xarray.DataArray 'fld_s03i209' (time: 1, lat: 144, lon_u: 192)>\n",
       "[27648 values with dtype=float32]\n",
       "Coordinates:\n",
       "  * time      (time) object 0981-01-16 12:00:00\n",
       "  * lat       (lat) float64 -89.38 -88.12 -86.88 -85.62 ... 86.88 88.12 89.38\n",
       "  * lon_u     (lon_u) float64 0.0 1.875 3.75 5.625 ... 352.5 354.4 356.2 358.1\n",
       "    height    float64 ...\n",
       "    height_0  float64 ...\n",
       "Attributes:\n",
       "    standard_name:    eastward_wind\n",
       "    long_name:        10 METRE WIND U-COMP\n",
       "    units:            m s-1\n",
       "    um_stash_source:  m01s03i209\n",
       "    cell_methods:     time: mean\n",
       "    grid_mapping:     latitude_longitude"
      ]
     },
     "execution_count": 28,
     "metadata": {},
     "output_type": "execute_result"
    }
   ],
   "source": [
    "test.fld_s03i209"
   ]
  },
  {
   "cell_type": "code",
   "execution_count": 12,
   "id": "5991fb8e-ee24-4837-8720-98d9a6fc4bdf",
   "metadata": {},
   "outputs": [],
   "source": [
    "data_dir = \"/scratch/e14/sm2435/PACE_OC/cy286/history/atm/netCDF/\""
   ]
  },
  {
   "cell_type": "code",
   "execution_count": 11,
   "id": "50bf89b0-cbe2-4f15-b9cc-d26b1571ef25",
   "metadata": {
    "tags": []
   },
   "outputs": [],
   "source": [
    "outdir = \"/g/data/e14/sm2435/Exps_ACCESS_initial/VC_psl/\""
   ]
  },
  {
   "cell_type": "code",
   "execution_count": 13,
   "id": "b8f75b87-9144-402e-a156-54381dae476f",
   "metadata": {
    "tags": []
   },
   "outputs": [
    {
     "name": "stdout",
     "output_type": "stream",
     "text": [
      "/scratch/e14/sm2435/PACE_OC/cy286/history/atm/netCDF/cy286a.pm0951*\n",
      "/scratch/e14/sm2435/PACE_OC/cy286/history/atm/netCDF/cy286a.pm0952*\n",
      "/scratch/e14/sm2435/PACE_OC/cy286/history/atm/netCDF/cy286a.pm0953*\n",
      "/scratch/e14/sm2435/PACE_OC/cy286/history/atm/netCDF/cy286a.pm0954*\n",
      "/scratch/e14/sm2435/PACE_OC/cy286/history/atm/netCDF/cy286a.pm0955*\n",
      "/scratch/e14/sm2435/PACE_OC/cy286/history/atm/netCDF/cy286a.pm0956*\n",
      "/scratch/e14/sm2435/PACE_OC/cy286/history/atm/netCDF/cy286a.pm0957*\n",
      "/scratch/e14/sm2435/PACE_OC/cy286/history/atm/netCDF/cy286a.pm0958*\n",
      "/scratch/e14/sm2435/PACE_OC/cy286/history/atm/netCDF/cy286a.pm0959*\n",
      "/scratch/e14/sm2435/PACE_OC/cy286/history/atm/netCDF/cy286a.pm0960*\n",
      "/scratch/e14/sm2435/PACE_OC/cy286/history/atm/netCDF/cy286a.pm0961*\n",
      "/scratch/e14/sm2435/PACE_OC/cy286/history/atm/netCDF/cy286a.pm0962*\n",
      "/scratch/e14/sm2435/PACE_OC/cy286/history/atm/netCDF/cy286a.pm0963*\n",
      "/scratch/e14/sm2435/PACE_OC/cy286/history/atm/netCDF/cy286a.pm0964*\n",
      "/scratch/e14/sm2435/PACE_OC/cy286/history/atm/netCDF/cy286a.pm0965*\n",
      "/scratch/e14/sm2435/PACE_OC/cy286/history/atm/netCDF/cy286a.pm0966*\n",
      "/scratch/e14/sm2435/PACE_OC/cy286/history/atm/netCDF/cy286a.pm0967*\n",
      "/scratch/e14/sm2435/PACE_OC/cy286/history/atm/netCDF/cy286a.pm0968*\n",
      "/scratch/e14/sm2435/PACE_OC/cy286/history/atm/netCDF/cy286a.pm0969*\n",
      "/scratch/e14/sm2435/PACE_OC/cy286/history/atm/netCDF/cy286a.pm0970*\n",
      "/scratch/e14/sm2435/PACE_OC/cy286/history/atm/netCDF/cy286a.pm0971*\n",
      "/scratch/e14/sm2435/PACE_OC/cy286/history/atm/netCDF/cy286a.pm0972*\n",
      "/scratch/e14/sm2435/PACE_OC/cy286/history/atm/netCDF/cy286a.pm0973*\n",
      "/scratch/e14/sm2435/PACE_OC/cy286/history/atm/netCDF/cy286a.pm0974*\n",
      "/scratch/e14/sm2435/PACE_OC/cy286/history/atm/netCDF/cy286a.pm0975*\n",
      "/scratch/e14/sm2435/PACE_OC/cy286/history/atm/netCDF/cy286a.pm0976*\n",
      "/scratch/e14/sm2435/PACE_OC/cy286/history/atm/netCDF/cy286a.pm0977*\n",
      "/scratch/e14/sm2435/PACE_OC/cy286/history/atm/netCDF/cy286a.pm0978*\n",
      "/scratch/e14/sm2435/PACE_OC/cy286/history/atm/netCDF/cy286a.pm0979*\n",
      "/scratch/e14/sm2435/PACE_OC/cy286/history/atm/netCDF/cy286a.pm0980*\n",
      "/scratch/e14/sm2435/PACE_OC/cy286/history/atm/netCDF/cy286a.pm0981*\n",
      "/scratch/e14/sm2435/PACE_OC/cy286/history/atm/netCDF/cy286a.pm0982*\n",
      "/scratch/e14/sm2435/PACE_OC/cy286/history/atm/netCDF/cy286a.pm0983*\n",
      "/scratch/e14/sm2435/PACE_OC/cy286/history/atm/netCDF/cy286a.pm0984*\n",
      "/scratch/e14/sm2435/PACE_OC/cy286/history/atm/netCDF/cy286a.pm0985*\n",
      "/scratch/e14/sm2435/PACE_OC/cy286/history/atm/netCDF/cy286a.pm0986*\n",
      "/scratch/e14/sm2435/PACE_OC/cy286/history/atm/netCDF/cy286a.pm0987*\n",
      "/scratch/e14/sm2435/PACE_OC/cy286/history/atm/netCDF/cy286a.pm0988*\n",
      "/scratch/e14/sm2435/PACE_OC/cy286/history/atm/netCDF/cy286a.pm0989*\n",
      "/scratch/e14/sm2435/PACE_OC/cy286/history/atm/netCDF/cy286a.pm0990*\n",
      "/scratch/e14/sm2435/PACE_OC/cy286/history/atm/netCDF/cy286a.pm0991*\n",
      "/scratch/e14/sm2435/PACE_OC/cy286/history/atm/netCDF/cy286a.pm0992*\n",
      "/scratch/e14/sm2435/PACE_OC/cy286/history/atm/netCDF/cy286a.pm0993*\n",
      "/scratch/e14/sm2435/PACE_OC/cy286/history/atm/netCDF/cy286a.pm0994*\n",
      "/scratch/e14/sm2435/PACE_OC/cy286/history/atm/netCDF/cy286a.pm0995*\n",
      "/scratch/e14/sm2435/PACE_OC/cy286/history/atm/netCDF/cy286a.pm0996*\n",
      "/scratch/e14/sm2435/PACE_OC/cy286/history/atm/netCDF/cy286a.pm0997*\n",
      "/scratch/e14/sm2435/PACE_OC/cy286/history/atm/netCDF/cy286a.pm0998*\n",
      "/scratch/e14/sm2435/PACE_OC/cy286/history/atm/netCDF/cy286a.pm0999*\n",
      "/scratch/e14/sm2435/PACE_OC/cy286/history/atm/netCDF/cy286a.pm1000*\n"
     ]
    }
   ],
   "source": [
    "for i in range(951,1001,1):\n",
    "    formatted_i = str(i).zfill(4)\n",
    "    files = data_dir + f\"cy286a.pm{formatted_i}*\"\n",
    "    print(files)\n",
    "    rain = xr.open_mfdataset(files, use_cftime=True, chunks= {\"time\":12}).fld_s00i409\n",
    "    rain.to_netcdf(outdir+f\"VC_pr{formatted_i}.nc\")"
   ]
  },
  {
   "cell_type": "code",
   "execution_count": 14,
   "id": "78d2863d-d80b-4696-bb8b-90230dfbb344",
   "metadata": {
    "tags": []
   },
   "outputs": [
    {
     "name": "stdout",
     "output_type": "stream",
     "text": [
      "/scratch/e14/sm2435/PACE_OC/cw323/history/atm/netCDF/cw323a.pm0981*\n",
      "/scratch/e14/sm2435/PACE_OC/cw323/history/atm/netCDF/cw323a.pm0982*\n",
      "/scratch/e14/sm2435/PACE_OC/cw323/history/atm/netCDF/cw323a.pm0983*\n",
      "/scratch/e14/sm2435/PACE_OC/cw323/history/atm/netCDF/cw323a.pm0984*\n",
      "/scratch/e14/sm2435/PACE_OC/cw323/history/atm/netCDF/cw323a.pm0985*\n",
      "/scratch/e14/sm2435/PACE_OC/cw323/history/atm/netCDF/cw323a.pm0986*\n",
      "/scratch/e14/sm2435/PACE_OC/cw323/history/atm/netCDF/cw323a.pm0987*\n",
      "/scratch/e14/sm2435/PACE_OC/cw323/history/atm/netCDF/cw323a.pm0988*\n",
      "/scratch/e14/sm2435/PACE_OC/cw323/history/atm/netCDF/cw323a.pm0989*\n",
      "/scratch/e14/sm2435/PACE_OC/cw323/history/atm/netCDF/cw323a.pm0990*\n",
      "/scratch/e14/sm2435/PACE_OC/cw323/history/atm/netCDF/cw323a.pm0991*\n",
      "/scratch/e14/sm2435/PACE_OC/cw323/history/atm/netCDF/cw323a.pm0992*\n",
      "/scratch/e14/sm2435/PACE_OC/cw323/history/atm/netCDF/cw323a.pm0993*\n",
      "/scratch/e14/sm2435/PACE_OC/cw323/history/atm/netCDF/cw323a.pm0994*\n",
      "/scratch/e14/sm2435/PACE_OC/cw323/history/atm/netCDF/cw323a.pm0995*\n",
      "/scratch/e14/sm2435/PACE_OC/cw323/history/atm/netCDF/cw323a.pm0996*\n",
      "/scratch/e14/sm2435/PACE_OC/cw323/history/atm/netCDF/cw323a.pm0997*\n",
      "/scratch/e14/sm2435/PACE_OC/cw323/history/atm/netCDF/cw323a.pm0998*\n",
      "/scratch/e14/sm2435/PACE_OC/cw323/history/atm/netCDF/cw323a.pm0999*\n",
      "/scratch/e14/sm2435/PACE_OC/cw323/history/atm/netCDF/cw323a.pm1000*\n"
     ]
    }
   ],
   "source": [
    "data_dir = \"/scratch/e14/sm2435/PACE_OC/cw323/history/atm/netCDF/\"\n",
    "outdir = \"/g/data/e14/sm2435/Exps_ACCESS_initial/OC_psl/\"\n",
    "for i in range(981,1001,1):\n",
    "    formatted_i = str(i).zfill(4)\n",
    "    files = data_dir + f\"cw323a.pm{formatted_i}*\"\n",
    "    print(files)\n",
    "    rain = xr.open_mfdataset(files, use_cftime=True, parallel=True).fld_s00i409\n",
    "    rain.to_netcdf(outdir+f\"OC_pr{formatted_i}.nc\")"
   ]
  },
  {
   "cell_type": "code",
   "execution_count": 15,
   "id": "8f2d3238-18d6-4d6d-9eb8-e3d6b985d6dc",
   "metadata": {
    "tags": []
   },
   "outputs": [
    {
     "name": "stdout",
     "output_type": "stream",
     "text": [
      "/g/data/e14/sm2435/PACE_OC/cw323/history/atm/netCDF/cw323a.pm0951*\n",
      "/g/data/e14/sm2435/PACE_OC/cw323/history/atm/netCDF/cw323a.pm0952*\n",
      "/g/data/e14/sm2435/PACE_OC/cw323/history/atm/netCDF/cw323a.pm0953*\n",
      "/g/data/e14/sm2435/PACE_OC/cw323/history/atm/netCDF/cw323a.pm0954*\n",
      "/g/data/e14/sm2435/PACE_OC/cw323/history/atm/netCDF/cw323a.pm0955*\n",
      "/g/data/e14/sm2435/PACE_OC/cw323/history/atm/netCDF/cw323a.pm0956*\n",
      "/g/data/e14/sm2435/PACE_OC/cw323/history/atm/netCDF/cw323a.pm0957*\n",
      "/g/data/e14/sm2435/PACE_OC/cw323/history/atm/netCDF/cw323a.pm0958*\n",
      "/g/data/e14/sm2435/PACE_OC/cw323/history/atm/netCDF/cw323a.pm0959*\n",
      "/g/data/e14/sm2435/PACE_OC/cw323/history/atm/netCDF/cw323a.pm0960*\n",
      "/g/data/e14/sm2435/PACE_OC/cw323/history/atm/netCDF/cw323a.pm0961*\n",
      "/g/data/e14/sm2435/PACE_OC/cw323/history/atm/netCDF/cw323a.pm0962*\n",
      "/g/data/e14/sm2435/PACE_OC/cw323/history/atm/netCDF/cw323a.pm0963*\n",
      "/g/data/e14/sm2435/PACE_OC/cw323/history/atm/netCDF/cw323a.pm0964*\n",
      "/g/data/e14/sm2435/PACE_OC/cw323/history/atm/netCDF/cw323a.pm0965*\n",
      "/g/data/e14/sm2435/PACE_OC/cw323/history/atm/netCDF/cw323a.pm0966*\n",
      "/g/data/e14/sm2435/PACE_OC/cw323/history/atm/netCDF/cw323a.pm0967*\n",
      "/g/data/e14/sm2435/PACE_OC/cw323/history/atm/netCDF/cw323a.pm0968*\n",
      "/g/data/e14/sm2435/PACE_OC/cw323/history/atm/netCDF/cw323a.pm0969*\n",
      "/g/data/e14/sm2435/PACE_OC/cw323/history/atm/netCDF/cw323a.pm0970*\n",
      "/g/data/e14/sm2435/PACE_OC/cw323/history/atm/netCDF/cw323a.pm0971*\n",
      "/g/data/e14/sm2435/PACE_OC/cw323/history/atm/netCDF/cw323a.pm0972*\n",
      "/g/data/e14/sm2435/PACE_OC/cw323/history/atm/netCDF/cw323a.pm0973*\n",
      "/g/data/e14/sm2435/PACE_OC/cw323/history/atm/netCDF/cw323a.pm0974*\n",
      "/g/data/e14/sm2435/PACE_OC/cw323/history/atm/netCDF/cw323a.pm0975*\n",
      "/g/data/e14/sm2435/PACE_OC/cw323/history/atm/netCDF/cw323a.pm0976*\n",
      "/g/data/e14/sm2435/PACE_OC/cw323/history/atm/netCDF/cw323a.pm0977*\n",
      "/g/data/e14/sm2435/PACE_OC/cw323/history/atm/netCDF/cw323a.pm0978*\n",
      "/g/data/e14/sm2435/PACE_OC/cw323/history/atm/netCDF/cw323a.pm0979*\n",
      "/g/data/e14/sm2435/PACE_OC/cw323/history/atm/netCDF/cw323a.pm0980*\n"
     ]
    }
   ],
   "source": [
    "data_dir = \"/g/data/e14/sm2435/PACE_OC/cw323/history/atm/netCDF/\"\n",
    "outdir = \"/g/data/e14/sm2435/Exps_ACCESS_initial/OC_psl/\"\n",
    "for i in range(951,981,1):\n",
    "    formatted_i = str(i).zfill(4)\n",
    "    files = data_dir + f\"cw323a.pm{formatted_i}*\"\n",
    "    print(files)\n",
    "    rain = xr.open_mfdataset(files, use_cftime=True, parallel=True).fld_s00i409\n",
    "    rain.to_netcdf(outdir+f\"OC_pr{formatted_i}.nc\")"
   ]
  },
  {
   "cell_type": "code",
   "execution_count": 5,
   "id": "b6a7c066-5d64-4770-bca9-22b70e8e3ee6",
   "metadata": {
    "tags": []
   },
   "outputs": [
    {
     "name": "stdout",
     "output_type": "stream",
     "text": [
      "/g/data/hh5/tmp/zg0866/cm000_APP4_archive/cm000/history/atm/netCDF/cm000a.pm0951_mon.nc\n",
      "/g/data/hh5/tmp/zg0866/cm000_APP4_archive/cm000/history/atm/netCDF/cm000a.pm0952_mon.nc\n",
      "/g/data/hh5/tmp/zg0866/cm000_APP4_archive/cm000/history/atm/netCDF/cm000a.pm0953_mon.nc\n",
      "/g/data/hh5/tmp/zg0866/cm000_APP4_archive/cm000/history/atm/netCDF/cm000a.pm0954_mon.nc\n",
      "/g/data/hh5/tmp/zg0866/cm000_APP4_archive/cm000/history/atm/netCDF/cm000a.pm0955_mon.nc\n"
     ]
    },
    {
     "name": "stderr",
     "output_type": "stream",
     "text": [
      "2023-09-11 14:31:29,603 - distributed.utils_perf - WARNING - full garbage collections took 13% CPU time recently (threshold: 10%)\n"
     ]
    },
    {
     "name": "stdout",
     "output_type": "stream",
     "text": [
      "/g/data/hh5/tmp/zg0866/cm000_APP4_archive/cm000/history/atm/netCDF/cm000a.pm0956_mon.nc\n",
      "/g/data/hh5/tmp/zg0866/cm000_APP4_archive/cm000/history/atm/netCDF/cm000a.pm0957_mon.nc\n",
      "/g/data/hh5/tmp/zg0866/cm000_APP4_archive/cm000/history/atm/netCDF/cm000a.pm0958_mon.nc\n",
      "/g/data/hh5/tmp/zg0866/cm000_APP4_archive/cm000/history/atm/netCDF/cm000a.pm0959_mon.nc\n",
      "/g/data/hh5/tmp/zg0866/cm000_APP4_archive/cm000/history/atm/netCDF/cm000a.pm0960_mon.nc\n",
      "/g/data/hh5/tmp/zg0866/cm000_APP4_archive/cm000/history/atm/netCDF/cm000a.pm0961_mon.nc\n",
      "/g/data/hh5/tmp/zg0866/cm000_APP4_archive/cm000/history/atm/netCDF/cm000a.pm0962_mon.nc\n",
      "/g/data/hh5/tmp/zg0866/cm000_APP4_archive/cm000/history/atm/netCDF/cm000a.pm0963_mon.nc\n",
      "/g/data/hh5/tmp/zg0866/cm000_APP4_archive/cm000/history/atm/netCDF/cm000a.pm0964_mon.nc\n",
      "/g/data/hh5/tmp/zg0866/cm000_APP4_archive/cm000/history/atm/netCDF/cm000a.pm0965_mon.nc\n",
      "/g/data/hh5/tmp/zg0866/cm000_APP4_archive/cm000/history/atm/netCDF/cm000a.pm0966_mon.nc\n",
      "/g/data/hh5/tmp/zg0866/cm000_APP4_archive/cm000/history/atm/netCDF/cm000a.pm0967_mon.nc\n",
      "/g/data/hh5/tmp/zg0866/cm000_APP4_archive/cm000/history/atm/netCDF/cm000a.pm0968_mon.nc\n",
      "/g/data/hh5/tmp/zg0866/cm000_APP4_archive/cm000/history/atm/netCDF/cm000a.pm0969_mon.nc\n",
      "/g/data/hh5/tmp/zg0866/cm000_APP4_archive/cm000/history/atm/netCDF/cm000a.pm0970_mon.nc\n"
     ]
    },
    {
     "name": "stderr",
     "output_type": "stream",
     "text": [
      "2023-09-11 14:31:41,267 - distributed.utils_perf - WARNING - full garbage collections took 13% CPU time recently (threshold: 10%)\n"
     ]
    },
    {
     "name": "stdout",
     "output_type": "stream",
     "text": [
      "/g/data/hh5/tmp/zg0866/cm000_APP4_archive/cm000/history/atm/netCDF/cm000a.pm0971_mon.nc\n",
      "/g/data/hh5/tmp/zg0866/cm000_APP4_archive/cm000/history/atm/netCDF/cm000a.pm0972_mon.nc\n",
      "/g/data/hh5/tmp/zg0866/cm000_APP4_archive/cm000/history/atm/netCDF/cm000a.pm0973_mon.nc\n",
      "/g/data/hh5/tmp/zg0866/cm000_APP4_archive/cm000/history/atm/netCDF/cm000a.pm0974_mon.nc\n",
      "/g/data/hh5/tmp/zg0866/cm000_APP4_archive/cm000/history/atm/netCDF/cm000a.pm0975_mon.nc\n",
      "/g/data/hh5/tmp/zg0866/cm000_APP4_archive/cm000/history/atm/netCDF/cm000a.pm0976_mon.nc\n",
      "/g/data/hh5/tmp/zg0866/cm000_APP4_archive/cm000/history/atm/netCDF/cm000a.pm0977_mon.nc\n",
      "/g/data/hh5/tmp/zg0866/cm000_APP4_archive/cm000/history/atm/netCDF/cm000a.pm0978_mon.nc\n",
      "/g/data/hh5/tmp/zg0866/cm000_APP4_archive/cm000/history/atm/netCDF/cm000a.pm0979_mon.nc\n",
      "/g/data/hh5/tmp/zg0866/cm000_APP4_archive/cm000/history/atm/netCDF/cm000a.pm0980_mon.nc\n",
      "/g/data/hh5/tmp/zg0866/cm000_APP4_archive/cm000/history/atm/netCDF/cm000a.pm0981_mon.nc\n",
      "/g/data/hh5/tmp/zg0866/cm000_APP4_archive/cm000/history/atm/netCDF/cm000a.pm0982_mon.nc\n",
      "/g/data/hh5/tmp/zg0866/cm000_APP4_archive/cm000/history/atm/netCDF/cm000a.pm0983_mon.nc\n",
      "/g/data/hh5/tmp/zg0866/cm000_APP4_archive/cm000/history/atm/netCDF/cm000a.pm0984_mon.nc\n"
     ]
    },
    {
     "name": "stderr",
     "output_type": "stream",
     "text": [
      "2023-09-11 14:31:53,309 - distributed.utils_perf - WARNING - full garbage collections took 13% CPU time recently (threshold: 10%)\n"
     ]
    },
    {
     "name": "stdout",
     "output_type": "stream",
     "text": [
      "/g/data/hh5/tmp/zg0866/cm000_APP4_archive/cm000/history/atm/netCDF/cm000a.pm0985_mon.nc\n",
      "/g/data/hh5/tmp/zg0866/cm000_APP4_archive/cm000/history/atm/netCDF/cm000a.pm0986_mon.nc\n",
      "/g/data/hh5/tmp/zg0866/cm000_APP4_archive/cm000/history/atm/netCDF/cm000a.pm0987_mon.nc\n",
      "/g/data/hh5/tmp/zg0866/cm000_APP4_archive/cm000/history/atm/netCDF/cm000a.pm0988_mon.nc\n",
      "/g/data/hh5/tmp/zg0866/cm000_APP4_archive/cm000/history/atm/netCDF/cm000a.pm0989_mon.nc\n",
      "/g/data/hh5/tmp/zg0866/cm000_APP4_archive/cm000/history/atm/netCDF/cm000a.pm0990_mon.nc\n",
      "/g/data/hh5/tmp/zg0866/cm000_APP4_archive/cm000/history/atm/netCDF/cm000a.pm0991_mon.nc\n",
      "/g/data/hh5/tmp/zg0866/cm000_APP4_archive/cm000/history/atm/netCDF/cm000a.pm0992_mon.nc\n",
      "/g/data/hh5/tmp/zg0866/cm000_APP4_archive/cm000/history/atm/netCDF/cm000a.pm0993_mon.nc\n",
      "/g/data/hh5/tmp/zg0866/cm000_APP4_archive/cm000/history/atm/netCDF/cm000a.pm0994_mon.nc\n",
      "/g/data/hh5/tmp/zg0866/cm000_APP4_archive/cm000/history/atm/netCDF/cm000a.pm0995_mon.nc\n",
      "/g/data/hh5/tmp/zg0866/cm000_APP4_archive/cm000/history/atm/netCDF/cm000a.pm0996_mon.nc\n",
      "/g/data/hh5/tmp/zg0866/cm000_APP4_archive/cm000/history/atm/netCDF/cm000a.pm0997_mon.nc\n",
      "/g/data/hh5/tmp/zg0866/cm000_APP4_archive/cm000/history/atm/netCDF/cm000a.pm0998_mon.nc\n",
      "/g/data/hh5/tmp/zg0866/cm000_APP4_archive/cm000/history/atm/netCDF/cm000a.pm0999_mon.nc\n",
      "/g/data/hh5/tmp/zg0866/cm000_APP4_archive/cm000/history/atm/netCDF/cm000a.pm1000_mon.nc\n"
     ]
    },
    {
     "name": "stderr",
     "output_type": "stream",
     "text": [
      "2023-09-11 14:32:05,422 - distributed.utils_perf - WARNING - full garbage collections took 13% CPU time recently (threshold: 10%)\n"
     ]
    },
    {
     "name": "stdout",
     "output_type": "stream",
     "text": [
      "/g/data/hh5/tmp/zg0866/cm000_APP4_archive/cm000/history/atm/netCDF/cm000a.pm1001_mon.nc\n",
      "/g/data/hh5/tmp/zg0866/cm000_APP4_archive/cm000/history/atm/netCDF/cm000a.pm1002_mon.nc\n",
      "/g/data/hh5/tmp/zg0866/cm000_APP4_archive/cm000/history/atm/netCDF/cm000a.pm1003_mon.nc\n",
      "/g/data/hh5/tmp/zg0866/cm000_APP4_archive/cm000/history/atm/netCDF/cm000a.pm1004_mon.nc\n",
      "/g/data/hh5/tmp/zg0866/cm000_APP4_archive/cm000/history/atm/netCDF/cm000a.pm1005_mon.nc\n",
      "/g/data/hh5/tmp/zg0866/cm000_APP4_archive/cm000/history/atm/netCDF/cm000a.pm1006_mon.nc\n",
      "/g/data/hh5/tmp/zg0866/cm000_APP4_archive/cm000/history/atm/netCDF/cm000a.pm1007_mon.nc\n",
      "/g/data/hh5/tmp/zg0866/cm000_APP4_archive/cm000/history/atm/netCDF/cm000a.pm1008_mon.nc\n",
      "/g/data/hh5/tmp/zg0866/cm000_APP4_archive/cm000/history/atm/netCDF/cm000a.pm1009_mon.nc\n",
      "/g/data/hh5/tmp/zg0866/cm000_APP4_archive/cm000/history/atm/netCDF/cm000a.pm1010_mon.nc\n",
      "/g/data/hh5/tmp/zg0866/cm000_APP4_archive/cm000/history/atm/netCDF/cm000a.pm1011_mon.nc\n",
      "/g/data/hh5/tmp/zg0866/cm000_APP4_archive/cm000/history/atm/netCDF/cm000a.pm1012_mon.nc\n",
      "/g/data/hh5/tmp/zg0866/cm000_APP4_archive/cm000/history/atm/netCDF/cm000a.pm1013_mon.nc\n",
      "/g/data/hh5/tmp/zg0866/cm000_APP4_archive/cm000/history/atm/netCDF/cm000a.pm1014_mon.nc\n",
      "/g/data/hh5/tmp/zg0866/cm000_APP4_archive/cm000/history/atm/netCDF/cm000a.pm1015_mon.nc\n"
     ]
    },
    {
     "name": "stderr",
     "output_type": "stream",
     "text": [
      "2023-09-11 14:32:16,973 - distributed.utils_perf - WARNING - full garbage collections took 13% CPU time recently (threshold: 10%)\n"
     ]
    },
    {
     "name": "stdout",
     "output_type": "stream",
     "text": [
      "/g/data/hh5/tmp/zg0866/cm000_APP4_archive/cm000/history/atm/netCDF/cm000a.pm1016_mon.nc\n",
      "/g/data/hh5/tmp/zg0866/cm000_APP4_archive/cm000/history/atm/netCDF/cm000a.pm1017_mon.nc\n",
      "/g/data/hh5/tmp/zg0866/cm000_APP4_archive/cm000/history/atm/netCDF/cm000a.pm1018_mon.nc\n",
      "/g/data/hh5/tmp/zg0866/cm000_APP4_archive/cm000/history/atm/netCDF/cm000a.pm1019_mon.nc\n",
      "/g/data/hh5/tmp/zg0866/cm000_APP4_archive/cm000/history/atm/netCDF/cm000a.pm1020_mon.nc\n",
      "/g/data/hh5/tmp/zg0866/cm000_APP4_archive/cm000/history/atm/netCDF/cm000a.pm1021_mon.nc\n",
      "/g/data/hh5/tmp/zg0866/cm000_APP4_archive/cm000/history/atm/netCDF/cm000a.pm1022_mon.nc\n",
      "/g/data/hh5/tmp/zg0866/cm000_APP4_archive/cm000/history/atm/netCDF/cm000a.pm1023_mon.nc\n",
      "/g/data/hh5/tmp/zg0866/cm000_APP4_archive/cm000/history/atm/netCDF/cm000a.pm1024_mon.nc\n",
      "/g/data/hh5/tmp/zg0866/cm000_APP4_archive/cm000/history/atm/netCDF/cm000a.pm1025_mon.nc\n",
      "/g/data/hh5/tmp/zg0866/cm000_APP4_archive/cm000/history/atm/netCDF/cm000a.pm1026_mon.nc\n",
      "/g/data/hh5/tmp/zg0866/cm000_APP4_archive/cm000/history/atm/netCDF/cm000a.pm1027_mon.nc\n",
      "/g/data/hh5/tmp/zg0866/cm000_APP4_archive/cm000/history/atm/netCDF/cm000a.pm1028_mon.nc\n",
      "/g/data/hh5/tmp/zg0866/cm000_APP4_archive/cm000/history/atm/netCDF/cm000a.pm1029_mon.nc\n",
      "/g/data/hh5/tmp/zg0866/cm000_APP4_archive/cm000/history/atm/netCDF/cm000a.pm1030_mon.nc\n"
     ]
    },
    {
     "name": "stderr",
     "output_type": "stream",
     "text": [
      "2023-09-11 14:32:29,240 - distributed.utils_perf - WARNING - full garbage collections took 13% CPU time recently (threshold: 10%)\n"
     ]
    },
    {
     "name": "stdout",
     "output_type": "stream",
     "text": [
      "/g/data/hh5/tmp/zg0866/cm000_APP4_archive/cm000/history/atm/netCDF/cm000a.pm1031_mon.nc\n",
      "/g/data/hh5/tmp/zg0866/cm000_APP4_archive/cm000/history/atm/netCDF/cm000a.pm1032_mon.nc\n",
      "/g/data/hh5/tmp/zg0866/cm000_APP4_archive/cm000/history/atm/netCDF/cm000a.pm1033_mon.nc\n",
      "/g/data/hh5/tmp/zg0866/cm000_APP4_archive/cm000/history/atm/netCDF/cm000a.pm1034_mon.nc\n",
      "/g/data/hh5/tmp/zg0866/cm000_APP4_archive/cm000/history/atm/netCDF/cm000a.pm1035_mon.nc\n",
      "/g/data/hh5/tmp/zg0866/cm000_APP4_archive/cm000/history/atm/netCDF/cm000a.pm1036_mon.nc\n",
      "/g/data/hh5/tmp/zg0866/cm000_APP4_archive/cm000/history/atm/netCDF/cm000a.pm1037_mon.nc\n",
      "/g/data/hh5/tmp/zg0866/cm000_APP4_archive/cm000/history/atm/netCDF/cm000a.pm1038_mon.nc\n",
      "/g/data/hh5/tmp/zg0866/cm000_APP4_archive/cm000/history/atm/netCDF/cm000a.pm1039_mon.nc\n",
      "/g/data/hh5/tmp/zg0866/cm000_APP4_archive/cm000/history/atm/netCDF/cm000a.pm1040_mon.nc\n",
      "/g/data/hh5/tmp/zg0866/cm000_APP4_archive/cm000/history/atm/netCDF/cm000a.pm1041_mon.nc\n",
      "/g/data/hh5/tmp/zg0866/cm000_APP4_archive/cm000/history/atm/netCDF/cm000a.pm1042_mon.nc\n",
      "/g/data/hh5/tmp/zg0866/cm000_APP4_archive/cm000/history/atm/netCDF/cm000a.pm1043_mon.nc\n",
      "/g/data/hh5/tmp/zg0866/cm000_APP4_archive/cm000/history/atm/netCDF/cm000a.pm1044_mon.nc\n",
      "/g/data/hh5/tmp/zg0866/cm000_APP4_archive/cm000/history/atm/netCDF/cm000a.pm1045_mon.nc\n"
     ]
    },
    {
     "name": "stderr",
     "output_type": "stream",
     "text": [
      "2023-09-11 14:32:41,131 - distributed.utils_perf - WARNING - full garbage collections took 13% CPU time recently (threshold: 10%)\n"
     ]
    },
    {
     "name": "stdout",
     "output_type": "stream",
     "text": [
      "/g/data/hh5/tmp/zg0866/cm000_APP4_archive/cm000/history/atm/netCDF/cm000a.pm1046_mon.nc\n",
      "/g/data/hh5/tmp/zg0866/cm000_APP4_archive/cm000/history/atm/netCDF/cm000a.pm1047_mon.nc\n",
      "/g/data/hh5/tmp/zg0866/cm000_APP4_archive/cm000/history/atm/netCDF/cm000a.pm1048_mon.nc\n",
      "/g/data/hh5/tmp/zg0866/cm000_APP4_archive/cm000/history/atm/netCDF/cm000a.pm1049_mon.nc\n",
      "/g/data/hh5/tmp/zg0866/cm000_APP4_archive/cm000/history/atm/netCDF/cm000a.pm1050_mon.nc\n",
      "/g/data/hh5/tmp/zg0866/cm000_APP4_archive/cm000/history/atm/netCDF/cm000a.pm1051_mon.nc\n",
      "/g/data/hh5/tmp/zg0866/cm000_APP4_archive/cm000/history/atm/netCDF/cm000a.pm1052_mon.nc\n",
      "/g/data/hh5/tmp/zg0866/cm000_APP4_archive/cm000/history/atm/netCDF/cm000a.pm1053_mon.nc\n",
      "/g/data/hh5/tmp/zg0866/cm000_APP4_archive/cm000/history/atm/netCDF/cm000a.pm1054_mon.nc\n",
      "/g/data/hh5/tmp/zg0866/cm000_APP4_archive/cm000/history/atm/netCDF/cm000a.pm1055_mon.nc\n",
      "/g/data/hh5/tmp/zg0866/cm000_APP4_archive/cm000/history/atm/netCDF/cm000a.pm1056_mon.nc\n",
      "/g/data/hh5/tmp/zg0866/cm000_APP4_archive/cm000/history/atm/netCDF/cm000a.pm1057_mon.nc\n",
      "/g/data/hh5/tmp/zg0866/cm000_APP4_archive/cm000/history/atm/netCDF/cm000a.pm1058_mon.nc\n",
      "/g/data/hh5/tmp/zg0866/cm000_APP4_archive/cm000/history/atm/netCDF/cm000a.pm1059_mon.nc\n",
      "/g/data/hh5/tmp/zg0866/cm000_APP4_archive/cm000/history/atm/netCDF/cm000a.pm1060_mon.nc\n"
     ]
    },
    {
     "name": "stderr",
     "output_type": "stream",
     "text": [
      "2023-09-11 14:32:53,370 - distributed.utils_perf - WARNING - full garbage collections took 13% CPU time recently (threshold: 10%)\n"
     ]
    },
    {
     "name": "stdout",
     "output_type": "stream",
     "text": [
      "/g/data/hh5/tmp/zg0866/cm000_APP4_archive/cm000/history/atm/netCDF/cm000a.pm1061_mon.nc\n",
      "/g/data/hh5/tmp/zg0866/cm000_APP4_archive/cm000/history/atm/netCDF/cm000a.pm1062_mon.nc\n",
      "/g/data/hh5/tmp/zg0866/cm000_APP4_archive/cm000/history/atm/netCDF/cm000a.pm1063_mon.nc\n",
      "/g/data/hh5/tmp/zg0866/cm000_APP4_archive/cm000/history/atm/netCDF/cm000a.pm1064_mon.nc\n",
      "/g/data/hh5/tmp/zg0866/cm000_APP4_archive/cm000/history/atm/netCDF/cm000a.pm1065_mon.nc\n",
      "/g/data/hh5/tmp/zg0866/cm000_APP4_archive/cm000/history/atm/netCDF/cm000a.pm1066_mon.nc\n",
      "/g/data/hh5/tmp/zg0866/cm000_APP4_archive/cm000/history/atm/netCDF/cm000a.pm1067_mon.nc\n",
      "/g/data/hh5/tmp/zg0866/cm000_APP4_archive/cm000/history/atm/netCDF/cm000a.pm1068_mon.nc\n",
      "/g/data/hh5/tmp/zg0866/cm000_APP4_archive/cm000/history/atm/netCDF/cm000a.pm1069_mon.nc\n",
      "/g/data/hh5/tmp/zg0866/cm000_APP4_archive/cm000/history/atm/netCDF/cm000a.pm1070_mon.nc\n",
      "/g/data/hh5/tmp/zg0866/cm000_APP4_archive/cm000/history/atm/netCDF/cm000a.pm1071_mon.nc\n",
      "/g/data/hh5/tmp/zg0866/cm000_APP4_archive/cm000/history/atm/netCDF/cm000a.pm1072_mon.nc\n",
      "/g/data/hh5/tmp/zg0866/cm000_APP4_archive/cm000/history/atm/netCDF/cm000a.pm1073_mon.nc\n",
      "/g/data/hh5/tmp/zg0866/cm000_APP4_archive/cm000/history/atm/netCDF/cm000a.pm1074_mon.nc\n",
      "/g/data/hh5/tmp/zg0866/cm000_APP4_archive/cm000/history/atm/netCDF/cm000a.pm1075_mon.nc\n"
     ]
    },
    {
     "name": "stderr",
     "output_type": "stream",
     "text": [
      "2023-09-11 14:33:05,473 - distributed.utils_perf - WARNING - full garbage collections took 13% CPU time recently (threshold: 10%)\n"
     ]
    },
    {
     "name": "stdout",
     "output_type": "stream",
     "text": [
      "/g/data/hh5/tmp/zg0866/cm000_APP4_archive/cm000/history/atm/netCDF/cm000a.pm1076_mon.nc\n",
      "/g/data/hh5/tmp/zg0866/cm000_APP4_archive/cm000/history/atm/netCDF/cm000a.pm1077_mon.nc\n",
      "/g/data/hh5/tmp/zg0866/cm000_APP4_archive/cm000/history/atm/netCDF/cm000a.pm1078_mon.nc\n",
      "/g/data/hh5/tmp/zg0866/cm000_APP4_archive/cm000/history/atm/netCDF/cm000a.pm1079_mon.nc\n",
      "/g/data/hh5/tmp/zg0866/cm000_APP4_archive/cm000/history/atm/netCDF/cm000a.pm1080_mon.nc\n",
      "/g/data/hh5/tmp/zg0866/cm000_APP4_archive/cm000/history/atm/netCDF/cm000a.pm1081_mon.nc\n",
      "/g/data/hh5/tmp/zg0866/cm000_APP4_archive/cm000/history/atm/netCDF/cm000a.pm1082_mon.nc\n",
      "/g/data/hh5/tmp/zg0866/cm000_APP4_archive/cm000/history/atm/netCDF/cm000a.pm1083_mon.nc\n",
      "/g/data/hh5/tmp/zg0866/cm000_APP4_archive/cm000/history/atm/netCDF/cm000a.pm1084_mon.nc\n",
      "/g/data/hh5/tmp/zg0866/cm000_APP4_archive/cm000/history/atm/netCDF/cm000a.pm1085_mon.nc\n",
      "/g/data/hh5/tmp/zg0866/cm000_APP4_archive/cm000/history/atm/netCDF/cm000a.pm1086_mon.nc\n",
      "/g/data/hh5/tmp/zg0866/cm000_APP4_archive/cm000/history/atm/netCDF/cm000a.pm1087_mon.nc\n",
      "/g/data/hh5/tmp/zg0866/cm000_APP4_archive/cm000/history/atm/netCDF/cm000a.pm1088_mon.nc\n",
      "/g/data/hh5/tmp/zg0866/cm000_APP4_archive/cm000/history/atm/netCDF/cm000a.pm1089_mon.nc\n",
      "/g/data/hh5/tmp/zg0866/cm000_APP4_archive/cm000/history/atm/netCDF/cm000a.pm1090_mon.nc\n"
     ]
    },
    {
     "name": "stderr",
     "output_type": "stream",
     "text": [
      "2023-09-11 14:33:17,048 - distributed.utils_perf - WARNING - full garbage collections took 13% CPU time recently (threshold: 10%)\n"
     ]
    },
    {
     "name": "stdout",
     "output_type": "stream",
     "text": [
      "/g/data/hh5/tmp/zg0866/cm000_APP4_archive/cm000/history/atm/netCDF/cm000a.pm1091_mon.nc\n",
      "/g/data/hh5/tmp/zg0866/cm000_APP4_archive/cm000/history/atm/netCDF/cm000a.pm1092_mon.nc\n",
      "/g/data/hh5/tmp/zg0866/cm000_APP4_archive/cm000/history/atm/netCDF/cm000a.pm1093_mon.nc\n",
      "/g/data/hh5/tmp/zg0866/cm000_APP4_archive/cm000/history/atm/netCDF/cm000a.pm1094_mon.nc\n",
      "/g/data/hh5/tmp/zg0866/cm000_APP4_archive/cm000/history/atm/netCDF/cm000a.pm1095_mon.nc\n",
      "/g/data/hh5/tmp/zg0866/cm000_APP4_archive/cm000/history/atm/netCDF/cm000a.pm1096_mon.nc\n",
      "/g/data/hh5/tmp/zg0866/cm000_APP4_archive/cm000/history/atm/netCDF/cm000a.pm1097_mon.nc\n",
      "/g/data/hh5/tmp/zg0866/cm000_APP4_archive/cm000/history/atm/netCDF/cm000a.pm1098_mon.nc\n",
      "/g/data/hh5/tmp/zg0866/cm000_APP4_archive/cm000/history/atm/netCDF/cm000a.pm1099_mon.nc\n",
      "/g/data/hh5/tmp/zg0866/cm000_APP4_archive/cm000/history/atm/netCDF/cm000a.pm1100_mon.nc\n",
      "/g/data/hh5/tmp/zg0866/cm000_APP4_archive/cm000/history/atm/netCDF/cm000a.pm1101_mon.nc\n",
      "/g/data/hh5/tmp/zg0866/cm000_APP4_archive/cm000/history/atm/netCDF/cm000a.pm1102_mon.nc\n",
      "/g/data/hh5/tmp/zg0866/cm000_APP4_archive/cm000/history/atm/netCDF/cm000a.pm1103_mon.nc\n",
      "/g/data/hh5/tmp/zg0866/cm000_APP4_archive/cm000/history/atm/netCDF/cm000a.pm1104_mon.nc\n",
      "/g/data/hh5/tmp/zg0866/cm000_APP4_archive/cm000/history/atm/netCDF/cm000a.pm1105_mon.nc\n"
     ]
    },
    {
     "name": "stderr",
     "output_type": "stream",
     "text": [
      "2023-09-11 14:33:29,209 - distributed.utils_perf - WARNING - full garbage collections took 13% CPU time recently (threshold: 10%)\n"
     ]
    },
    {
     "name": "stdout",
     "output_type": "stream",
     "text": [
      "/g/data/hh5/tmp/zg0866/cm000_APP4_archive/cm000/history/atm/netCDF/cm000a.pm1106_mon.nc\n",
      "/g/data/hh5/tmp/zg0866/cm000_APP4_archive/cm000/history/atm/netCDF/cm000a.pm1107_mon.nc\n",
      "/g/data/hh5/tmp/zg0866/cm000_APP4_archive/cm000/history/atm/netCDF/cm000a.pm1108_mon.nc\n",
      "/g/data/hh5/tmp/zg0866/cm000_APP4_archive/cm000/history/atm/netCDF/cm000a.pm1109_mon.nc\n",
      "/g/data/hh5/tmp/zg0866/cm000_APP4_archive/cm000/history/atm/netCDF/cm000a.pm1110_mon.nc\n",
      "/g/data/hh5/tmp/zg0866/cm000_APP4_archive/cm000/history/atm/netCDF/cm000a.pm1111_mon.nc\n",
      "/g/data/hh5/tmp/zg0866/cm000_APP4_archive/cm000/history/atm/netCDF/cm000a.pm1112_mon.nc\n",
      "/g/data/hh5/tmp/zg0866/cm000_APP4_archive/cm000/history/atm/netCDF/cm000a.pm1113_mon.nc\n",
      "/g/data/hh5/tmp/zg0866/cm000_APP4_archive/cm000/history/atm/netCDF/cm000a.pm1114_mon.nc\n",
      "/g/data/hh5/tmp/zg0866/cm000_APP4_archive/cm000/history/atm/netCDF/cm000a.pm1115_mon.nc\n",
      "/g/data/hh5/tmp/zg0866/cm000_APP4_archive/cm000/history/atm/netCDF/cm000a.pm1116_mon.nc\n",
      "/g/data/hh5/tmp/zg0866/cm000_APP4_archive/cm000/history/atm/netCDF/cm000a.pm1117_mon.nc\n",
      "/g/data/hh5/tmp/zg0866/cm000_APP4_archive/cm000/history/atm/netCDF/cm000a.pm1118_mon.nc\n",
      "/g/data/hh5/tmp/zg0866/cm000_APP4_archive/cm000/history/atm/netCDF/cm000a.pm1119_mon.nc\n",
      "/g/data/hh5/tmp/zg0866/cm000_APP4_archive/cm000/history/atm/netCDF/cm000a.pm1120_mon.nc\n"
     ]
    },
    {
     "name": "stderr",
     "output_type": "stream",
     "text": [
      "2023-09-11 14:33:41,230 - distributed.utils_perf - WARNING - full garbage collections took 13% CPU time recently (threshold: 10%)\n"
     ]
    },
    {
     "name": "stdout",
     "output_type": "stream",
     "text": [
      "/g/data/hh5/tmp/zg0866/cm000_APP4_archive/cm000/history/atm/netCDF/cm000a.pm1121_mon.nc\n",
      "/g/data/hh5/tmp/zg0866/cm000_APP4_archive/cm000/history/atm/netCDF/cm000a.pm1122_mon.nc\n",
      "/g/data/hh5/tmp/zg0866/cm000_APP4_archive/cm000/history/atm/netCDF/cm000a.pm1123_mon.nc\n",
      "/g/data/hh5/tmp/zg0866/cm000_APP4_archive/cm000/history/atm/netCDF/cm000a.pm1124_mon.nc\n",
      "/g/data/hh5/tmp/zg0866/cm000_APP4_archive/cm000/history/atm/netCDF/cm000a.pm1125_mon.nc\n",
      "/g/data/hh5/tmp/zg0866/cm000_APP4_archive/cm000/history/atm/netCDF/cm000a.pm1126_mon.nc\n",
      "/g/data/hh5/tmp/zg0866/cm000_APP4_archive/cm000/history/atm/netCDF/cm000a.pm1127_mon.nc\n",
      "/g/data/hh5/tmp/zg0866/cm000_APP4_archive/cm000/history/atm/netCDF/cm000a.pm1128_mon.nc\n",
      "/g/data/hh5/tmp/zg0866/cm000_APP4_archive/cm000/history/atm/netCDF/cm000a.pm1129_mon.nc\n",
      "/g/data/hh5/tmp/zg0866/cm000_APP4_archive/cm000/history/atm/netCDF/cm000a.pm1130_mon.nc\n",
      "/g/data/hh5/tmp/zg0866/cm000_APP4_archive/cm000/history/atm/netCDF/cm000a.pm1131_mon.nc\n",
      "/g/data/hh5/tmp/zg0866/cm000_APP4_archive/cm000/history/atm/netCDF/cm000a.pm1132_mon.nc\n",
      "/g/data/hh5/tmp/zg0866/cm000_APP4_archive/cm000/history/atm/netCDF/cm000a.pm1133_mon.nc\n",
      "/g/data/hh5/tmp/zg0866/cm000_APP4_archive/cm000/history/atm/netCDF/cm000a.pm1134_mon.nc\n"
     ]
    },
    {
     "name": "stderr",
     "output_type": "stream",
     "text": [
      "2023-09-11 14:33:52,630 - distributed.utils_perf - WARNING - full garbage collections took 13% CPU time recently (threshold: 10%)\n"
     ]
    },
    {
     "name": "stdout",
     "output_type": "stream",
     "text": [
      "/g/data/hh5/tmp/zg0866/cm000_APP4_archive/cm000/history/atm/netCDF/cm000a.pm1135_mon.nc\n",
      "/g/data/hh5/tmp/zg0866/cm000_APP4_archive/cm000/history/atm/netCDF/cm000a.pm1136_mon.nc\n",
      "/g/data/hh5/tmp/zg0866/cm000_APP4_archive/cm000/history/atm/netCDF/cm000a.pm1137_mon.nc\n",
      "/g/data/hh5/tmp/zg0866/cm000_APP4_archive/cm000/history/atm/netCDF/cm000a.pm1138_mon.nc\n",
      "/g/data/hh5/tmp/zg0866/cm000_APP4_archive/cm000/history/atm/netCDF/cm000a.pm1139_mon.nc\n",
      "/g/data/hh5/tmp/zg0866/cm000_APP4_archive/cm000/history/atm/netCDF/cm000a.pm1140_mon.nc\n",
      "/g/data/hh5/tmp/zg0866/cm000_APP4_archive/cm000/history/atm/netCDF/cm000a.pm1141_mon.nc\n",
      "/g/data/hh5/tmp/zg0866/cm000_APP4_archive/cm000/history/atm/netCDF/cm000a.pm1142_mon.nc\n",
      "/g/data/hh5/tmp/zg0866/cm000_APP4_archive/cm000/history/atm/netCDF/cm000a.pm1143_mon.nc\n",
      "/g/data/hh5/tmp/zg0866/cm000_APP4_archive/cm000/history/atm/netCDF/cm000a.pm1144_mon.nc\n",
      "/g/data/hh5/tmp/zg0866/cm000_APP4_archive/cm000/history/atm/netCDF/cm000a.pm1145_mon.nc\n",
      "/g/data/hh5/tmp/zg0866/cm000_APP4_archive/cm000/history/atm/netCDF/cm000a.pm1146_mon.nc\n",
      "/g/data/hh5/tmp/zg0866/cm000_APP4_archive/cm000/history/atm/netCDF/cm000a.pm1147_mon.nc\n",
      "/g/data/hh5/tmp/zg0866/cm000_APP4_archive/cm000/history/atm/netCDF/cm000a.pm1148_mon.nc\n",
      "/g/data/hh5/tmp/zg0866/cm000_APP4_archive/cm000/history/atm/netCDF/cm000a.pm1149_mon.nc\n",
      "/g/data/hh5/tmp/zg0866/cm000_APP4_archive/cm000/history/atm/netCDF/cm000a.pm1150_mon.nc\n"
     ]
    },
    {
     "name": "stderr",
     "output_type": "stream",
     "text": [
      "2023-09-11 14:34:05,586 - distributed.utils_perf - WARNING - full garbage collections took 13% CPU time recently (threshold: 10%)\n"
     ]
    },
    {
     "name": "stdout",
     "output_type": "stream",
     "text": [
      "/g/data/hh5/tmp/zg0866/cm000_APP4_archive/cm000/history/atm/netCDF/cm000a.pm1151_mon.nc\n"
     ]
    },
    {
     "ename": "FileNotFoundError",
     "evalue": "[Errno 2] No such file or directory: b'/g/data/hh5/tmp/zg0866/cm000_APP4_archive/cm000/history/atm/netCDF/cm000a.pm1151_mon.nc'",
     "output_type": "error",
     "traceback": [
      "\u001b[0;31m---------------------------------------------------------------------------\u001b[0m",
      "\u001b[0;31mKeyError\u001b[0m                                  Traceback (most recent call last)",
      "File \u001b[0;32m/g/data/hh5/public/apps/miniconda3/envs/analysis3-22.10/lib/python3.9/site-packages/xarray/backends/file_manager.py:210\u001b[0m, in \u001b[0;36mCachingFileManager._acquire_with_cache_info\u001b[0;34m(self, needs_lock)\u001b[0m\n\u001b[1;32m    209\u001b[0m \u001b[38;5;28;01mtry\u001b[39;00m:\n\u001b[0;32m--> 210\u001b[0m     file \u001b[38;5;241m=\u001b[39m \u001b[38;5;28;43mself\u001b[39;49m\u001b[38;5;241;43m.\u001b[39;49m\u001b[43m_cache\u001b[49m\u001b[43m[\u001b[49m\u001b[38;5;28;43mself\u001b[39;49m\u001b[38;5;241;43m.\u001b[39;49m\u001b[43m_key\u001b[49m\u001b[43m]\u001b[49m\n\u001b[1;32m    211\u001b[0m \u001b[38;5;28;01mexcept\u001b[39;00m \u001b[38;5;167;01mKeyError\u001b[39;00m:\n",
      "File \u001b[0;32m/g/data/hh5/public/apps/miniconda3/envs/analysis3-22.10/lib/python3.9/site-packages/xarray/backends/lru_cache.py:56\u001b[0m, in \u001b[0;36mLRUCache.__getitem__\u001b[0;34m(self, key)\u001b[0m\n\u001b[1;32m     55\u001b[0m \u001b[38;5;28;01mwith\u001b[39;00m \u001b[38;5;28mself\u001b[39m\u001b[38;5;241m.\u001b[39m_lock:\n\u001b[0;32m---> 56\u001b[0m     value \u001b[38;5;241m=\u001b[39m \u001b[38;5;28;43mself\u001b[39;49m\u001b[38;5;241;43m.\u001b[39;49m\u001b[43m_cache\u001b[49m\u001b[43m[\u001b[49m\u001b[43mkey\u001b[49m\u001b[43m]\u001b[49m\n\u001b[1;32m     57\u001b[0m     \u001b[38;5;28mself\u001b[39m\u001b[38;5;241m.\u001b[39m_cache\u001b[38;5;241m.\u001b[39mmove_to_end(key)\n",
      "\u001b[0;31mKeyError\u001b[0m: [<class 'netCDF4._netCDF4.Dataset'>, ('/g/data/hh5/tmp/zg0866/cm000_APP4_archive/cm000/history/atm/netCDF/cm000a.pm1151_mon.nc',), 'r', (('clobber', True), ('diskless', False), ('format', 'NETCDF4'), ('persist', False)), '05345d48-4027-4fa3-8236-02e44c057787']",
      "\nDuring handling of the above exception, another exception occurred:\n",
      "\u001b[0;31mFileNotFoundError\u001b[0m                         Traceback (most recent call last)",
      "Cell \u001b[0;32mIn[5], line 8\u001b[0m\n\u001b[1;32m      6\u001b[0m files \u001b[38;5;241m=\u001b[39m data_dir \u001b[38;5;241m+\u001b[39m \u001b[38;5;124mf\u001b[39m\u001b[38;5;124m\"\u001b[39m\u001b[38;5;124mcm000a.pm\u001b[39m\u001b[38;5;132;01m{\u001b[39;00mformatted_i\u001b[38;5;132;01m}\u001b[39;00m\u001b[38;5;124m_mon.nc\u001b[39m\u001b[38;5;124m\"\u001b[39m\n\u001b[1;32m      7\u001b[0m \u001b[38;5;28mprint\u001b[39m(files)\n\u001b[0;32m----> 8\u001b[0m rain \u001b[38;5;241m=\u001b[39m \u001b[43mxr\u001b[49m\u001b[38;5;241;43m.\u001b[39;49m\u001b[43mopen_dataset\u001b[49m\u001b[43m(\u001b[49m\u001b[43mfiles\u001b[49m\u001b[43m,\u001b[49m\u001b[43m \u001b[49m\u001b[43muse_cftime\u001b[49m\u001b[38;5;241;43m=\u001b[39;49m\u001b[38;5;28;43;01mTrue\u001b[39;49;00m\u001b[43m,\u001b[49m\u001b[43m \u001b[49m\u001b[43mchunks\u001b[49m\u001b[38;5;241;43m=\u001b[39;49m\u001b[43m \u001b[49m\u001b[43m{\u001b[49m\u001b[38;5;124;43m\"\u001b[39;49m\u001b[38;5;124;43mtime\u001b[39;49m\u001b[38;5;124;43m\"\u001b[39;49m\u001b[43m:\u001b[49m\u001b[38;5;241;43m12\u001b[39;49m\u001b[43m}\u001b[49m\u001b[43m)\u001b[49m\u001b[38;5;241m.\u001b[39mfld_s00i409\n\u001b[1;32m      9\u001b[0m rain\u001b[38;5;241m.\u001b[39mto_netcdf(outdir\u001b[38;5;241m+\u001b[39m\u001b[38;5;124mf\u001b[39m\u001b[38;5;124m\"\u001b[39m\u001b[38;5;124mctrl_pr\u001b[39m\u001b[38;5;132;01m{\u001b[39;00mformatted_i\u001b[38;5;132;01m}\u001b[39;00m\u001b[38;5;124m.nc\u001b[39m\u001b[38;5;124m\"\u001b[39m)\n",
      "File \u001b[0;32m/g/data/hh5/public/apps/miniconda3/envs/analysis3-22.10/lib/python3.9/site-packages/xarray/backends/api.py:526\u001b[0m, in \u001b[0;36mopen_dataset\u001b[0;34m(filename_or_obj, engine, chunks, cache, decode_cf, mask_and_scale, decode_times, decode_timedelta, use_cftime, concat_characters, decode_coords, drop_variables, inline_array, backend_kwargs, **kwargs)\u001b[0m\n\u001b[1;32m    514\u001b[0m decoders \u001b[38;5;241m=\u001b[39m _resolve_decoders_kwargs(\n\u001b[1;32m    515\u001b[0m     decode_cf,\n\u001b[1;32m    516\u001b[0m     open_backend_dataset_parameters\u001b[38;5;241m=\u001b[39mbackend\u001b[38;5;241m.\u001b[39mopen_dataset_parameters,\n\u001b[0;32m   (...)\u001b[0m\n\u001b[1;32m    522\u001b[0m     decode_coords\u001b[38;5;241m=\u001b[39mdecode_coords,\n\u001b[1;32m    523\u001b[0m )\n\u001b[1;32m    525\u001b[0m overwrite_encoded_chunks \u001b[38;5;241m=\u001b[39m kwargs\u001b[38;5;241m.\u001b[39mpop(\u001b[38;5;124m\"\u001b[39m\u001b[38;5;124moverwrite_encoded_chunks\u001b[39m\u001b[38;5;124m\"\u001b[39m, \u001b[38;5;28;01mNone\u001b[39;00m)\n\u001b[0;32m--> 526\u001b[0m backend_ds \u001b[38;5;241m=\u001b[39m \u001b[43mbackend\u001b[49m\u001b[38;5;241;43m.\u001b[39;49m\u001b[43mopen_dataset\u001b[49m\u001b[43m(\u001b[49m\n\u001b[1;32m    527\u001b[0m \u001b[43m    \u001b[49m\u001b[43mfilename_or_obj\u001b[49m\u001b[43m,\u001b[49m\n\u001b[1;32m    528\u001b[0m \u001b[43m    \u001b[49m\u001b[43mdrop_variables\u001b[49m\u001b[38;5;241;43m=\u001b[39;49m\u001b[43mdrop_variables\u001b[49m\u001b[43m,\u001b[49m\n\u001b[1;32m    529\u001b[0m \u001b[43m    \u001b[49m\u001b[38;5;241;43m*\u001b[39;49m\u001b[38;5;241;43m*\u001b[39;49m\u001b[43mdecoders\u001b[49m\u001b[43m,\u001b[49m\n\u001b[1;32m    530\u001b[0m \u001b[43m    \u001b[49m\u001b[38;5;241;43m*\u001b[39;49m\u001b[38;5;241;43m*\u001b[39;49m\u001b[43mkwargs\u001b[49m\u001b[43m,\u001b[49m\n\u001b[1;32m    531\u001b[0m \u001b[43m\u001b[49m\u001b[43m)\u001b[49m\n\u001b[1;32m    532\u001b[0m ds \u001b[38;5;241m=\u001b[39m _dataset_from_backend_dataset(\n\u001b[1;32m    533\u001b[0m     backend_ds,\n\u001b[1;32m    534\u001b[0m     filename_or_obj,\n\u001b[0;32m   (...)\u001b[0m\n\u001b[1;32m    542\u001b[0m     \u001b[38;5;241m*\u001b[39m\u001b[38;5;241m*\u001b[39mkwargs,\n\u001b[1;32m    543\u001b[0m )\n\u001b[1;32m    544\u001b[0m \u001b[38;5;28;01mreturn\u001b[39;00m ds\n",
      "File \u001b[0;32m/g/data/hh5/public/apps/miniconda3/envs/analysis3-22.10/lib/python3.9/site-packages/xarray/backends/netCDF4_.py:577\u001b[0m, in \u001b[0;36mNetCDF4BackendEntrypoint.open_dataset\u001b[0;34m(self, filename_or_obj, mask_and_scale, decode_times, concat_characters, decode_coords, drop_variables, use_cftime, decode_timedelta, group, mode, format, clobber, diskless, persist, lock, autoclose)\u001b[0m\n\u001b[1;32m    557\u001b[0m \u001b[38;5;28;01mdef\u001b[39;00m \u001b[38;5;21mopen_dataset\u001b[39m(\n\u001b[1;32m    558\u001b[0m     \u001b[38;5;28mself\u001b[39m,\n\u001b[1;32m    559\u001b[0m     filename_or_obj,\n\u001b[0;32m   (...)\u001b[0m\n\u001b[1;32m    574\u001b[0m     autoclose\u001b[38;5;241m=\u001b[39m\u001b[38;5;28;01mFalse\u001b[39;00m,\n\u001b[1;32m    575\u001b[0m ):\n\u001b[1;32m    576\u001b[0m     filename_or_obj \u001b[38;5;241m=\u001b[39m _normalize_path(filename_or_obj)\n\u001b[0;32m--> 577\u001b[0m     store \u001b[38;5;241m=\u001b[39m \u001b[43mNetCDF4DataStore\u001b[49m\u001b[38;5;241;43m.\u001b[39;49m\u001b[43mopen\u001b[49m\u001b[43m(\u001b[49m\n\u001b[1;32m    578\u001b[0m \u001b[43m        \u001b[49m\u001b[43mfilename_or_obj\u001b[49m\u001b[43m,\u001b[49m\n\u001b[1;32m    579\u001b[0m \u001b[43m        \u001b[49m\u001b[43mmode\u001b[49m\u001b[38;5;241;43m=\u001b[39;49m\u001b[43mmode\u001b[49m\u001b[43m,\u001b[49m\n\u001b[1;32m    580\u001b[0m \u001b[43m        \u001b[49m\u001b[38;5;28;43mformat\u001b[39;49m\u001b[38;5;241;43m=\u001b[39;49m\u001b[38;5;28;43mformat\u001b[39;49m\u001b[43m,\u001b[49m\n\u001b[1;32m    581\u001b[0m \u001b[43m        \u001b[49m\u001b[43mgroup\u001b[49m\u001b[38;5;241;43m=\u001b[39;49m\u001b[43mgroup\u001b[49m\u001b[43m,\u001b[49m\n\u001b[1;32m    582\u001b[0m \u001b[43m        \u001b[49m\u001b[43mclobber\u001b[49m\u001b[38;5;241;43m=\u001b[39;49m\u001b[43mclobber\u001b[49m\u001b[43m,\u001b[49m\n\u001b[1;32m    583\u001b[0m \u001b[43m        \u001b[49m\u001b[43mdiskless\u001b[49m\u001b[38;5;241;43m=\u001b[39;49m\u001b[43mdiskless\u001b[49m\u001b[43m,\u001b[49m\n\u001b[1;32m    584\u001b[0m \u001b[43m        \u001b[49m\u001b[43mpersist\u001b[49m\u001b[38;5;241;43m=\u001b[39;49m\u001b[43mpersist\u001b[49m\u001b[43m,\u001b[49m\n\u001b[1;32m    585\u001b[0m \u001b[43m        \u001b[49m\u001b[43mlock\u001b[49m\u001b[38;5;241;43m=\u001b[39;49m\u001b[43mlock\u001b[49m\u001b[43m,\u001b[49m\n\u001b[1;32m    586\u001b[0m \u001b[43m        \u001b[49m\u001b[43mautoclose\u001b[49m\u001b[38;5;241;43m=\u001b[39;49m\u001b[43mautoclose\u001b[49m\u001b[43m,\u001b[49m\n\u001b[1;32m    587\u001b[0m \u001b[43m    \u001b[49m\u001b[43m)\u001b[49m\n\u001b[1;32m    589\u001b[0m     store_entrypoint \u001b[38;5;241m=\u001b[39m StoreBackendEntrypoint()\n\u001b[1;32m    590\u001b[0m     \u001b[38;5;28;01mwith\u001b[39;00m close_on_error(store):\n",
      "File \u001b[0;32m/g/data/hh5/public/apps/miniconda3/envs/analysis3-22.10/lib/python3.9/site-packages/xarray/backends/netCDF4_.py:382\u001b[0m, in \u001b[0;36mNetCDF4DataStore.open\u001b[0;34m(cls, filename, mode, format, group, clobber, diskless, persist, lock, lock_maker, autoclose)\u001b[0m\n\u001b[1;32m    376\u001b[0m kwargs \u001b[38;5;241m=\u001b[39m \u001b[38;5;28mdict\u001b[39m(\n\u001b[1;32m    377\u001b[0m     clobber\u001b[38;5;241m=\u001b[39mclobber, diskless\u001b[38;5;241m=\u001b[39mdiskless, persist\u001b[38;5;241m=\u001b[39mpersist, \u001b[38;5;28mformat\u001b[39m\u001b[38;5;241m=\u001b[39m\u001b[38;5;28mformat\u001b[39m\n\u001b[1;32m    378\u001b[0m )\n\u001b[1;32m    379\u001b[0m manager \u001b[38;5;241m=\u001b[39m CachingFileManager(\n\u001b[1;32m    380\u001b[0m     netCDF4\u001b[38;5;241m.\u001b[39mDataset, filename, mode\u001b[38;5;241m=\u001b[39mmode, kwargs\u001b[38;5;241m=\u001b[39mkwargs\n\u001b[1;32m    381\u001b[0m )\n\u001b[0;32m--> 382\u001b[0m \u001b[38;5;28;01mreturn\u001b[39;00m \u001b[38;5;28;43mcls\u001b[39;49m\u001b[43m(\u001b[49m\u001b[43mmanager\u001b[49m\u001b[43m,\u001b[49m\u001b[43m \u001b[49m\u001b[43mgroup\u001b[49m\u001b[38;5;241;43m=\u001b[39;49m\u001b[43mgroup\u001b[49m\u001b[43m,\u001b[49m\u001b[43m \u001b[49m\u001b[43mmode\u001b[49m\u001b[38;5;241;43m=\u001b[39;49m\u001b[43mmode\u001b[49m\u001b[43m,\u001b[49m\u001b[43m \u001b[49m\u001b[43mlock\u001b[49m\u001b[38;5;241;43m=\u001b[39;49m\u001b[43mlock\u001b[49m\u001b[43m,\u001b[49m\u001b[43m \u001b[49m\u001b[43mautoclose\u001b[49m\u001b[38;5;241;43m=\u001b[39;49m\u001b[43mautoclose\u001b[49m\u001b[43m)\u001b[49m\n",
      "File \u001b[0;32m/g/data/hh5/public/apps/miniconda3/envs/analysis3-22.10/lib/python3.9/site-packages/xarray/backends/netCDF4_.py:329\u001b[0m, in \u001b[0;36mNetCDF4DataStore.__init__\u001b[0;34m(self, manager, group, mode, lock, autoclose)\u001b[0m\n\u001b[1;32m    327\u001b[0m \u001b[38;5;28mself\u001b[39m\u001b[38;5;241m.\u001b[39m_group \u001b[38;5;241m=\u001b[39m group\n\u001b[1;32m    328\u001b[0m \u001b[38;5;28mself\u001b[39m\u001b[38;5;241m.\u001b[39m_mode \u001b[38;5;241m=\u001b[39m mode\n\u001b[0;32m--> 329\u001b[0m \u001b[38;5;28mself\u001b[39m\u001b[38;5;241m.\u001b[39mformat \u001b[38;5;241m=\u001b[39m \u001b[38;5;28;43mself\u001b[39;49m\u001b[38;5;241;43m.\u001b[39;49m\u001b[43mds\u001b[49m\u001b[38;5;241m.\u001b[39mdata_model\n\u001b[1;32m    330\u001b[0m \u001b[38;5;28mself\u001b[39m\u001b[38;5;241m.\u001b[39m_filename \u001b[38;5;241m=\u001b[39m \u001b[38;5;28mself\u001b[39m\u001b[38;5;241m.\u001b[39mds\u001b[38;5;241m.\u001b[39mfilepath()\n\u001b[1;32m    331\u001b[0m \u001b[38;5;28mself\u001b[39m\u001b[38;5;241m.\u001b[39mis_remote \u001b[38;5;241m=\u001b[39m is_remote_uri(\u001b[38;5;28mself\u001b[39m\u001b[38;5;241m.\u001b[39m_filename)\n",
      "File \u001b[0;32m/g/data/hh5/public/apps/miniconda3/envs/analysis3-22.10/lib/python3.9/site-packages/xarray/backends/netCDF4_.py:391\u001b[0m, in \u001b[0;36mNetCDF4DataStore.ds\u001b[0;34m(self)\u001b[0m\n\u001b[1;32m    389\u001b[0m \u001b[38;5;129m@property\u001b[39m\n\u001b[1;32m    390\u001b[0m \u001b[38;5;28;01mdef\u001b[39;00m \u001b[38;5;21mds\u001b[39m(\u001b[38;5;28mself\u001b[39m):\n\u001b[0;32m--> 391\u001b[0m     \u001b[38;5;28;01mreturn\u001b[39;00m \u001b[38;5;28;43mself\u001b[39;49m\u001b[38;5;241;43m.\u001b[39;49m\u001b[43m_acquire\u001b[49m\u001b[43m(\u001b[49m\u001b[43m)\u001b[49m\n",
      "File \u001b[0;32m/g/data/hh5/public/apps/miniconda3/envs/analysis3-22.10/lib/python3.9/site-packages/xarray/backends/netCDF4_.py:385\u001b[0m, in \u001b[0;36mNetCDF4DataStore._acquire\u001b[0;34m(self, needs_lock)\u001b[0m\n\u001b[1;32m    384\u001b[0m \u001b[38;5;28;01mdef\u001b[39;00m \u001b[38;5;21m_acquire\u001b[39m(\u001b[38;5;28mself\u001b[39m, needs_lock\u001b[38;5;241m=\u001b[39m\u001b[38;5;28;01mTrue\u001b[39;00m):\n\u001b[0;32m--> 385\u001b[0m     \u001b[38;5;28;01mwith\u001b[39;00m \u001b[38;5;28mself\u001b[39m\u001b[38;5;241m.\u001b[39m_manager\u001b[38;5;241m.\u001b[39macquire_context(needs_lock) \u001b[38;5;28;01mas\u001b[39;00m root:\n\u001b[1;32m    386\u001b[0m         ds \u001b[38;5;241m=\u001b[39m _nc4_require_group(root, \u001b[38;5;28mself\u001b[39m\u001b[38;5;241m.\u001b[39m_group, \u001b[38;5;28mself\u001b[39m\u001b[38;5;241m.\u001b[39m_mode)\n\u001b[1;32m    387\u001b[0m     \u001b[38;5;28;01mreturn\u001b[39;00m ds\n",
      "File \u001b[0;32m/g/data/hh5/public/apps/miniconda3/envs/analysis3-22.10/lib/python3.9/contextlib.py:119\u001b[0m, in \u001b[0;36m_GeneratorContextManager.__enter__\u001b[0;34m(self)\u001b[0m\n\u001b[1;32m    117\u001b[0m \u001b[38;5;28;01mdel\u001b[39;00m \u001b[38;5;28mself\u001b[39m\u001b[38;5;241m.\u001b[39margs, \u001b[38;5;28mself\u001b[39m\u001b[38;5;241m.\u001b[39mkwds, \u001b[38;5;28mself\u001b[39m\u001b[38;5;241m.\u001b[39mfunc\n\u001b[1;32m    118\u001b[0m \u001b[38;5;28;01mtry\u001b[39;00m:\n\u001b[0;32m--> 119\u001b[0m     \u001b[38;5;28;01mreturn\u001b[39;00m \u001b[38;5;28;43mnext\u001b[39;49m\u001b[43m(\u001b[49m\u001b[38;5;28;43mself\u001b[39;49m\u001b[38;5;241;43m.\u001b[39;49m\u001b[43mgen\u001b[49m\u001b[43m)\u001b[49m\n\u001b[1;32m    120\u001b[0m \u001b[38;5;28;01mexcept\u001b[39;00m \u001b[38;5;167;01mStopIteration\u001b[39;00m:\n\u001b[1;32m    121\u001b[0m     \u001b[38;5;28;01mraise\u001b[39;00m \u001b[38;5;167;01mRuntimeError\u001b[39;00m(\u001b[38;5;124m\"\u001b[39m\u001b[38;5;124mgenerator didn\u001b[39m\u001b[38;5;124m'\u001b[39m\u001b[38;5;124mt yield\u001b[39m\u001b[38;5;124m\"\u001b[39m) \u001b[38;5;28;01mfrom\u001b[39;00m \u001b[38;5;28mNone\u001b[39m\n",
      "File \u001b[0;32m/g/data/hh5/public/apps/miniconda3/envs/analysis3-22.10/lib/python3.9/site-packages/xarray/backends/file_manager.py:198\u001b[0m, in \u001b[0;36mCachingFileManager.acquire_context\u001b[0;34m(self, needs_lock)\u001b[0m\n\u001b[1;32m    195\u001b[0m \u001b[38;5;129m@contextlib\u001b[39m\u001b[38;5;241m.\u001b[39mcontextmanager\n\u001b[1;32m    196\u001b[0m \u001b[38;5;28;01mdef\u001b[39;00m \u001b[38;5;21macquire_context\u001b[39m(\u001b[38;5;28mself\u001b[39m, needs_lock\u001b[38;5;241m=\u001b[39m\u001b[38;5;28;01mTrue\u001b[39;00m):\n\u001b[1;32m    197\u001b[0m     \u001b[38;5;124;03m\"\"\"Context manager for acquiring a file.\"\"\"\u001b[39;00m\n\u001b[0;32m--> 198\u001b[0m     file, cached \u001b[38;5;241m=\u001b[39m \u001b[38;5;28;43mself\u001b[39;49m\u001b[38;5;241;43m.\u001b[39;49m\u001b[43m_acquire_with_cache_info\u001b[49m\u001b[43m(\u001b[49m\u001b[43mneeds_lock\u001b[49m\u001b[43m)\u001b[49m\n\u001b[1;32m    199\u001b[0m     \u001b[38;5;28;01mtry\u001b[39;00m:\n\u001b[1;32m    200\u001b[0m         \u001b[38;5;28;01myield\u001b[39;00m file\n",
      "File \u001b[0;32m/g/data/hh5/public/apps/miniconda3/envs/analysis3-22.10/lib/python3.9/site-packages/xarray/backends/file_manager.py:216\u001b[0m, in \u001b[0;36mCachingFileManager._acquire_with_cache_info\u001b[0;34m(self, needs_lock)\u001b[0m\n\u001b[1;32m    214\u001b[0m     kwargs \u001b[38;5;241m=\u001b[39m kwargs\u001b[38;5;241m.\u001b[39mcopy()\n\u001b[1;32m    215\u001b[0m     kwargs[\u001b[38;5;124m\"\u001b[39m\u001b[38;5;124mmode\u001b[39m\u001b[38;5;124m\"\u001b[39m] \u001b[38;5;241m=\u001b[39m \u001b[38;5;28mself\u001b[39m\u001b[38;5;241m.\u001b[39m_mode\n\u001b[0;32m--> 216\u001b[0m file \u001b[38;5;241m=\u001b[39m \u001b[38;5;28;43mself\u001b[39;49m\u001b[38;5;241;43m.\u001b[39;49m\u001b[43m_opener\u001b[49m\u001b[43m(\u001b[49m\u001b[38;5;241;43m*\u001b[39;49m\u001b[38;5;28;43mself\u001b[39;49m\u001b[38;5;241;43m.\u001b[39;49m\u001b[43m_args\u001b[49m\u001b[43m,\u001b[49m\u001b[43m \u001b[49m\u001b[38;5;241;43m*\u001b[39;49m\u001b[38;5;241;43m*\u001b[39;49m\u001b[43mkwargs\u001b[49m\u001b[43m)\u001b[49m\n\u001b[1;32m    217\u001b[0m \u001b[38;5;28;01mif\u001b[39;00m \u001b[38;5;28mself\u001b[39m\u001b[38;5;241m.\u001b[39m_mode \u001b[38;5;241m==\u001b[39m \u001b[38;5;124m\"\u001b[39m\u001b[38;5;124mw\u001b[39m\u001b[38;5;124m\"\u001b[39m:\n\u001b[1;32m    218\u001b[0m     \u001b[38;5;66;03m# ensure file doesn't get overridden when opened again\u001b[39;00m\n\u001b[1;32m    219\u001b[0m     \u001b[38;5;28mself\u001b[39m\u001b[38;5;241m.\u001b[39m_mode \u001b[38;5;241m=\u001b[39m \u001b[38;5;124m\"\u001b[39m\u001b[38;5;124ma\u001b[39m\u001b[38;5;124m\"\u001b[39m\n",
      "File \u001b[0;32msrc/netCDF4/_netCDF4.pyx:2353\u001b[0m, in \u001b[0;36mnetCDF4._netCDF4.Dataset.__init__\u001b[0;34m()\u001b[0m\n",
      "File \u001b[0;32msrc/netCDF4/_netCDF4.pyx:1963\u001b[0m, in \u001b[0;36mnetCDF4._netCDF4._ensure_nc_success\u001b[0;34m()\u001b[0m\n",
      "\u001b[0;31mFileNotFoundError\u001b[0m: [Errno 2] No such file or directory: b'/g/data/hh5/tmp/zg0866/cm000_APP4_archive/cm000/history/atm/netCDF/cm000a.pm1151_mon.nc'"
     ]
    }
   ],
   "source": [
    "data_dir = \"/g/data/hh5/tmp/zg0866/cm000_APP4_archive/cm000/history/atm/netCDF/\"\n",
    "#cm000a.pm0951_mon.nc\"\n",
    "outdir = \"/g/data/e14/sm2435/Exps_ACCESS_initial/ctrl_psl/\"\n",
    "for i in range(951,1152,1):\n",
    "    formatted_i = str(i).zfill(4)\n",
    "    files = data_dir + f\"cm000a.pm{formatted_i}_mon.nc\"\n",
    "    print(files)\n",
    "    rain = xr.open_dataset(files, use_cftime=True, chunks= {\"time\":12}).fld_s00i409\n",
    "    rain.to_netcdf(outdir+f\"ctrl_pr{formatted_i}.nc\")"
   ]
  },
  {
   "cell_type": "code",
   "execution_count": 4,
   "id": "595e9f78-1f8c-4c8d-977b-c27b55d333e2",
   "metadata": {
    "tags": []
   },
   "outputs": [
    {
     "name": "stdout",
     "output_type": "stream",
     "text": [
      "/scratch/w97/zg0866/cs947_raw/history/atm/cs947a.pm0951*.nc\n",
      "/scratch/w97/zg0866/cs947_raw/history/atm/cs947a.pm0952*.nc\n",
      "/scratch/w97/zg0866/cs947_raw/history/atm/cs947a.pm0953*.nc\n",
      "/scratch/w97/zg0866/cs947_raw/history/atm/cs947a.pm0954*.nc\n",
      "/scratch/w97/zg0866/cs947_raw/history/atm/cs947a.pm0955*.nc\n",
      "/scratch/w97/zg0866/cs947_raw/history/atm/cs947a.pm0956*.nc\n",
      "/scratch/w97/zg0866/cs947_raw/history/atm/cs947a.pm0957*.nc\n",
      "/scratch/w97/zg0866/cs947_raw/history/atm/cs947a.pm0958*.nc\n",
      "/scratch/w97/zg0866/cs947_raw/history/atm/cs947a.pm0959*.nc\n",
      "/scratch/w97/zg0866/cs947_raw/history/atm/cs947a.pm0960*.nc\n",
      "/scratch/w97/zg0866/cs947_raw/history/atm/cs947a.pm0961*.nc\n",
      "/scratch/w97/zg0866/cs947_raw/history/atm/cs947a.pm0962*.nc\n",
      "/scratch/w97/zg0866/cs947_raw/history/atm/cs947a.pm0963*.nc\n",
      "/scratch/w97/zg0866/cs947_raw/history/atm/cs947a.pm0964*.nc\n",
      "/scratch/w97/zg0866/cs947_raw/history/atm/cs947a.pm0965*.nc\n",
      "/scratch/w97/zg0866/cs947_raw/history/atm/cs947a.pm0966*.nc\n",
      "/scratch/w97/zg0866/cs947_raw/history/atm/cs947a.pm0967*.nc\n",
      "/scratch/w97/zg0866/cs947_raw/history/atm/cs947a.pm0968*.nc\n",
      "/scratch/w97/zg0866/cs947_raw/history/atm/cs947a.pm0969*.nc\n",
      "/scratch/w97/zg0866/cs947_raw/history/atm/cs947a.pm0970*.nc\n",
      "/scratch/w97/zg0866/cs947_raw/history/atm/cs947a.pm0971*.nc\n",
      "/scratch/w97/zg0866/cs947_raw/history/atm/cs947a.pm0972*.nc\n",
      "/scratch/w97/zg0866/cs947_raw/history/atm/cs947a.pm0973*.nc\n",
      "/scratch/w97/zg0866/cs947_raw/history/atm/cs947a.pm0974*.nc\n",
      "/scratch/w97/zg0866/cs947_raw/history/atm/cs947a.pm0975*.nc\n",
      "/scratch/w97/zg0866/cs947_raw/history/atm/cs947a.pm0976*.nc\n",
      "/scratch/w97/zg0866/cs947_raw/history/atm/cs947a.pm0977*.nc\n",
      "/scratch/w97/zg0866/cs947_raw/history/atm/cs947a.pm0978*.nc\n",
      "/scratch/w97/zg0866/cs947_raw/history/atm/cs947a.pm0979*.nc\n",
      "/scratch/w97/zg0866/cs947_raw/history/atm/cs947a.pm0980*.nc\n",
      "/scratch/w97/zg0866/cs947_raw/history/atm/cs947a.pm0981*.nc\n",
      "/scratch/w97/zg0866/cs947_raw/history/atm/cs947a.pm0982*.nc\n",
      "/scratch/w97/zg0866/cs947_raw/history/atm/cs947a.pm0983*.nc\n",
      "/scratch/w97/zg0866/cs947_raw/history/atm/cs947a.pm0984*.nc\n",
      "/scratch/w97/zg0866/cs947_raw/history/atm/cs947a.pm0985*.nc\n",
      "/scratch/w97/zg0866/cs947_raw/history/atm/cs947a.pm0986*.nc\n",
      "/scratch/w97/zg0866/cs947_raw/history/atm/cs947a.pm0987*.nc\n",
      "/scratch/w97/zg0866/cs947_raw/history/atm/cs947a.pm0988*.nc\n",
      "/scratch/w97/zg0866/cs947_raw/history/atm/cs947a.pm0989*.nc\n",
      "/scratch/w97/zg0866/cs947_raw/history/atm/cs947a.pm0990*.nc\n",
      "/scratch/w97/zg0866/cs947_raw/history/atm/cs947a.pm0991*.nc\n",
      "/scratch/w97/zg0866/cs947_raw/history/atm/cs947a.pm0992*.nc\n",
      "/scratch/w97/zg0866/cs947_raw/history/atm/cs947a.pm0993*.nc\n",
      "/scratch/w97/zg0866/cs947_raw/history/atm/cs947a.pm0994*.nc\n",
      "/scratch/w97/zg0866/cs947_raw/history/atm/cs947a.pm0995*.nc\n",
      "/scratch/w97/zg0866/cs947_raw/history/atm/cs947a.pm0996*.nc\n",
      "/scratch/w97/zg0866/cs947_raw/history/atm/cs947a.pm0997*.nc\n"
     ]
    },
    {
     "name": "stderr",
     "output_type": "stream",
     "text": [
      "2023-09-11 13:53:07,881 - distributed.utils_perf - WARNING - full garbage collections took 11% CPU time recently (threshold: 10%)\n"
     ]
    },
    {
     "name": "stdout",
     "output_type": "stream",
     "text": [
      "/scratch/w97/zg0866/cs947_raw/history/atm/cs947a.pm0998*.nc\n"
     ]
    },
    {
     "name": "stderr",
     "output_type": "stream",
     "text": [
      "2023-09-11 13:53:28,993 - distributed.utils_perf - WARNING - full garbage collections took 11% CPU time recently (threshold: 10%)\n",
      "2023-09-11 13:53:31,401 - distributed.utils_perf - WARNING - full garbage collections took 11% CPU time recently (threshold: 10%)\n"
     ]
    },
    {
     "name": "stdout",
     "output_type": "stream",
     "text": [
      "/scratch/w97/zg0866/cs947_raw/history/atm/cs947a.pm0999*.nc\n"
     ]
    },
    {
     "name": "stderr",
     "output_type": "stream",
     "text": [
      "2023-09-11 13:54:01,557 - distributed.utils_perf - WARNING - full garbage collections took 11% CPU time recently (threshold: 10%)\n"
     ]
    },
    {
     "name": "stdout",
     "output_type": "stream",
     "text": [
      "/scratch/w97/zg0866/cs947_raw/history/atm/cs947a.pm1000*.nc\n"
     ]
    },
    {
     "name": "stderr",
     "output_type": "stream",
     "text": [
      "2023-09-11 13:54:23,104 - distributed.utils_perf - WARNING - full garbage collections took 11% CPU time recently (threshold: 10%)\n",
      "2023-09-11 13:54:23,637 - distributed.utils_perf - WARNING - full garbage collections took 11% CPU time recently (threshold: 10%)\n"
     ]
    },
    {
     "name": "stdout",
     "output_type": "stream",
     "text": [
      "/scratch/w97/zg0866/cs947_raw/history/atm/cs947a.pm1001*.nc\n"
     ]
    },
    {
     "name": "stderr",
     "output_type": "stream",
     "text": [
      "2023-09-11 13:54:44,991 - distributed.utils_perf - WARNING - full garbage collections took 11% CPU time recently (threshold: 10%)\n"
     ]
    },
    {
     "name": "stdout",
     "output_type": "stream",
     "text": [
      "/scratch/w97/zg0866/cs947_raw/history/atm/cs947a.pm1002*.nc\n"
     ]
    },
    {
     "name": "stderr",
     "output_type": "stream",
     "text": [
      "2023-09-11 13:55:13,184 - distributed.utils_perf - WARNING - full garbage collections took 11% CPU time recently (threshold: 10%)\n",
      "2023-09-11 13:55:13,750 - distributed.utils_perf - WARNING - full garbage collections took 11% CPU time recently (threshold: 10%)\n"
     ]
    },
    {
     "name": "stdout",
     "output_type": "stream",
     "text": [
      "/scratch/w97/zg0866/cs947_raw/history/atm/cs947a.pm1003*.nc\n"
     ]
    },
    {
     "name": "stderr",
     "output_type": "stream",
     "text": [
      "2023-09-11 13:55:36,610 - distributed.utils_perf - WARNING - full garbage collections took 11% CPU time recently (threshold: 10%)\n",
      "2023-09-11 13:55:48,488 - distributed.utils_perf - WARNING - full garbage collections took 11% CPU time recently (threshold: 10%)\n"
     ]
    },
    {
     "name": "stdout",
     "output_type": "stream",
     "text": [
      "/scratch/w97/zg0866/cs947_raw/history/atm/cs947a.pm1004*.nc\n"
     ]
    },
    {
     "name": "stderr",
     "output_type": "stream",
     "text": [
      "2023-09-11 13:55:58,546 - distributed.utils_perf - WARNING - full garbage collections took 11% CPU time recently (threshold: 10%)\n"
     ]
    },
    {
     "name": "stdout",
     "output_type": "stream",
     "text": [
      "/scratch/w97/zg0866/cs947_raw/history/atm/cs947a.pm1005*.nc\n"
     ]
    },
    {
     "name": "stderr",
     "output_type": "stream",
     "text": [
      "2023-09-11 13:56:19,875 - distributed.utils_perf - WARNING - full garbage collections took 11% CPU time recently (threshold: 10%)\n",
      "2023-09-11 13:56:24,896 - distributed.utils_perf - WARNING - full garbage collections took 11% CPU time recently (threshold: 10%)\n"
     ]
    },
    {
     "name": "stdout",
     "output_type": "stream",
     "text": [
      "/scratch/w97/zg0866/cs947_raw/history/atm/cs947a.pm1006*.nc\n"
     ]
    },
    {
     "name": "stderr",
     "output_type": "stream",
     "text": [
      "2023-09-11 13:56:45,395 - distributed.utils_perf - WARNING - full garbage collections took 11% CPU time recently (threshold: 10%)\n"
     ]
    },
    {
     "name": "stdout",
     "output_type": "stream",
     "text": [
      "/scratch/w97/zg0866/cs947_raw/history/atm/cs947a.pm1007*.nc\n"
     ]
    },
    {
     "name": "stderr",
     "output_type": "stream",
     "text": [
      "2023-09-11 13:57:13,125 - distributed.utils_perf - WARNING - full garbage collections took 10% CPU time recently (threshold: 10%)\n",
      "2023-09-11 13:57:13,726 - distributed.utils_perf - WARNING - full garbage collections took 11% CPU time recently (threshold: 10%)\n"
     ]
    },
    {
     "name": "stdout",
     "output_type": "stream",
     "text": [
      "/scratch/w97/zg0866/cs947_raw/history/atm/cs947a.pm1008*.nc\n"
     ]
    },
    {
     "name": "stderr",
     "output_type": "stream",
     "text": [
      "2023-09-11 13:57:34,877 - distributed.utils_perf - WARNING - full garbage collections took 11% CPU time recently (threshold: 10%)\n"
     ]
    },
    {
     "name": "stdout",
     "output_type": "stream",
     "text": [
      "/scratch/w97/zg0866/cs947_raw/history/atm/cs947a.pm1009*.nc\n"
     ]
    },
    {
     "name": "stderr",
     "output_type": "stream",
     "text": [
      "2023-09-11 13:57:53,399 - distributed.utils_perf - WARNING - full garbage collections took 10% CPU time recently (threshold: 10%)\n",
      "2023-09-11 13:57:57,887 - distributed.utils_perf - WARNING - full garbage collections took 11% CPU time recently (threshold: 10%)\n",
      "2023-09-11 13:58:02,989 - distributed.utils_perf - WARNING - full garbage collections took 11% CPU time recently (threshold: 10%)\n"
     ]
    },
    {
     "name": "stdout",
     "output_type": "stream",
     "text": [
      "/scratch/w97/zg0866/cs947_raw/history/atm/cs947a.pm1010*.nc\n"
     ]
    },
    {
     "name": "stderr",
     "output_type": "stream",
     "text": [
      "2023-09-11 13:58:23,748 - distributed.utils_perf - WARNING - full garbage collections took 11% CPU time recently (threshold: 10%)\n",
      "2023-09-11 13:58:24,346 - distributed.utils_perf - WARNING - full garbage collections took 11% CPU time recently (threshold: 10%)\n"
     ]
    },
    {
     "name": "stdout",
     "output_type": "stream",
     "text": [
      "/scratch/w97/zg0866/cs947_raw/history/atm/cs947a.pm1011*.nc\n"
     ]
    },
    {
     "name": "stderr",
     "output_type": "stream",
     "text": [
      "2023-09-11 13:58:47,383 - distributed.utils_perf - WARNING - full garbage collections took 11% CPU time recently (threshold: 10%)\n"
     ]
    },
    {
     "name": "stdout",
     "output_type": "stream",
     "text": [
      "/scratch/w97/zg0866/cs947_raw/history/atm/cs947a.pm1012*.nc\n"
     ]
    },
    {
     "name": "stderr",
     "output_type": "stream",
     "text": [
      "2023-09-11 13:59:09,340 - distributed.utils_perf - WARNING - full garbage collections took 11% CPU time recently (threshold: 10%)\n",
      "2023-09-11 13:59:09,885 - distributed.utils_perf - WARNING - full garbage collections took 11% CPU time recently (threshold: 10%)\n"
     ]
    },
    {
     "name": "stdout",
     "output_type": "stream",
     "text": [
      "/scratch/w97/zg0866/cs947_raw/history/atm/cs947a.pm1013*.nc\n"
     ]
    },
    {
     "name": "stderr",
     "output_type": "stream",
     "text": [
      "2023-09-11 13:59:30,210 - distributed.utils_perf - WARNING - full garbage collections took 11% CPU time recently (threshold: 10%)\n"
     ]
    },
    {
     "name": "stdout",
     "output_type": "stream",
     "text": [
      "/scratch/w97/zg0866/cs947_raw/history/atm/cs947a.pm1014*.nc\n"
     ]
    },
    {
     "name": "stderr",
     "output_type": "stream",
     "text": [
      "2023-09-11 13:59:52,263 - distributed.utils_perf - WARNING - full garbage collections took 11% CPU time recently (threshold: 10%)\n",
      "2023-09-11 13:59:52,867 - distributed.utils_perf - WARNING - full garbage collections took 11% CPU time recently (threshold: 10%)\n"
     ]
    },
    {
     "name": "stdout",
     "output_type": "stream",
     "text": [
      "/scratch/w97/zg0866/cs947_raw/history/atm/cs947a.pm1015*.nc\n"
     ]
    },
    {
     "name": "stderr",
     "output_type": "stream",
     "text": [
      "2023-09-11 14:00:12,804 - distributed.utils_perf - WARNING - full garbage collections took 11% CPU time recently (threshold: 10%)\n",
      "2023-09-11 14:00:25,862 - distributed.utils_perf - WARNING - full garbage collections took 11% CPU time recently (threshold: 10%)\n"
     ]
    },
    {
     "name": "stdout",
     "output_type": "stream",
     "text": [
      "/scratch/w97/zg0866/cs947_raw/history/atm/cs947a.pm1016*.nc\n"
     ]
    },
    {
     "name": "stderr",
     "output_type": "stream",
     "text": [
      "2023-09-11 14:00:34,872 - distributed.utils_perf - WARNING - full garbage collections took 11% CPU time recently (threshold: 10%)\n"
     ]
    },
    {
     "name": "stdout",
     "output_type": "stream",
     "text": [
      "/scratch/w97/zg0866/cs947_raw/history/atm/cs947a.pm1017*.nc\n"
     ]
    },
    {
     "name": "stderr",
     "output_type": "stream",
     "text": [
      "2023-09-11 14:00:56,528 - distributed.utils_perf - WARNING - full garbage collections took 11% CPU time recently (threshold: 10%)\n"
     ]
    },
    {
     "name": "stdout",
     "output_type": "stream",
     "text": [
      "/scratch/w97/zg0866/cs947_raw/history/atm/cs947a.pm1018*.nc\n"
     ]
    },
    {
     "name": "stderr",
     "output_type": "stream",
     "text": [
      "2023-09-11 14:01:22,065 - distributed.utils_perf - WARNING - full garbage collections took 11% CPU time recently (threshold: 10%)\n",
      "2023-09-11 14:01:22,673 - distributed.utils_perf - WARNING - full garbage collections took 11% CPU time recently (threshold: 10%)\n"
     ]
    },
    {
     "name": "stdout",
     "output_type": "stream",
     "text": [
      "/scratch/w97/zg0866/cs947_raw/history/atm/cs947a.pm1019*.nc\n"
     ]
    },
    {
     "name": "stderr",
     "output_type": "stream",
     "text": [
      "2023-09-11 14:01:44,266 - distributed.utils_perf - WARNING - full garbage collections took 11% CPU time recently (threshold: 10%)\n",
      "2023-09-11 14:01:56,765 - distributed.utils_perf - WARNING - full garbage collections took 11% CPU time recently (threshold: 10%)\n"
     ]
    },
    {
     "name": "stdout",
     "output_type": "stream",
     "text": [
      "/scratch/w97/zg0866/cs947_raw/history/atm/cs947a.pm1020*.nc\n"
     ]
    },
    {
     "name": "stderr",
     "output_type": "stream",
     "text": [
      "2023-09-11 14:02:06,959 - distributed.utils_perf - WARNING - full garbage collections took 11% CPU time recently (threshold: 10%)\n"
     ]
    },
    {
     "name": "stdout",
     "output_type": "stream",
     "text": [
      "/scratch/w97/zg0866/cs947_raw/history/atm/cs947a.pm1021*.nc\n"
     ]
    },
    {
     "name": "stderr",
     "output_type": "stream",
     "text": [
      "2023-09-11 14:02:29,738 - distributed.utils_perf - WARNING - full garbage collections took 10% CPU time recently (threshold: 10%)\n"
     ]
    },
    {
     "name": "stdout",
     "output_type": "stream",
     "text": [
      "/scratch/w97/zg0866/cs947_raw/history/atm/cs947a.pm1022*.nc\n"
     ]
    },
    {
     "name": "stderr",
     "output_type": "stream",
     "text": [
      "2023-09-11 14:02:50,674 - distributed.utils_perf - WARNING - full garbage collections took 10% CPU time recently (threshold: 10%)\n",
      "2023-09-11 14:02:51,263 - distributed.utils_perf - WARNING - full garbage collections took 11% CPU time recently (threshold: 10%)\n"
     ]
    },
    {
     "name": "stdout",
     "output_type": "stream",
     "text": [
      "/scratch/w97/zg0866/cs947_raw/history/atm/cs947a.pm1023*.nc\n"
     ]
    },
    {
     "name": "stderr",
     "output_type": "stream",
     "text": [
      "2023-09-11 14:03:13,179 - distributed.utils_perf - WARNING - full garbage collections took 10% CPU time recently (threshold: 10%)\n",
      "2023-09-11 14:03:26,597 - distributed.utils_perf - WARNING - full garbage collections took 11% CPU time recently (threshold: 10%)\n"
     ]
    },
    {
     "name": "stdout",
     "output_type": "stream",
     "text": [
      "/scratch/w97/zg0866/cs947_raw/history/atm/cs947a.pm1024*.nc\n"
     ]
    },
    {
     "name": "stderr",
     "output_type": "stream",
     "text": [
      "2023-09-11 14:03:34,579 - distributed.utils_perf - WARNING - full garbage collections took 11% CPU time recently (threshold: 10%)\n"
     ]
    },
    {
     "name": "stdout",
     "output_type": "stream",
     "text": [
      "/scratch/w97/zg0866/cs947_raw/history/atm/cs947a.pm1025*.nc\n"
     ]
    },
    {
     "name": "stderr",
     "output_type": "stream",
     "text": [
      "2023-09-11 14:03:53,833 - distributed.utils_perf - WARNING - full garbage collections took 11% CPU time recently (threshold: 10%)\n",
      "2023-09-11 14:03:54,491 - distributed.utils_perf - WARNING - full garbage collections took 11% CPU time recently (threshold: 10%)\n"
     ]
    },
    {
     "name": "stdout",
     "output_type": "stream",
     "text": [
      "/scratch/w97/zg0866/cs947_raw/history/atm/cs947a.pm1026*.nc\n"
     ]
    },
    {
     "name": "stderr",
     "output_type": "stream",
     "text": [
      "2023-09-11 14:04:15,874 - distributed.utils_perf - WARNING - full garbage collections took 11% CPU time recently (threshold: 10%)\n"
     ]
    },
    {
     "name": "stdout",
     "output_type": "stream",
     "text": [
      "/scratch/w97/zg0866/cs947_raw/history/atm/cs947a.pm1027*.nc\n"
     ]
    },
    {
     "name": "stderr",
     "output_type": "stream",
     "text": [
      "2023-09-11 14:04:38,684 - distributed.utils_perf - WARNING - full garbage collections took 10% CPU time recently (threshold: 10%)\n",
      "2023-09-11 14:04:51,612 - distributed.utils_perf - WARNING - full garbage collections took 10% CPU time recently (threshold: 10%)\n"
     ]
    },
    {
     "name": "stdout",
     "output_type": "stream",
     "text": [
      "/scratch/w97/zg0866/cs947_raw/history/atm/cs947a.pm1028*.nc\n"
     ]
    },
    {
     "name": "stderr",
     "output_type": "stream",
     "text": [
      "2023-09-11 14:05:00,964 - distributed.utils_perf - WARNING - full garbage collections took 11% CPU time recently (threshold: 10%)\n"
     ]
    },
    {
     "name": "stdout",
     "output_type": "stream",
     "text": [
      "/scratch/w97/zg0866/cs947_raw/history/atm/cs947a.pm1029*.nc\n"
     ]
    },
    {
     "name": "stderr",
     "output_type": "stream",
     "text": [
      "2023-09-11 14:05:22,775 - distributed.utils_perf - WARNING - full garbage collections took 10% CPU time recently (threshold: 10%)\n"
     ]
    },
    {
     "name": "stdout",
     "output_type": "stream",
     "text": [
      "/scratch/w97/zg0866/cs947_raw/history/atm/cs947a.pm1030*.nc\n"
     ]
    },
    {
     "name": "stderr",
     "output_type": "stream",
     "text": [
      "2023-09-11 14:05:46,879 - distributed.utils_perf - WARNING - full garbage collections took 10% CPU time recently (threshold: 10%)\n",
      "2023-09-11 14:05:47,501 - distributed.utils_perf - WARNING - full garbage collections took 11% CPU time recently (threshold: 10%)\n"
     ]
    },
    {
     "name": "stdout",
     "output_type": "stream",
     "text": [
      "/scratch/w97/zg0866/cs947_raw/history/atm/cs947a.pm1031*.nc\n"
     ]
    },
    {
     "name": "stderr",
     "output_type": "stream",
     "text": [
      "2023-09-11 14:06:08,219 - distributed.utils_perf - WARNING - full garbage collections took 10% CPU time recently (threshold: 10%)\n"
     ]
    },
    {
     "name": "stdout",
     "output_type": "stream",
     "text": [
      "/scratch/w97/zg0866/cs947_raw/history/atm/cs947a.pm1032*.nc\n"
     ]
    },
    {
     "name": "stderr",
     "output_type": "stream",
     "text": [
      "2023-09-11 14:06:30,369 - distributed.utils_perf - WARNING - full garbage collections took 10% CPU time recently (threshold: 10%)\n",
      "2023-09-11 14:06:30,992 - distributed.utils_perf - WARNING - full garbage collections took 10% CPU time recently (threshold: 10%)\n"
     ]
    },
    {
     "name": "stdout",
     "output_type": "stream",
     "text": [
      "/scratch/w97/zg0866/cs947_raw/history/atm/cs947a.pm1033*.nc\n"
     ]
    },
    {
     "name": "stderr",
     "output_type": "stream",
     "text": [
      "2023-09-11 14:06:52,464 - distributed.utils_perf - WARNING - full garbage collections took 10% CPU time recently (threshold: 10%)\n"
     ]
    },
    {
     "name": "stdout",
     "output_type": "stream",
     "text": [
      "/scratch/w97/zg0866/cs947_raw/history/atm/cs947a.pm1034*.nc\n"
     ]
    },
    {
     "name": "stderr",
     "output_type": "stream",
     "text": [
      "2023-09-11 14:07:13,360 - distributed.utils_perf - WARNING - full garbage collections took 10% CPU time recently (threshold: 10%)\n",
      "2023-09-11 14:07:14,024 - distributed.utils_perf - WARNING - full garbage collections took 10% CPU time recently (threshold: 10%)\n"
     ]
    },
    {
     "name": "stdout",
     "output_type": "stream",
     "text": [
      "/scratch/w97/zg0866/cs947_raw/history/atm/cs947a.pm1035*.nc\n"
     ]
    },
    {
     "name": "stderr",
     "output_type": "stream",
     "text": [
      "2023-09-11 14:07:33,974 - distributed.utils_perf - WARNING - full garbage collections took 10% CPU time recently (threshold: 10%)\n"
     ]
    },
    {
     "name": "stdout",
     "output_type": "stream",
     "text": [
      "/scratch/w97/zg0866/cs947_raw/history/atm/cs947a.pm1036*.nc\n"
     ]
    },
    {
     "name": "stderr",
     "output_type": "stream",
     "text": [
      "2023-09-11 14:07:55,765 - distributed.utils_perf - WARNING - full garbage collections took 10% CPU time recently (threshold: 10%)\n",
      "2023-09-11 14:08:02,999 - distributed.utils_perf - WARNING - full garbage collections took 10% CPU time recently (threshold: 10%)\n"
     ]
    },
    {
     "name": "stdout",
     "output_type": "stream",
     "text": [
      "/scratch/w97/zg0866/cs947_raw/history/atm/cs947a.pm1037*.nc\n"
     ]
    },
    {
     "name": "stderr",
     "output_type": "stream",
     "text": [
      "2023-09-11 14:08:18,735 - distributed.utils_perf - WARNING - full garbage collections took 10% CPU time recently (threshold: 10%)\n"
     ]
    },
    {
     "name": "stdout",
     "output_type": "stream",
     "text": [
      "/scratch/w97/zg0866/cs947_raw/history/atm/cs947a.pm1038*.nc\n"
     ]
    },
    {
     "name": "stderr",
     "output_type": "stream",
     "text": [
      "2023-09-11 14:08:38,497 - distributed.utils_perf - WARNING - full garbage collections took 10% CPU time recently (threshold: 10%)\n"
     ]
    },
    {
     "name": "stdout",
     "output_type": "stream",
     "text": [
      "/scratch/w97/zg0866/cs947_raw/history/atm/cs947a.pm1039*.nc\n"
     ]
    },
    {
     "name": "stderr",
     "output_type": "stream",
     "text": [
      "2023-09-11 14:08:59,077 - distributed.utils_perf - WARNING - full garbage collections took 10% CPU time recently (threshold: 10%)\n",
      "2023-09-11 14:08:59,747 - distributed.utils_perf - WARNING - full garbage collections took 11% CPU time recently (threshold: 10%)\n"
     ]
    },
    {
     "name": "stdout",
     "output_type": "stream",
     "text": [
      "/scratch/w97/zg0866/cs947_raw/history/atm/cs947a.pm1040*.nc\n"
     ]
    },
    {
     "name": "stderr",
     "output_type": "stream",
     "text": [
      "2023-09-11 14:09:20,038 - distributed.utils_perf - WARNING - full garbage collections took 11% CPU time recently (threshold: 10%)\n"
     ]
    },
    {
     "name": "stdout",
     "output_type": "stream",
     "text": [
      "/scratch/w97/zg0866/cs947_raw/history/atm/cs947a.pm1041*.nc\n"
     ]
    },
    {
     "name": "stderr",
     "output_type": "stream",
     "text": [
      "2023-09-11 14:09:43,243 - distributed.utils_perf - WARNING - full garbage collections took 10% CPU time recently (threshold: 10%)\n",
      "2023-09-11 14:09:43,875 - distributed.utils_perf - WARNING - full garbage collections took 11% CPU time recently (threshold: 10%)\n"
     ]
    },
    {
     "name": "stdout",
     "output_type": "stream",
     "text": [
      "/scratch/w97/zg0866/cs947_raw/history/atm/cs947a.pm1042*.nc\n"
     ]
    },
    {
     "name": "stderr",
     "output_type": "stream",
     "text": [
      "2023-09-11 14:10:04,412 - distributed.utils_perf - WARNING - full garbage collections took 11% CPU time recently (threshold: 10%)\n"
     ]
    },
    {
     "name": "stdout",
     "output_type": "stream",
     "text": [
      "/scratch/w97/zg0866/cs947_raw/history/atm/cs947a.pm1043*.nc\n"
     ]
    },
    {
     "name": "stderr",
     "output_type": "stream",
     "text": [
      "2023-09-11 14:10:25,416 - distributed.utils_perf - WARNING - full garbage collections took 11% CPU time recently (threshold: 10%)\n",
      "2023-09-11 14:10:26,077 - distributed.utils_perf - WARNING - full garbage collections took 11% CPU time recently (threshold: 10%)\n"
     ]
    },
    {
     "name": "stdout",
     "output_type": "stream",
     "text": [
      "/scratch/w97/zg0866/cs947_raw/history/atm/cs947a.pm1044*.nc\n"
     ]
    },
    {
     "name": "stderr",
     "output_type": "stream",
     "text": [
      "2023-09-11 14:10:50,390 - distributed.utils_perf - WARNING - full garbage collections took 11% CPU time recently (threshold: 10%)\n"
     ]
    },
    {
     "name": "stdout",
     "output_type": "stream",
     "text": [
      "/scratch/w97/zg0866/cs947_raw/history/atm/cs947a.pm1045*.nc\n"
     ]
    },
    {
     "name": "stderr",
     "output_type": "stream",
     "text": [
      "2023-09-11 14:11:10,981 - distributed.utils_perf - WARNING - full garbage collections took 11% CPU time recently (threshold: 10%)\n"
     ]
    },
    {
     "name": "stdout",
     "output_type": "stream",
     "text": [
      "/scratch/w97/zg0866/cs947_raw/history/atm/cs947a.pm1046*.nc\n"
     ]
    },
    {
     "name": "stderr",
     "output_type": "stream",
     "text": [
      "2023-09-11 14:11:24,806 - distributed.utils_perf - WARNING - full garbage collections took 11% CPU time recently (threshold: 10%)\n",
      "2023-09-11 14:11:31,999 - distributed.utils_perf - WARNING - full garbage collections took 11% CPU time recently (threshold: 10%)\n"
     ]
    },
    {
     "name": "stdout",
     "output_type": "stream",
     "text": [
      "/scratch/w97/zg0866/cs947_raw/history/atm/cs947a.pm1047*.nc\n"
     ]
    },
    {
     "name": "stderr",
     "output_type": "stream",
     "text": [
      "2023-09-11 14:11:53,390 - distributed.utils_perf - WARNING - full garbage collections took 11% CPU time recently (threshold: 10%)\n"
     ]
    },
    {
     "name": "stdout",
     "output_type": "stream",
     "text": [
      "/scratch/w97/zg0866/cs947_raw/history/atm/cs947a.pm1048*.nc\n"
     ]
    },
    {
     "name": "stderr",
     "output_type": "stream",
     "text": [
      "2023-09-11 14:12:13,104 - distributed.utils_perf - WARNING - full garbage collections took 11% CPU time recently (threshold: 10%)\n",
      "2023-09-11 14:12:13,729 - distributed.utils_perf - WARNING - full garbage collections took 12% CPU time recently (threshold: 10%)\n"
     ]
    },
    {
     "name": "stdout",
     "output_type": "stream",
     "text": [
      "/scratch/w97/zg0866/cs947_raw/history/atm/cs947a.pm1049*.nc\n"
     ]
    },
    {
     "name": "stderr",
     "output_type": "stream",
     "text": [
      "2023-09-11 14:12:41,282 - distributed.utils_perf - WARNING - full garbage collections took 12% CPU time recently (threshold: 10%)\n"
     ]
    },
    {
     "name": "stdout",
     "output_type": "stream",
     "text": [
      "/scratch/w97/zg0866/cs947_raw/history/atm/cs947a.pm1050*.nc\n"
     ]
    },
    {
     "name": "stderr",
     "output_type": "stream",
     "text": [
      "2023-09-11 14:13:01,613 - distributed.utils_perf - WARNING - full garbage collections took 12% CPU time recently (threshold: 10%)\n",
      "2023-09-11 14:13:02,243 - distributed.utils_perf - WARNING - full garbage collections took 12% CPU time recently (threshold: 10%)\n"
     ]
    },
    {
     "name": "stdout",
     "output_type": "stream",
     "text": [
      "/scratch/w97/zg0866/cs947_raw/history/atm/cs947a.pm1051*.nc\n"
     ]
    },
    {
     "name": "stderr",
     "output_type": "stream",
     "text": [
      "2023-09-11 14:13:26,373 - distributed.utils_perf - WARNING - full garbage collections took 12% CPU time recently (threshold: 10%)\n"
     ]
    },
    {
     "name": "stdout",
     "output_type": "stream",
     "text": [
      "/scratch/w97/zg0866/cs947_raw/history/atm/cs947a.pm1052*.nc\n"
     ]
    },
    {
     "name": "stderr",
     "output_type": "stream",
     "text": [
      "2023-09-11 14:13:48,261 - distributed.utils_perf - WARNING - full garbage collections took 12% CPU time recently (threshold: 10%)\n",
      "2023-09-11 14:13:48,955 - distributed.utils_perf - WARNING - full garbage collections took 12% CPU time recently (threshold: 10%)\n"
     ]
    },
    {
     "name": "stdout",
     "output_type": "stream",
     "text": [
      "/scratch/w97/zg0866/cs947_raw/history/atm/cs947a.pm1053*.nc\n"
     ]
    },
    {
     "name": "stderr",
     "output_type": "stream",
     "text": [
      "2023-09-11 14:14:08,307 - distributed.utils_perf - WARNING - full garbage collections took 12% CPU time recently (threshold: 10%)\n"
     ]
    },
    {
     "name": "stdout",
     "output_type": "stream",
     "text": [
      "/scratch/w97/zg0866/cs947_raw/history/atm/cs947a.pm1054*.nc\n"
     ]
    },
    {
     "name": "stderr",
     "output_type": "stream",
     "text": [
      "2023-09-11 14:14:28,140 - distributed.utils_perf - WARNING - full garbage collections took 12% CPU time recently (threshold: 10%)\n",
      "2023-09-11 14:14:32,806 - distributed.utils_perf - WARNING - full garbage collections took 13% CPU time recently (threshold: 10%)\n"
     ]
    },
    {
     "name": "stdout",
     "output_type": "stream",
     "text": [
      "/scratch/w97/zg0866/cs947_raw/history/atm/cs947a.pm1055*.nc\n"
     ]
    },
    {
     "name": "stderr",
     "output_type": "stream",
     "text": [
      "2023-09-11 14:14:49,181 - distributed.utils_perf - WARNING - full garbage collections took 12% CPU time recently (threshold: 10%)\n"
     ]
    },
    {
     "name": "stdout",
     "output_type": "stream",
     "text": [
      "/scratch/w97/zg0866/cs947_raw/history/atm/cs947a.pm1056*.nc\n"
     ]
    },
    {
     "name": "stderr",
     "output_type": "stream",
     "text": [
      "2023-09-11 14:15:09,280 - distributed.utils_perf - WARNING - full garbage collections took 12% CPU time recently (threshold: 10%)\n"
     ]
    },
    {
     "name": "stdout",
     "output_type": "stream",
     "text": [
      "/scratch/w97/zg0866/cs947_raw/history/atm/cs947a.pm1057*.nc\n"
     ]
    },
    {
     "name": "stderr",
     "output_type": "stream",
     "text": [
      "2023-09-11 14:15:28,773 - distributed.utils_perf - WARNING - full garbage collections took 12% CPU time recently (threshold: 10%)\n",
      "2023-09-11 14:15:29,435 - distributed.utils_perf - WARNING - full garbage collections took 12% CPU time recently (threshold: 10%)\n"
     ]
    },
    {
     "name": "stdout",
     "output_type": "stream",
     "text": [
      "/scratch/w97/zg0866/cs947_raw/history/atm/cs947a.pm1058*.nc\n"
     ]
    },
    {
     "name": "stderr",
     "output_type": "stream",
     "text": [
      "2023-09-11 14:15:51,144 - distributed.utils_perf - WARNING - full garbage collections took 12% CPU time recently (threshold: 10%)\n"
     ]
    },
    {
     "name": "stdout",
     "output_type": "stream",
     "text": [
      "/scratch/w97/zg0866/cs947_raw/history/atm/cs947a.pm1059*.nc\n"
     ]
    },
    {
     "name": "stderr",
     "output_type": "stream",
     "text": [
      "2023-09-11 14:16:11,312 - distributed.utils_perf - WARNING - full garbage collections took 12% CPU time recently (threshold: 10%)\n",
      "2023-09-11 14:16:11,942 - distributed.utils_perf - WARNING - full garbage collections took 13% CPU time recently (threshold: 10%)\n"
     ]
    },
    {
     "name": "stdout",
     "output_type": "stream",
     "text": [
      "/scratch/w97/zg0866/cs947_raw/history/atm/cs947a.pm1060*.nc\n"
     ]
    },
    {
     "name": "stderr",
     "output_type": "stream",
     "text": [
      "2023-09-11 14:16:32,476 - distributed.utils_perf - WARNING - full garbage collections took 12% CPU time recently (threshold: 10%)\n"
     ]
    },
    {
     "name": "stdout",
     "output_type": "stream",
     "text": [
      "/scratch/w97/zg0866/cs947_raw/history/atm/cs947a.pm1061*.nc\n"
     ]
    },
    {
     "name": "stderr",
     "output_type": "stream",
     "text": [
      "2023-09-11 14:16:51,389 - distributed.utils_perf - WARNING - full garbage collections took 12% CPU time recently (threshold: 10%)\n",
      "2023-09-11 14:16:52,033 - distributed.utils_perf - WARNING - full garbage collections took 13% CPU time recently (threshold: 10%)\n"
     ]
    },
    {
     "name": "stdout",
     "output_type": "stream",
     "text": [
      "/scratch/w97/zg0866/cs947_raw/history/atm/cs947a.pm1062*.nc\n"
     ]
    },
    {
     "name": "stderr",
     "output_type": "stream",
     "text": [
      "2023-09-11 14:17:11,399 - distributed.utils_perf - WARNING - full garbage collections took 12% CPU time recently (threshold: 10%)\n"
     ]
    },
    {
     "name": "stdout",
     "output_type": "stream",
     "text": [
      "/scratch/w97/zg0866/cs947_raw/history/atm/cs947a.pm1063*.nc\n"
     ]
    },
    {
     "name": "stderr",
     "output_type": "stream",
     "text": [
      "2023-09-11 14:17:31,771 - distributed.utils_perf - WARNING - full garbage collections took 12% CPU time recently (threshold: 10%)\n"
     ]
    },
    {
     "name": "stdout",
     "output_type": "stream",
     "text": [
      "/scratch/w97/zg0866/cs947_raw/history/atm/cs947a.pm1064*.nc\n"
     ]
    },
    {
     "name": "stderr",
     "output_type": "stream",
     "text": [
      "2023-09-11 14:17:51,632 - distributed.utils_perf - WARNING - full garbage collections took 12% CPU time recently (threshold: 10%)\n",
      "2023-09-11 14:17:52,252 - distributed.utils_perf - WARNING - full garbage collections took 12% CPU time recently (threshold: 10%)\n"
     ]
    },
    {
     "name": "stdout",
     "output_type": "stream",
     "text": [
      "/scratch/w97/zg0866/cs947_raw/history/atm/cs947a.pm1065*.nc\n"
     ]
    },
    {
     "name": "stderr",
     "output_type": "stream",
     "text": [
      "2023-09-11 14:18:12,694 - distributed.utils_perf - WARNING - full garbage collections took 12% CPU time recently (threshold: 10%)\n"
     ]
    },
    {
     "name": "stdout",
     "output_type": "stream",
     "text": [
      "/scratch/w97/zg0866/cs947_raw/history/atm/cs947a.pm1066*.nc\n"
     ]
    },
    {
     "name": "stderr",
     "output_type": "stream",
     "text": [
      "2023-09-11 14:18:32,012 - distributed.utils_perf - WARNING - full garbage collections took 12% CPU time recently (threshold: 10%)\n",
      "2023-09-11 14:18:32,636 - distributed.utils_perf - WARNING - full garbage collections took 13% CPU time recently (threshold: 10%)\n"
     ]
    },
    {
     "name": "stdout",
     "output_type": "stream",
     "text": [
      "/scratch/w97/zg0866/cs947_raw/history/atm/cs947a.pm1067*.nc\n"
     ]
    },
    {
     "name": "stderr",
     "output_type": "stream",
     "text": [
      "2023-09-11 14:18:51,634 - distributed.utils_perf - WARNING - full garbage collections took 12% CPU time recently (threshold: 10%)\n"
     ]
    },
    {
     "name": "stdout",
     "output_type": "stream",
     "text": [
      "/scratch/w97/zg0866/cs947_raw/history/atm/cs947a.pm1068*.nc\n"
     ]
    },
    {
     "name": "stderr",
     "output_type": "stream",
     "text": [
      "2023-09-11 14:19:10,875 - distributed.utils_perf - WARNING - full garbage collections took 13% CPU time recently (threshold: 10%)\n",
      "2023-09-11 14:19:11,504 - distributed.utils_perf - WARNING - full garbage collections took 13% CPU time recently (threshold: 10%)\n"
     ]
    },
    {
     "name": "stdout",
     "output_type": "stream",
     "text": [
      "/scratch/w97/zg0866/cs947_raw/history/atm/cs947a.pm1069*.nc\n"
     ]
    },
    {
     "name": "stderr",
     "output_type": "stream",
     "text": [
      "2023-09-11 14:19:30,552 - distributed.utils_perf - WARNING - full garbage collections took 13% CPU time recently (threshold: 10%)\n"
     ]
    },
    {
     "name": "stdout",
     "output_type": "stream",
     "text": [
      "/scratch/w97/zg0866/cs947_raw/history/atm/cs947a.pm1070*.nc\n"
     ]
    },
    {
     "name": "stderr",
     "output_type": "stream",
     "text": [
      "2023-09-11 14:19:50,129 - distributed.utils_perf - WARNING - full garbage collections took 13% CPU time recently (threshold: 10%)\n"
     ]
    },
    {
     "name": "stdout",
     "output_type": "stream",
     "text": [
      "/scratch/w97/zg0866/cs947_raw/history/atm/cs947a.pm1071*.nc\n"
     ]
    },
    {
     "name": "stderr",
     "output_type": "stream",
     "text": [
      "2023-09-11 14:20:15,031 - distributed.utils_perf - WARNING - full garbage collections took 13% CPU time recently (threshold: 10%)\n",
      "2023-09-11 14:20:15,669 - distributed.utils_perf - WARNING - full garbage collections took 13% CPU time recently (threshold: 10%)\n"
     ]
    },
    {
     "name": "stdout",
     "output_type": "stream",
     "text": [
      "/scratch/w97/zg0866/cs947_raw/history/atm/cs947a.pm1072*.nc\n"
     ]
    },
    {
     "name": "stderr",
     "output_type": "stream",
     "text": [
      "2023-09-11 14:20:35,616 - distributed.utils_perf - WARNING - full garbage collections took 13% CPU time recently (threshold: 10%)\n"
     ]
    },
    {
     "name": "stdout",
     "output_type": "stream",
     "text": [
      "/scratch/w97/zg0866/cs947_raw/history/atm/cs947a.pm1073*.nc\n"
     ]
    },
    {
     "name": "stderr",
     "output_type": "stream",
     "text": [
      "2023-09-11 14:20:54,927 - distributed.utils_perf - WARNING - full garbage collections took 13% CPU time recently (threshold: 10%)\n",
      "2023-09-11 14:20:55,558 - distributed.utils_perf - WARNING - full garbage collections took 13% CPU time recently (threshold: 10%)\n"
     ]
    },
    {
     "name": "stdout",
     "output_type": "stream",
     "text": [
      "/scratch/w97/zg0866/cs947_raw/history/atm/cs947a.pm1074*.nc\n"
     ]
    },
    {
     "name": "stderr",
     "output_type": "stream",
     "text": [
      "2023-09-11 14:21:16,607 - distributed.utils_perf - WARNING - full garbage collections took 13% CPU time recently (threshold: 10%)\n"
     ]
    },
    {
     "name": "stdout",
     "output_type": "stream",
     "text": [
      "/scratch/w97/zg0866/cs947_raw/history/atm/cs947a.pm1075*.nc\n"
     ]
    },
    {
     "name": "stderr",
     "output_type": "stream",
     "text": [
      "2023-09-11 14:21:41,018 - distributed.utils_perf - WARNING - full garbage collections took 13% CPU time recently (threshold: 10%)\n",
      "2023-09-11 14:21:52,101 - distributed.utils_perf - WARNING - full garbage collections took 13% CPU time recently (threshold: 10%)\n"
     ]
    },
    {
     "name": "stdout",
     "output_type": "stream",
     "text": [
      "/scratch/w97/zg0866/cs947_raw/history/atm/cs947a.pm1076*.nc\n"
     ]
    },
    {
     "name": "stderr",
     "output_type": "stream",
     "text": [
      "2023-09-11 14:22:00,943 - distributed.utils_perf - WARNING - full garbage collections took 12% CPU time recently (threshold: 10%)\n"
     ]
    },
    {
     "name": "stdout",
     "output_type": "stream",
     "text": [
      "/scratch/w97/zg0866/cs947_raw/history/atm/cs947a.pm1077*.nc\n"
     ]
    },
    {
     "name": "stderr",
     "output_type": "stream",
     "text": [
      "2023-09-11 14:22:20,212 - distributed.utils_perf - WARNING - full garbage collections took 12% CPU time recently (threshold: 10%)\n"
     ]
    },
    {
     "name": "stdout",
     "output_type": "stream",
     "text": [
      "/scratch/w97/zg0866/cs947_raw/history/atm/cs947a.pm1078*.nc\n"
     ]
    },
    {
     "name": "stderr",
     "output_type": "stream",
     "text": [
      "2023-09-11 14:22:39,618 - distributed.utils_perf - WARNING - full garbage collections took 12% CPU time recently (threshold: 10%)\n",
      "2023-09-11 14:22:40,265 - distributed.utils_perf - WARNING - full garbage collections took 13% CPU time recently (threshold: 10%)\n"
     ]
    },
    {
     "name": "stdout",
     "output_type": "stream",
     "text": [
      "/scratch/w97/zg0866/cs947_raw/history/atm/cs947a.pm1079*.nc\n"
     ]
    },
    {
     "name": "stderr",
     "output_type": "stream",
     "text": [
      "2023-09-11 14:22:59,875 - distributed.utils_perf - WARNING - full garbage collections took 12% CPU time recently (threshold: 10%)\n"
     ]
    },
    {
     "name": "stdout",
     "output_type": "stream",
     "text": [
      "/scratch/w97/zg0866/cs947_raw/history/atm/cs947a.pm1080*.nc\n"
     ]
    },
    {
     "name": "stderr",
     "output_type": "stream",
     "text": [
      "2023-09-11 14:23:19,826 - distributed.utils_perf - WARNING - full garbage collections took 12% CPU time recently (threshold: 10%)\n"
     ]
    },
    {
     "name": "stdout",
     "output_type": "stream",
     "text": [
      "/scratch/w97/zg0866/cs947_raw/history/atm/cs947a.pm1081*.nc\n"
     ]
    },
    {
     "name": "stderr",
     "output_type": "stream",
     "text": [
      "2023-09-11 14:23:39,905 - distributed.utils_perf - WARNING - full garbage collections took 12% CPU time recently (threshold: 10%)\n",
      "2023-09-11 14:23:40,543 - distributed.utils_perf - WARNING - full garbage collections took 12% CPU time recently (threshold: 10%)\n"
     ]
    },
    {
     "name": "stdout",
     "output_type": "stream",
     "text": [
      "/scratch/w97/zg0866/cs947_raw/history/atm/cs947a.pm1082*.nc\n"
     ]
    },
    {
     "name": "stderr",
     "output_type": "stream",
     "text": [
      "2023-09-11 14:24:01,161 - distributed.utils_perf - WARNING - full garbage collections took 12% CPU time recently (threshold: 10%)\n"
     ]
    },
    {
     "name": "stdout",
     "output_type": "stream",
     "text": [
      "/scratch/w97/zg0866/cs947_raw/history/atm/cs947a.pm1083*.nc\n"
     ]
    },
    {
     "name": "stderr",
     "output_type": "stream",
     "text": [
      "2023-09-11 14:24:20,923 - distributed.utils_perf - WARNING - full garbage collections took 12% CPU time recently (threshold: 10%)\n",
      "2023-09-11 14:24:21,584 - distributed.utils_perf - WARNING - full garbage collections took 12% CPU time recently (threshold: 10%)\n"
     ]
    },
    {
     "name": "stdout",
     "output_type": "stream",
     "text": [
      "/scratch/w97/zg0866/cs947_raw/history/atm/cs947a.pm1084*.nc\n"
     ]
    },
    {
     "name": "stderr",
     "output_type": "stream",
     "text": [
      "2023-09-11 14:24:47,594 - distributed.utils_perf - WARNING - full garbage collections took 12% CPU time recently (threshold: 10%)\n"
     ]
    },
    {
     "name": "stdout",
     "output_type": "stream",
     "text": [
      "/scratch/w97/zg0866/cs947_raw/history/atm/cs947a.pm1085*.nc\n"
     ]
    },
    {
     "name": "stderr",
     "output_type": "stream",
     "text": [
      "2023-09-11 14:25:07,573 - distributed.utils_perf - WARNING - full garbage collections took 12% CPU time recently (threshold: 10%)\n",
      "2023-09-11 14:25:20,894 - distributed.utils_perf - WARNING - full garbage collections took 13% CPU time recently (threshold: 10%)\n"
     ]
    },
    {
     "name": "stdout",
     "output_type": "stream",
     "text": [
      "/scratch/w97/zg0866/cs947_raw/history/atm/cs947a.pm1086*.nc\n"
     ]
    },
    {
     "name": "stderr",
     "output_type": "stream",
     "text": [
      "2023-09-11 14:25:28,283 - distributed.utils_perf - WARNING - full garbage collections took 12% CPU time recently (threshold: 10%)\n"
     ]
    },
    {
     "name": "stdout",
     "output_type": "stream",
     "text": [
      "/scratch/w97/zg0866/cs947_raw/history/atm/cs947a.pm1087*.nc\n"
     ]
    },
    {
     "name": "stderr",
     "output_type": "stream",
     "text": [
      "2023-09-11 14:25:51,438 - distributed.utils_perf - WARNING - full garbage collections took 12% CPU time recently (threshold: 10%)\n"
     ]
    },
    {
     "name": "stdout",
     "output_type": "stream",
     "text": [
      "/scratch/w97/zg0866/cs947_raw/history/atm/cs947a.pm1088*.nc\n"
     ]
    },
    {
     "name": "stderr",
     "output_type": "stream",
     "text": [
      "2023-09-11 14:26:11,652 - distributed.utils_perf - WARNING - full garbage collections took 12% CPU time recently (threshold: 10%)\n",
      "2023-09-11 14:26:12,339 - distributed.utils_perf - WARNING - full garbage collections took 12% CPU time recently (threshold: 10%)\n"
     ]
    },
    {
     "name": "stdout",
     "output_type": "stream",
     "text": [
      "/scratch/w97/zg0866/cs947_raw/history/atm/cs947a.pm1089*.nc\n"
     ]
    },
    {
     "name": "stderr",
     "output_type": "stream",
     "text": [
      "2023-09-11 14:26:32,940 - distributed.utils_perf - WARNING - full garbage collections took 12% CPU time recently (threshold: 10%)\n"
     ]
    },
    {
     "name": "stdout",
     "output_type": "stream",
     "text": [
      "/scratch/w97/zg0866/cs947_raw/history/atm/cs947a.pm1090*.nc\n"
     ]
    },
    {
     "name": "stderr",
     "output_type": "stream",
     "text": [
      "2023-09-11 14:26:54,241 - distributed.utils_perf - WARNING - full garbage collections took 12% CPU time recently (threshold: 10%)\n",
      "2023-09-11 14:26:54,989 - distributed.utils_perf - WARNING - full garbage collections took 12% CPU time recently (threshold: 10%)\n"
     ]
    },
    {
     "name": "stdout",
     "output_type": "stream",
     "text": [
      "/scratch/w97/zg0866/cs947_raw/history/atm/cs947a.pm1091*.nc\n"
     ]
    },
    {
     "name": "stderr",
     "output_type": "stream",
     "text": [
      "2023-09-11 14:27:22,762 - distributed.utils_perf - WARNING - full garbage collections took 12% CPU time recently (threshold: 10%)\n"
     ]
    },
    {
     "name": "stdout",
     "output_type": "stream",
     "text": [
      "/scratch/w97/zg0866/cs947_raw/history/atm/cs947a.pm1092*.nc\n"
     ]
    },
    {
     "name": "stderr",
     "output_type": "stream",
     "text": [
      "2023-09-11 14:27:42,214 - distributed.utils_perf - WARNING - full garbage collections took 12% CPU time recently (threshold: 10%)\n"
     ]
    },
    {
     "name": "stdout",
     "output_type": "stream",
     "text": [
      "/scratch/w97/zg0866/cs947_raw/history/atm/cs947a.pm1093*.nc\n"
     ]
    },
    {
     "name": "stderr",
     "output_type": "stream",
     "text": [
      "2023-09-11 14:28:03,233 - distributed.utils_perf - WARNING - full garbage collections took 12% CPU time recently (threshold: 10%)\n",
      "2023-09-11 14:28:03,885 - distributed.utils_perf - WARNING - full garbage collections took 12% CPU time recently (threshold: 10%)\n"
     ]
    },
    {
     "name": "stdout",
     "output_type": "stream",
     "text": [
      "/scratch/w97/zg0866/cs947_raw/history/atm/cs947a.pm1094*.nc\n"
     ]
    },
    {
     "name": "stderr",
     "output_type": "stream",
     "text": [
      "2023-09-11 14:28:23,959 - distributed.utils_perf - WARNING - full garbage collections took 12% CPU time recently (threshold: 10%)\n"
     ]
    },
    {
     "name": "stdout",
     "output_type": "stream",
     "text": [
      "/scratch/w97/zg0866/cs947_raw/history/atm/cs947a.pm1095*.nc\n"
     ]
    },
    {
     "name": "stderr",
     "output_type": "stream",
     "text": [
      "2023-09-11 14:28:46,897 - distributed.utils_perf - WARNING - full garbage collections took 12% CPU time recently (threshold: 10%)\n"
     ]
    },
    {
     "name": "stdout",
     "output_type": "stream",
     "text": [
      "/scratch/w97/zg0866/cs947_raw/history/atm/cs947a.pm1096*.nc\n"
     ]
    },
    {
     "name": "stderr",
     "output_type": "stream",
     "text": [
      "2023-09-11 14:29:07,091 - distributed.utils_perf - WARNING - full garbage collections took 12% CPU time recently (threshold: 10%)\n",
      "2023-09-11 14:29:07,726 - distributed.utils_perf - WARNING - full garbage collections took 12% CPU time recently (threshold: 10%)\n"
     ]
    },
    {
     "name": "stdout",
     "output_type": "stream",
     "text": [
      "/scratch/w97/zg0866/cs947_raw/history/atm/cs947a.pm1097*.nc\n"
     ]
    },
    {
     "name": "stderr",
     "output_type": "stream",
     "text": [
      "2023-09-11 14:29:27,585 - distributed.utils_perf - WARNING - full garbage collections took 12% CPU time recently (threshold: 10%)\n"
     ]
    },
    {
     "name": "stdout",
     "output_type": "stream",
     "text": [
      "/scratch/w97/zg0866/cs947_raw/history/atm/cs947a.pm1098*.nc\n"
     ]
    },
    {
     "name": "stderr",
     "output_type": "stream",
     "text": [
      "2023-09-11 14:29:48,218 - distributed.utils_perf - WARNING - full garbage collections took 12% CPU time recently (threshold: 10%)\n",
      "2023-09-11 14:29:49,081 - distributed.utils_perf - WARNING - full garbage collections took 13% CPU time recently (threshold: 10%)\n"
     ]
    },
    {
     "name": "stdout",
     "output_type": "stream",
     "text": [
      "/scratch/w97/zg0866/cs947_raw/history/atm/cs947a.pm1099*.nc\n"
     ]
    },
    {
     "name": "stderr",
     "output_type": "stream",
     "text": [
      "2023-09-11 14:30:09,522 - distributed.utils_perf - WARNING - full garbage collections took 13% CPU time recently (threshold: 10%)\n"
     ]
    },
    {
     "name": "stdout",
     "output_type": "stream",
     "text": [
      "/scratch/w97/zg0866/cs947_raw/history/atm/cs947a.pm1100*.nc\n"
     ]
    },
    {
     "name": "stderr",
     "output_type": "stream",
     "text": [
      "2023-09-11 14:30:31,061 - distributed.utils_perf - WARNING - full garbage collections took 13% CPU time recently (threshold: 10%)\n"
     ]
    },
    {
     "name": "stdout",
     "output_type": "stream",
     "text": [
      "/scratch/w97/zg0866/cs947_raw/history/atm/cs947a.pm1101*.nc\n"
     ]
    },
    {
     "name": "stderr",
     "output_type": "stream",
     "text": [
      "2023-09-11 14:30:52,513 - distributed.utils_perf - WARNING - full garbage collections took 12% CPU time recently (threshold: 10%)\n",
      "2023-09-11 14:30:53,153 - distributed.utils_perf - WARNING - full garbage collections took 13% CPU time recently (threshold: 10%)\n"
     ]
    },
    {
     "name": "stdout",
     "output_type": "stream",
     "text": [
      "/scratch/w97/zg0866/cs947_raw/history/atm/cs947a.pm1102*.nc\n"
     ]
    },
    {
     "name": "stderr",
     "output_type": "stream",
     "text": [
      "2023-09-11 14:31:12,393 - distributed.utils_perf - WARNING - full garbage collections took 13% CPU time recently (threshold: 10%)\n"
     ]
    }
   ],
   "source": [
    "data_dir = \"/scratch/w97/zg0866/cs947_raw/history/atm/\"\n",
    "#cm000a.pm0951_mon.nc\"\n",
    "outdir = \"/g/data/e14/sm2435/Exps_ACCESS_initial/MC_psl/\"\n",
    "for i in range(951,1103,1):\n",
    "    formatted_i = str(i).zfill(4)\n",
    "    files = data_dir + f\"cs947a.pm{formatted_i}*.nc\"\n",
    "    print(files)\n",
    "    rain = xr.open_mfdataset(files, use_cftime=True, parallel=True, chunks= {\"time\":12}).fld_s00i409\n",
    "    rain.to_netcdf(outdir+f\"MC_pr{formatted_i}.nc\")"
   ]
  },
  {
   "cell_type": "code",
   "execution_count": null,
   "id": "4e6e1d8a-acb3-4975-917e-c2348b506133",
   "metadata": {},
   "outputs": [],
   "source": []
  }
 ],
 "metadata": {
  "kernelspec": {
   "display_name": "Python 3 (ipykernel)",
   "language": "python",
   "name": "python3"
  },
  "language_info": {
   "codemirror_mode": {
    "name": "ipython",
    "version": 3
   },
   "file_extension": ".py",
   "mimetype": "text/x-python",
   "name": "python",
   "nbconvert_exporter": "python",
   "pygments_lexer": "ipython3",
   "version": "3.9.15"
  }
 },
 "nbformat": 4,
 "nbformat_minor": 5
}
