{
 "cells": [
  {
   "cell_type": "code",
   "execution_count": 1,
   "metadata": {},
   "outputs": [],
   "source": [
    "import xarray as xr\n",
    "import numpy as np\n",
    "import sys"
   ]
  },
  {
   "cell_type": "markdown",
   "metadata": {},
   "source": [
    "Read in the POP grid "
   ]
  },
  {
   "cell_type": "code",
   "execution_count": 3,
   "metadata": {},
   "outputs": [],
   "source": [
    "popgridfile = \"./gx1v7_kmt.nc\"\n",
    "popgrid = xr.open_dataset(popgridfile)\n",
    "olon = popgrid['TLONG'] ; olat = popgrid['TLAT'] # ocean longitudes and latitudes\n",
    "region_mask = popgrid['REGION_MASK'] # this is set to 2 in the Pacific.\n",
    "nlon = popgrid.nlon.size ; nlat=popgrid.nlat.size"
   ]
  },
  {
   "cell_type": "markdown",
   "metadata": {},
   "source": [
    "Set up parameters for wedge mask"
   ]
  },
  {
   "cell_type": "code",
   "execution_count": 21,
   "metadata": {},
   "outputs": [],
   "source": [
    "lonmin_epac=180. # minimum longitude of east pacific rectangle\n",
    "latedge_epac = 15. # edge latitude of full nudging\n",
    "latbuffer_epac = 20. # latitude at the edge of the buffer\n",
    "dbuffer = latbuffer_epac - latedge_epac # length of buffer in degrees\n",
    "mbuffer = 1./dbuffer # buffer gradient\n",
    "wedge_w = 135. # western extent of west pacific wedge\n",
    "mwedge = (latedge_epac - 0.)/(lonmin_epac - wedge_w) # gradient of wedge line\n",
    "mwedge_perp = -1./mwedge\n",
    "minlontip = wedge_w - 5."
   ]
  },
  {
   "cell_type": "markdown",
   "metadata": {},
   "source": [
    "Stack arrays so we can work on a single dimension"
   ]
  },
  {
   "cell_type": "code",
   "execution_count": 5,
   "metadata": {},
   "outputs": [],
   "source": [
    "region_mask_stacked = region_mask.stack(z=(\"nlat\",\"nlon\"))\n",
    "olon_stacked = olon.stack(z=(\"nlat\",\"nlon\"))\n",
    "olat_stacked = olat.stack(z=(\"nlat\",\"nlon\"))"
   ]
  },
  {
   "cell_type": "code",
   "execution_count": 45,
   "metadata": {},
   "outputs": [],
   "source": [
    "# find elements that are in the pacific (region_mask = 2)\n",
    "ipac = np.where(region_mask_stacked == 2)[0]\n",
    "\n",
    "# generate the wedge mask using only pacific grid points\n",
    "mask = np.zeros([region_mask_stacked.size])\n",
    "for i in ipac:\n",
    "    lonval = olon_stacked[i] ; latval = olat_stacked[i]\n",
    "\n",
    "    # full nudging in the east Pacific\n",
    "    if ((lonval > lonmin_epac) and (np.abs(latval) < latedge_epac)):\n",
    "        mask[i] = 1.\n",
    "        \n",
    "    # east Pacific taper\n",
    "    if ( (lonval > lonmin_epac) and (np.abs(latval) >= latedge_epac) and \n",
    "        (np.abs(latval) <= latbuffer_epac)):\n",
    "        mask[i] = mbuffer*(latbuffer_epac - np.abs(latval))\n",
    "        \n",
    "    # west Pacific wedge\n",
    "    if ( (lonval > wedge_w) and (lonval <= lonmin_epac)):\n",
    "        ylim = mwedge*(lonval - wedge_w) # latitude limit of wedge at lonval\n",
    "        if (np.abs(latval) <= ylim):\n",
    "            mask[i] = 1\n",
    "            \n",
    "    # west Pacific buffer\n",
    "    if ( (lonval > wedge_w) and (lonval <= lonmin_epac)):\n",
    "        ylim = mwedge*(lonval - wedge_w) # latitudinal limit of wedge at lon\n",
    "        if ( (np.abs(latval) > ylim) and (np.abs(latval) < 35)):\n",
    "            # find the intercept of the line from the grid point to the full taper which intercepts perpendicularly with the wedge\n",
    "            # wedge line y = mwedge(x - wedge_w)\n",
    "            # perpendicular line y = mwedge_perp*(x - lonval) + latval\n",
    "            xintercept = (mwedge*wedge_w - mwedge_perp*lonval + np.abs(latval))/(mwedge - mwedge_perp)\n",
    "            yintercept = mwedge*(xintercept - wedge_w)\n",
    "            \n",
    "            # find the distance in degrees from the wedge\n",
    "            distance = np.sqrt( (lonval - xintercept)**2 + (np.abs(latval)-yintercept)**2.)\n",
    "            mask[i] = 1. - (distance/dbuffer)\n",
    "            \n",
    "            #print(i,' ',mask[i])\n",
    "            \n",
    "            if (mask[i] < 0):\n",
    "                mask[i] = 0\n",
    "                \n",
    "    # wedge tip buffer\n",
    "    if ( (lonval >= minlontip) and (lonval < wedge_w)):\n",
    "        if (np.abs(latval) < (dbuffer +1)):\n",
    "            distance = np.sqrt( (lonval - wedge_w)**2. + (np.abs(latval)-0)**2.)\n",
    "            # only fill in the mask if it hasn't already been set in the west pacific buffer#                    \n",
    "            if (mask[i] == 0):\n",
    "                mask[i] = 1. - (distance/dbuffer)\n",
    "                        \n",
    "            if (mask[i] < 0):\n",
    "                mask[i] = 0\n",
    "                \n"
   ]
  },
  {
   "cell_type": "markdown",
   "metadata": {},
   "source": [
    "Set land regions to -1"
   ]
  },
  {
   "cell_type": "code",
   "execution_count": 46,
   "metadata": {},
   "outputs": [],
   "source": [
    "mask = np.where(region_mask_stacked == 0, -1, mask)"
   ]
  },
  {
   "cell_type": "code",
   "execution_count": null,
   "metadata": {},
   "outputs": [],
   "source": [
    "Reshape mask array "
   ]
  },
  {
   "cell_type": "code",
   "execution_count": 52,
   "metadata": {},
   "outputs": [],
   "source": [
    "mask = mask.reshape(nlat,nlon)\n",
    "mask = xr.DataArray(mask, name=\"SHF_MASK\", dims=([\"nlat\",\"nlon\"])) \n",
    "mask.to_netcdf(\"MASK_gx1v7_PACEMAKER_WEDGE.nc\")"
   ]
  },
  {
   "cell_type": "code",
   "execution_count": null,
   "metadata": {},
   "outputs": [],
   "source": []
  }
 ],
 "metadata": {
  "kernelspec": {
   "display_name": "Python [conda env:miniconda3-ecpaperenv]",
   "language": "python",
   "name": "conda-env-miniconda3-ecpaperenv-py"
  },
  "language_info": {
   "codemirror_mode": {
    "name": "ipython",
    "version": 3
   },
   "file_extension": ".py",
   "mimetype": "text/x-python",
   "name": "python",
   "nbconvert_exporter": "python",
   "pygments_lexer": "ipython3",
   "version": "3.9.0"
  }
 },
 "nbformat": 4,
 "nbformat_minor": 4
}

