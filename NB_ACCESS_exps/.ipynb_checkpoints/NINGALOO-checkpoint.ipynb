{
 "cells": [
  {
   "cell_type": "markdown",
   "id": "9a7dd111-de7f-4e46-b300-9b1e51823883",
   "metadata": {},
   "source": [
    "Ningaloo Nino in the model, obs and ctrl"
   ]
  },
  {
   "cell_type": "code",
   "execution_count": 1,
   "id": "1ee1d5dd-2157-4a0d-95fb-dfec284691e0",
   "metadata": {
    "tags": []
   },
   "outputs": [],
   "source": [
    "import xarray as xr\n",
    "import xesmf as xe\n",
    "import numpy as np\n",
    "%matplotlib inline\n",
    "import matplotlib.pyplot as plt\n",
    "import cartopy.crs as ccrs\n",
    "import dask"
   ]
  },
  {
   "cell_type": "code",
   "execution_count": 2,
   "id": "b1d1bfe6-4a71-46b2-9264-73e4acc0249b",
   "metadata": {
    "tags": []
   },
   "outputs": [],
   "source": [
    "from eofs.xarray import Eof"
   ]
  },
  {
   "cell_type": "code",
   "execution_count": 3,
   "id": "8260e0c3-4a20-4ac3-954c-2a2869184866",
   "metadata": {
    "tags": []
   },
   "outputs": [],
   "source": [
    "#import dask to parallelise\n",
    "from dask.distributed import Client, LocalCluster\n",
    "cluster = LocalCluster()\n",
    "client = Client(cluster)"
   ]
  },
  {
   "cell_type": "code",
   "execution_count": 4,
   "id": "268688d1-e323-4d95-992f-d3ce850488d7",
   "metadata": {
    "tags": []
   },
   "outputs": [
    {
     "name": "stdout",
     "output_type": "stream",
     "text": [
      "<Client: 'tcp://127.0.0.1:35093' processes=4 threads=8, memory=22.46 GiB>\n"
     ]
    }
   ],
   "source": [
    "print(client)"
   ]
  },
  {
   "cell_type": "code",
   "execution_count": 5,
   "id": "6e1a01a7-3b69-48e1-9859-6fab13a876bc",
   "metadata": {
    "tags": []
   },
   "outputs": [
    {
     "name": "stderr",
     "output_type": "stream",
     "text": [
      "/g/data/hh5/public/apps/miniconda3/envs/analysis3-23.01/lib/python3.9/site-packages/xarray/coding/times.py:710: SerializationWarning: Unable to decode time axis into full numpy.datetime64 objects, continuing using cftime.datetime objects instead, reason: dates out of range\n",
      "  dtype = _decode_cf_datetime_dtype(data, units, calendar, self.use_cftime)\n",
      "/g/data/hh5/public/apps/miniconda3/envs/analysis3-23.01/lib/python3.9/site-packages/xarray/core/indexing.py:524: SerializationWarning: Unable to decode time axis into full numpy.datetime64 objects, continuing using cftime.datetime objects instead, reason: dates out of range\n",
      "  return np.asarray(array[self.key], dtype=None)\n"
     ]
    }
   ],
   "source": [
    "po_pace_sst = xr.open_dataset(\"/g/data/e14/sm2435/PO_model_clim/sst.nc\", chunks = {\"time\":12})"
   ]
  },
  {
   "cell_type": "code",
   "execution_count": 6,
   "id": "6d105df5-6097-4dc4-bee4-9df78f7a4935",
   "metadata": {
    "tags": []
   },
   "outputs": [
    {
     "name": "stderr",
     "output_type": "stream",
     "text": [
      "/g/data/hh5/public/apps/miniconda3/envs/analysis3-23.01/lib/python3.9/site-packages/xarray/coding/times.py:710: SerializationWarning: Unable to decode time axis into full numpy.datetime64 objects, continuing using cftime.datetime objects instead, reason: dates out of range\n",
      "  dtype = _decode_cf_datetime_dtype(data, units, calendar, self.use_cftime)\n",
      "/g/data/hh5/public/apps/miniconda3/envs/analysis3-23.01/lib/python3.9/site-packages/xarray/core/indexing.py:524: SerializationWarning: Unable to decode time axis into full numpy.datetime64 objects, continuing using cftime.datetime objects instead, reason: dates out of range\n",
      "  return np.asarray(array[self.key], dtype=None)\n"
     ]
    }
   ],
   "source": [
    "ctrl_sst = xr.open_dataset(\"/g/data/e14/sm2435/PO_model_clim/ctrl_sst.nc\", chunks = {'time':12})"
   ]
  },
  {
   "cell_type": "code",
   "execution_count": 7,
   "id": "740477eb-9c8f-4e86-8d9b-28a01883de83",
   "metadata": {
    "tags": []
   },
   "outputs": [],
   "source": [
    "po_pace_sst = po_pace_sst.sel(time = slice('0955-01-16','1100-12-16' ))"
   ]
  },
  {
   "cell_type": "code",
   "execution_count": 8,
   "id": "c8c8a100-27db-4eac-84a1-3ad879c6dfbc",
   "metadata": {
    "tags": []
   },
   "outputs": [],
   "source": [
    "ctrl_sst = ctrl_sst.sel(time = slice('0955-01-16','1100-12-16' ))"
   ]
  },
  {
   "cell_type": "code",
   "execution_count": 9,
   "id": "ac7e36e7-44fa-42dd-b7e7-1db3395de39e",
   "metadata": {
    "tags": []
   },
   "outputs": [],
   "source": [
    "def regrid_ACCESS(ds):\n",
    "    #rename coords\n",
    "    ds = ds.rename({\"geolon_t\": \"longitude\", \"geolat_t\": \"latitude\"})\n",
    "    #create the output grid\n",
    "    ds_out = xe.util.grid_global(1, 1)\n",
    "    ds_out = ds_out.drop({'lon_b', 'lat_b'})\n",
    "    #rename grid coords\n",
    "    ds_out = ds_out.rename({'lon': 'longitude', 'lat': 'latitude'})\n",
    "    #drop the coords on input ds\n",
    "    ds_in_1deg = ds.drop({'xt_ocean', 'yt_ocean'})\n",
    "    #create regridder\n",
    "    regridder_1deg = xe.Regridder(ds_in_1deg, ds_out, 'bilinear', periodic=True)\n",
    "    #now regrid\n",
    "    regridded = regridder_1deg(ds['sst'].chunk({'xt_ocean': -1, 'yt_ocean': -1}))\n",
    "    regridded = regridded.assign_coords({'x': ds_out.longitude[0, :], 'y': ds_out.latitude[:, 0]})\n",
    "    regridded = regridded.rename({'x': 'longitude', 'y': 'latitude'})\n",
    "    return regridded"
   ]
  },
  {
   "cell_type": "code",
   "execution_count": 10,
   "id": "371322a8-b5d7-4c21-833a-f6f3c2128e89",
   "metadata": {
    "tags": []
   },
   "outputs": [
    {
     "name": "stdout",
     "output_type": "stream",
     "text": [
      "CPU times: user 21 s, sys: 3.66 s, total: 24.7 s\n",
      "Wall time: 28.5 s\n"
     ]
    }
   ],
   "source": [
    "%%time\n",
    "PO_PACE = regrid_ACCESS(po_pace_sst)"
   ]
  },
  {
   "cell_type": "code",
   "execution_count": 11,
   "id": "84af4236-6cfc-4f37-a16c-713743b4b011",
   "metadata": {
    "tags": []
   },
   "outputs": [
    {
     "name": "stdout",
     "output_type": "stream",
     "text": [
      "CPU times: user 7.14 s, sys: 2.49 s, total: 9.62 s\n",
      "Wall time: 53.8 s\n"
     ]
    }
   ],
   "source": [
    "%%time\n",
    "PO_PACE = PO_PACE.compute()"
   ]
  },
  {
   "cell_type": "code",
   "execution_count": 12,
   "id": "1a66c82c-b97a-406b-a541-a4856f8ebb69",
   "metadata": {
    "tags": []
   },
   "outputs": [
    {
     "name": "stdout",
     "output_type": "stream",
     "text": [
      "CPU times: user 12.2 s, sys: 191 ms, total: 12.3 s\n",
      "Wall time: 11.4 s\n"
     ]
    }
   ],
   "source": [
    "%%time\n",
    "ctrl = regrid_ACCESS(ctrl_sst)"
   ]
  },
  {
   "cell_type": "code",
   "execution_count": 13,
   "id": "9f50fe74-d725-4406-babf-b0c13487a0f8",
   "metadata": {
    "tags": []
   },
   "outputs": [
    {
     "name": "stdout",
     "output_type": "stream",
     "text": [
      "CPU times: user 8.28 s, sys: 1.98 s, total: 10.3 s\n",
      "Wall time: 1min 7s\n"
     ]
    }
   ],
   "source": [
    "%%time\n",
    "ctrl = ctrl.compute()"
   ]
  },
  {
   "cell_type": "code",
   "execution_count": 16,
   "id": "e2ee2aa0-2795-4664-abe8-082f93af181a",
   "metadata": {
    "tags": []
   },
   "outputs": [],
   "source": [
    "#load observational SST\n",
    "OBS = xr.open_dataset(\"/g/data/e14/sm2435/ACCESS_PIctrl/oisstv2.nc\", chunks = {'time':12}).sst\n",
    "#rename coords\n",
    "OBS = OBS.rename({\"lon\": \"longitude\", \"lat\": \"latitude\"})\n",
    "OBS = OBS.compute()"
   ]
  },
  {
   "cell_type": "code",
   "execution_count": 17,
   "id": "06dabd45-2c1f-430d-9c91-2b6b1f31eb70",
   "metadata": {
    "tags": []
   },
   "outputs": [],
   "source": [
    "#load the lsm\n",
    "lsm = xr.open_dataset(\"/g/data/e14/sm2435/ACCESS_PIctrl/oisstv2_lsm.nc\").mask\n",
    "#rename coords\n",
    "lsm = lsm.rename({\"lon\": \"longitude\", \"lat\": \"latitude\"})\n"
   ]
  },
  {
   "cell_type": "code",
   "execution_count": 18,
   "id": "66a0ff4d-3d48-43f8-88e9-362cd513c7f6",
   "metadata": {
    "tags": []
   },
   "outputs": [],
   "source": [
    "OBS = OBS.where(lsm[0]==1)"
   ]
  },
  {
   "cell_type": "code",
   "execution_count": 19,
   "id": "ab94dd42-973f-42ee-8fd6-ad5306ecb08f",
   "metadata": {
    "tags": []
   },
   "outputs": [],
   "source": [
    "#load observational SST\n",
    "ersstv5 = xr.open_dataset(\"/g/data/e14/sm2435/PO_model_clim/ersstv5.nc\", chunks = {'time':12}).sst\n",
    "#rename coords\n",
    "ersstv5 = ersstv5.rename({\"lon\": \"longitude\", \"lat\": \"latitude\"})\n",
    "ersstv5 =ersstv5.sel(time = slice(\"1980-01-01\", \"2020-12-31\"))\n",
    "ersstv5 = ersstv5.compute()"
   ]
  },
  {
   "cell_type": "code",
   "execution_count": 21,
   "id": "3992a51a-8f98-4f89-973e-dada7ae53087",
   "metadata": {
    "tags": []
   },
   "outputs": [],
   "source": [
    "def plot_latlon(ds1, ds2, lat, lon):\n",
    "    if lon < 0:\n",
    "        lon = 360+lon\n",
    "    ds1 = ds1.sel(latitude = lat, longitude = lon, method = 'nearest')\n",
    "    ds2 = ds2.sel(latitude = lat, longitude = lon, method = 'nearest')\n",
    "    #make figure:\n",
    "    fig,axes  = plt.subplots(1,1,figsize = (16, 4),sharex=True, sharey=True)\n",
    "\n",
    "    ds1.sel(time = slice('0951-01-16','1104-01-16' )).groupby('time.year').mean('time').plot(ax = axes, c = 'tab:blue', label = 'Pace')\n",
    "    ds2.sel(time = slice('0951-01-16','1104-01-16' )).groupby('time.year').mean('time').plot(ax = axes,c = 'tab:orange', label = 'ctrl')\n",
    "    axes.legend()\n",
    "    #axes[0].plot(ds1.sel(time = slice('0951-01-16','1104-01-16' )))\n",
    "    #axes[1].plot(ds2.sel(time = slice('0951-01-16','1104-01-16' )))\n",
    "    return fig"
   ]
  },
  {
   "cell_type": "code",
   "execution_count": 23,
   "id": "1d6ff598-6a15-403c-ac2c-38c8e0a5d5e3",
   "metadata": {
    "tags": []
   },
   "outputs": [],
   "source": [
    "def get_djf_mn(ds):\n",
    "    djf = ds.resample(time=\"QS-DEC\").mean()\n",
    "    djf = djf.sel(time=djf['time.season']=='DJF')\n",
    "    return djf"
   ]
  },
  {
   "cell_type": "code",
   "execution_count": 22,
   "id": "cbde5648-0191-4784-b02a-432f80caceb4",
   "metadata": {
    "tags": []
   },
   "outputs": [],
   "source": [
    "def get_mam_mn(ds):\n",
    "    mam = ds.resample(time=\"QS-MAR\").mean()\n",
    "    mam = mam.sel(time=mam['time.season']=='MAM')\n",
    "    return mam\n",
    "    #return ds.sel(time=ds['time.month'].isin([3,4,5]))"
   ]
  },
  {
   "cell_type": "code",
   "execution_count": 20,
   "id": "eae2c5e4-bf15-41ff-8f09-84c1d96d5b92",
   "metadata": {
    "tags": []
   },
   "outputs": [],
   "source": [
    "#get an index to calcualte the IOB\n",
    "def ssta(DS):\n",
    "    clim = DS.groupby('time.month').mean('time')\n",
    "    ssta = DS.groupby('time.month') - clim\n",
    "    return ssta\n",
    "def NINO34(DS):\n",
    "     return ssta(DS).sel(latitude=slice(-5, 5),longitude=slice(-170, -120)).mean(['latitude', 'longitude'])\n",
    "     \n",
    "def IOBM(DS):\n",
    "    return ssta(DS).sel(latitude=slice(-20, 20),longitude=slice(40, 100)).mean(['latitude', 'longitude'])\n",
    "def NINO34(DS):\n",
    "    return ssta(DS).sel(latitude=slice(-5, 5),longitude=slice(-170, -120)).mean(['latitude', 'longitude'])\n",
    "#calculate the DMI\n",
    "def dmi(DS):\n",
    "    WTIO = ssta(DS).sel(latitude=slice(-10, 10),longitude=slice(50, 70)).mean(['latitude', 'longitude'])\n",
    "    SETIO = ssta(DS).sel(latitude=slice(-10, 0),longitude=slice(90, 110)).mean(['latitude', 'longitude'])\n",
    "    return  WTIO-SETIO\n",
    "#redefin Ninoglo index\n",
    "def Ningaloo2(DS):\n",
    "    return ssta(DS).sel(latitude=slice(-28, -22),longitude=slice(112, 114)).mean(['latitude', 'longitude'])"
   ]
  },
  {
   "cell_type": "code",
   "execution_count": null,
   "id": "4d3c4cdc-0a4a-4a83-b1fa-0a5d389fa2b1",
   "metadata": {
    "tags": []
   },
   "outputs": [],
   "source": [
    "n34 = NINO34(ctrl)\n",
    "n34DJF=get_djf_mn(n34)\n",
    "strength = n34DJF.std()\n",
    "la_nina = n34DJF.where(n34DJF<-1*strength, drop = True)\n",
    "el_nino = n34DJF.where(n34DJF>strength, drop = True)"
   ]
  },
  {
   "cell_type": "code",
   "execution_count": null,
   "id": "356fe72f-8250-4706-a096-ebd890c2cdde",
   "metadata": {
    "tags": []
   },
   "outputs": [],
   "source": [
    "mam_SSTA = get_mam_mn(ssta(ctrl))"
   ]
  },
  {
   "cell_type": "code",
   "execution_count": null,
   "id": "d8b5bcc5-342d-426e-9f5a-02b2824f2af7",
   "metadata": {
    "tags": []
   },
   "outputs": [],
   "source": [
    "djf_SSTA = get_djf_mn(ssta(ctrl))"
   ]
  },
  {
   "cell_type": "code",
   "execution_count": null,
   "id": "6ead8042-f83f-41c0-a2e4-50048c64d3e5",
   "metadata": {
    "tags": []
   },
   "outputs": [],
   "source": [
    "#shift the la Nina years so that the year matches up\n",
    "\n",
    "# Get the original time values as a numpy array\n",
    "time_values = la_nina['time'].values\n",
    "\n",
    "# Create a new array with shifted times shift y\n",
    "time_shifted_values = []\n",
    "for time in time_values:\n",
    "    time_shifted = cftime.DatetimeGregorian(year=time.year+1, month=time.month-9, day=time.day,\n",
    "                                         hour=time.hour, minute=time.minute, second=time.second)\n",
    "    time_shifted_values.append(time_shifted)\n",
    "time_shifted_values = xr.DataArray(time_shifted_values, dims='time', coords={'time': la_nina['time']})\n",
    "la_nina_shifted = la_nina.assign_coords({'time': time_shifted_values})"
   ]
  },
  {
   "cell_type": "code",
   "execution_count": null,
   "id": "67a903df-5e52-42d3-b1eb-eff6d0fbfc91",
   "metadata": {
    "tags": []
   },
   "outputs": [],
   "source": [
    "#shift the la Nina years so that the year matches up\n",
    "\n",
    "# Get the original time values as a numpy array\n",
    "time_values = la_nina['time'].values\n",
    "\n",
    "# Create a new array with shifted times shift y\n",
    "time_shifted_values = []\n",
    "for time in time_values:\n",
    "    time_shifted = cftime.DatetimeGregorian(year=time.year+1, month=time.month-9, day=time.day,\n",
    "                                         hour=time.hour, minute=time.minute, second=time.second)\n",
    "    time_shifted_values.append(time_shifted)\n",
    "time_shifted_values = xr.DataArray(time_shifted_values, dims='time', coords={'time': la_nina['time']})\n",
    "la_nina_shifted = la_nina.assign_coords({'time': time_shifted_values})"
   ]
  },
  {
   "cell_type": "code",
   "execution_count": null,
   "id": "fb0757cb-c180-49f2-a5b3-45b98ce17aad",
   "metadata": {},
   "outputs": [],
   "source": []
  },
  {
   "cell_type": "code",
   "execution_count": null,
   "id": "8de2ee14-5caa-44a2-890e-78d08e095031",
   "metadata": {},
   "outputs": [],
   "source": []
  },
  {
   "cell_type": "code",
   "execution_count": null,
   "id": "fc5746ef-fd56-4be8-ab5d-22124dfc0ee4",
   "metadata": {},
   "outputs": [],
   "source": []
  },
  {
   "cell_type": "code",
   "execution_count": null,
   "id": "da775b28-71b5-40f1-8d93-86bcef3f08d6",
   "metadata": {},
   "outputs": [],
   "source": []
  }
 ],
 "metadata": {
  "kernelspec": {
   "display_name": "Python 3 (ipykernel)",
   "language": "python",
   "name": "python3"
  },
  "language_info": {
   "codemirror_mode": {
    "name": "ipython",
    "version": 3
   },
   "file_extension": ".py",
   "mimetype": "text/x-python",
   "name": "python",
   "nbconvert_exporter": "python",
   "pygments_lexer": "ipython3",
   "version": "3.9.15"
  }
 },
 "nbformat": 4,
 "nbformat_minor": 5
}
