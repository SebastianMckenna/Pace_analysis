{
 "cells": [
  {
   "cell_type": "code",
   "execution_count": 1,
   "id": "2f15a94b-32f6-4d49-ab02-7c2adf60cfd7",
   "metadata": {
    "tags": []
   },
   "outputs": [],
   "source": [
    "import xarray as xr\n",
    "import xesmf as xe\n",
    "import numpy as np\n",
    "%matplotlib inline\n",
    "import matplotlib.pyplot as plt\n",
    "import cartopy.crs as ccrs\n",
    "import dask\n",
    "import cftime\n",
    "import random"
   ]
  },
  {
   "cell_type": "code",
   "execution_count": 2,
   "id": "922aa49c-19a3-42b4-b2b2-f238018c4a7f",
   "metadata": {
    "tags": []
   },
   "outputs": [],
   "source": [
    "from dask.distributed import Client, LocalCluster\n",
    "cluster = LocalCluster()\n",
    "client = Client(cluster)"
   ]
  },
  {
   "cell_type": "code",
   "execution_count": 3,
   "id": "eefd5be5-2277-433b-893e-952d54787585",
   "metadata": {
    "tags": []
   },
   "outputs": [],
   "source": [
    "ctrl_sst = xr.open_dataset(\"/g/data/e14/sm2435/Exps_ACCESS_initial/ctrl_sst.nc\",  use_cftime=True, chunks= {\"time\":240})"
   ]
  },
  {
   "cell_type": "code",
   "execution_count": 4,
   "id": "6efed9ea-4c81-48dd-93f2-6516d8468ae3",
   "metadata": {
    "tags": []
   },
   "outputs": [],
   "source": [
    "VC = xr.open_dataset(\"/g/data/e14/sm2435/Exps_ACCESS_initial/VAR_PACE_sst.nc\",  use_cftime=True, chunks= {\"time\":240})\n",
    "MC = xr.open_dataset(\"/g/data/e14/sm2435/Exps_ACCESS_initial/MC_sst.nc\",  use_cftime=True, chunks= {\"time\":240})\n",
    "OC = xr.open_dataset(\"/g/data/e14/sm2435/Exps_ACCESS_initial/OC_sst.nc\",  use_cftime=True, chunks= {\"time\":240})"
   ]
  },
  {
   "cell_type": "code",
   "execution_count": 5,
   "id": "54223224-dbb9-4a84-a7ff-948fc7710f35",
   "metadata": {
    "tags": []
   },
   "outputs": [],
   "source": [
    "ctrl = ctrl_sst.sst.compute()"
   ]
  },
  {
   "cell_type": "code",
   "execution_count": 6,
   "id": "5cbb77a7-abbf-436c-9052-44820ebb4473",
   "metadata": {
    "tags": []
   },
   "outputs": [],
   "source": [
    "OC = OC.sst.compute()"
   ]
  },
  {
   "cell_type": "code",
   "execution_count": 7,
   "id": "4031b407-f136-4fc5-95b9-f98f020138f9",
   "metadata": {
    "tags": []
   },
   "outputs": [],
   "source": [
    "MC = MC.sst.compute()"
   ]
  },
  {
   "cell_type": "code",
   "execution_count": 8,
   "id": "879ef907-cec3-4cf3-9d60-33e7a40dae11",
   "metadata": {
    "tags": []
   },
   "outputs": [],
   "source": [
    "VC = VC.sst.compute()"
   ]
  },
  {
   "cell_type": "code",
   "execution_count": 9,
   "id": "15ca3630-ca23-49b4-ac13-d4593a364337",
   "metadata": {
    "tags": []
   },
   "outputs": [],
   "source": [
    "def roll_longitude(df):\n",
    "    \"\"\"\n",
    "    Rolls the longitude coordinates of a given DataFrame to a range of [0, 360).\n",
    "\n",
    "    Parameters:\n",
    "    df (xarray.DataArray): Input DataFrame containing longitude coordinates.\n",
    "\n",
    "    Returns:\n",
    "    xarray.DataArray: DataFrame with rolled longitude coordinates.\n",
    "    \"\"\"\n",
    "    # Ensure the longitude coordinates are within the range [0, 360)\n",
    "    df.coords['xt_ocean'] = (df.coords['xt_ocean']) % 360\n",
    "    \n",
    "    # Sort the DataFrame based on the rolled longitude coordinates\n",
    "    df = df.sortby(df.xt_ocean)\n",
    "    \n",
    "    return df"
   ]
  },
  {
   "cell_type": "code",
   "execution_count": 10,
   "id": "f0e3e290-0f82-4be8-8a59-969fcd563dfd",
   "metadata": {
    "tags": []
   },
   "outputs": [],
   "source": [
    "ctrl = roll_longitude(ctrl)\n",
    "MC = roll_longitude(MC)\n",
    "VC = roll_longitude(VC)\n",
    "OC = roll_longitude(OC)"
   ]
  },
  {
   "cell_type": "code",
   "execution_count": 11,
   "id": "c9e5c105-74b4-4019-90e6-f0bb6397d62c",
   "metadata": {
    "tags": []
   },
   "outputs": [],
   "source": [
    "ctrl = ctrl.sel(time = slice(\"0952-01-01\", \"1150-12-31\"))\n",
    "MC = MC.sel(time = slice(\"0952-01-01\", \"1100-12-31\"))\n",
    "OC = OC.sel(time = slice(\"0952-01-01\", \"1020-12-31\"))\n",
    "VC = VC.sel(time = slice(\"0952-01-01\", \"1020-12-31\"))"
   ]
  },
  {
   "cell_type": "code",
   "execution_count": 12,
   "id": "952467f8-3d35-44b8-a2bc-f0a5818cdddb",
   "metadata": {
    "tags": []
   },
   "outputs": [
    {
     "data": {
      "text/plain": [
       "69.0"
      ]
     },
     "execution_count": 12,
     "metadata": {},
     "output_type": "execute_result"
    }
   ],
   "source": [
    "len(OC)/12"
   ]
  },
  {
   "cell_type": "code",
   "execution_count": 14,
   "id": "df18ee84-2187-4707-9c9c-fa1046897376",
   "metadata": {
    "tags": []
   },
   "outputs": [],
   "source": [
    "def ssta_exp(DS):\n",
    "    clim = ctrl.groupby('time.month').mean('time')\n",
    "    ssta = DS.groupby('time.month') - clim\n",
    "    return ssta.drop(\"month\")\n",
    "def dmi_exp(DS):\n",
    "    WTIO = ssta_exp(DS).sel(yt_ocean=slice(-10, 10),xt_ocean=slice(50, 70)).mean(['yt_ocean', 'xt_ocean'])\n",
    "    SETIO = ssta_exp(DS).sel(yt_ocean=slice(-10, 0),xt_ocean=slice(90, 110)).mean(['yt_ocean', 'xt_ocean'])\n",
    "    return  WTIO-SETIO"
   ]
  },
  {
   "cell_type": "code",
   "execution_count": 13,
   "id": "e27a1f11-5402-490e-b942-c852fbd9b494",
   "metadata": {
    "tags": []
   },
   "outputs": [],
   "source": [
    "def ssta(DS):\n",
    "    clim = DS.groupby('time.month').mean('time')\n",
    "    ssta = DS.groupby('time.month') - clim\n",
    "    return ssta.drop(\"month\")\n",
    "def dmi(DS):\n",
    "    WTIO = ssta(DS).sel(yt_ocean=slice(-10, 10),xt_ocean=slice(50, 70)).mean(['yt_ocean', 'xt_ocean'])\n",
    "    SETIO = ssta(DS).sel(yt_ocean=slice(-10, 0),xt_ocean=slice(90, 110)).mean(['yt_ocean', 'xt_ocean'])\n",
    "    return  WTIO-SETIO"
   ]
  },
  {
   "cell_type": "code",
   "execution_count": 15,
   "id": "38755d97-8791-436a-803a-22e3e28ad282",
   "metadata": {
    "tags": []
   },
   "outputs": [],
   "source": [
    "def percentiles_index(index, da1):\n",
    "    #Step 0 get the index of the control. \n",
    "    da = index(ctrl)\n",
    "    # Step 1: Number of iterations\n",
    "    num_iterations = 1000\n",
    "    # Step 2 and 3: Loop over the iterations\n",
    "    std_deviations = []\n",
    "    for _ in range(num_iterations):\n",
    "        # Step 2: Randomly select years base don lenght of TS with replacement\n",
    "        length = int(len(da1)/12)\n",
    "        random_years = np.random.choice(da['time.year'], size=length, replace=True)\n",
    "\n",
    "        # Step 3: Calculate the standard deviation for the selected 30 years\n",
    "        selected_years_data = da.sel(time=np.isin(da['time.year'], random_years))\n",
    "        std_dev = selected_years_data.groupby('time.month').std(dim='time')\n",
    "\n",
    "        # Step 4: Store the standard deviation value\n",
    "        std_deviations.append(std_dev)\n",
    "\n",
    "    # Step 5: Calculate the 5th and 95th percentiles\n",
    "    std_deviations = xr.concat(std_deviations, dim='iterations')\n",
    "    percentiles = std_deviations.quantile([0.05, 0.95], dim = 'iterations')\n",
    "    return percentiles-da.groupby(\"time.month\").std(\"time\")"
   ]
  },
  {
   "cell_type": "code",
   "execution_count": 16,
   "id": "129a3ea9-c133-4a8a-8f71-3602500a2574",
   "metadata": {
    "tags": []
   },
   "outputs": [],
   "source": [
    "OC_p = percentiles_index(dmi_exp, OC)\n",
    "MC_p = percentiles_index(dmi_exp, MC)\n",
    "VC_p = percentiles_index(dmi_exp, VC)"
   ]
  },
  {
   "cell_type": "code",
   "execution_count": 17,
   "id": "8ad8f4c9-e67a-4259-a349-3e0d17649b45",
   "metadata": {
    "tags": []
   },
   "outputs": [
    {
     "data": {
      "text/html": [
       "<div><svg style=\"position: absolute; width: 0; height: 0; overflow: hidden\">\n",
       "<defs>\n",
       "<symbol id=\"icon-database\" viewBox=\"0 0 32 32\">\n",
       "<path d=\"M16 0c-8.837 0-16 2.239-16 5v4c0 2.761 7.163 5 16 5s16-2.239 16-5v-4c0-2.761-7.163-5-16-5z\"></path>\n",
       "<path d=\"M16 17c-8.837 0-16-2.239-16-5v6c0 2.761 7.163 5 16 5s16-2.239 16-5v-6c0 2.761-7.163 5-16 5z\"></path>\n",
       "<path d=\"M16 26c-8.837 0-16-2.239-16-5v6c0 2.761 7.163 5 16 5s16-2.239 16-5v-6c0 2.761-7.163 5-16 5z\"></path>\n",
       "</symbol>\n",
       "<symbol id=\"icon-file-text2\" viewBox=\"0 0 32 32\">\n",
       "<path d=\"M28.681 7.159c-0.694-0.947-1.662-2.053-2.724-3.116s-2.169-2.030-3.116-2.724c-1.612-1.182-2.393-1.319-2.841-1.319h-15.5c-1.378 0-2.5 1.121-2.5 2.5v27c0 1.378 1.122 2.5 2.5 2.5h23c1.378 0 2.5-1.122 2.5-2.5v-19.5c0-0.448-0.137-1.23-1.319-2.841zM24.543 5.457c0.959 0.959 1.712 1.825 2.268 2.543h-4.811v-4.811c0.718 0.556 1.584 1.309 2.543 2.268zM28 29.5c0 0.271-0.229 0.5-0.5 0.5h-23c-0.271 0-0.5-0.229-0.5-0.5v-27c0-0.271 0.229-0.5 0.5-0.5 0 0 15.499-0 15.5 0v7c0 0.552 0.448 1 1 1h7v19.5z\"></path>\n",
       "<path d=\"M23 26h-14c-0.552 0-1-0.448-1-1s0.448-1 1-1h14c0.552 0 1 0.448 1 1s-0.448 1-1 1z\"></path>\n",
       "<path d=\"M23 22h-14c-0.552 0-1-0.448-1-1s0.448-1 1-1h14c0.552 0 1 0.448 1 1s-0.448 1-1 1z\"></path>\n",
       "<path d=\"M23 18h-14c-0.552 0-1-0.448-1-1s0.448-1 1-1h14c0.552 0 1 0.448 1 1s-0.448 1-1 1z\"></path>\n",
       "</symbol>\n",
       "</defs>\n",
       "</svg>\n",
       "<style>/* CSS stylesheet for displaying xarray objects in jupyterlab.\n",
       " *\n",
       " */\n",
       "\n",
       ":root {\n",
       "  --xr-font-color0: var(--jp-content-font-color0, rgba(0, 0, 0, 1));\n",
       "  --xr-font-color2: var(--jp-content-font-color2, rgba(0, 0, 0, 0.54));\n",
       "  --xr-font-color3: var(--jp-content-font-color3, rgba(0, 0, 0, 0.38));\n",
       "  --xr-border-color: var(--jp-border-color2, #e0e0e0);\n",
       "  --xr-disabled-color: var(--jp-layout-color3, #bdbdbd);\n",
       "  --xr-background-color: var(--jp-layout-color0, white);\n",
       "  --xr-background-color-row-even: var(--jp-layout-color1, white);\n",
       "  --xr-background-color-row-odd: var(--jp-layout-color2, #eeeeee);\n",
       "}\n",
       "\n",
       "html[theme=dark],\n",
       "body[data-theme=dark],\n",
       "body.vscode-dark {\n",
       "  --xr-font-color0: rgba(255, 255, 255, 1);\n",
       "  --xr-font-color2: rgba(255, 255, 255, 0.54);\n",
       "  --xr-font-color3: rgba(255, 255, 255, 0.38);\n",
       "  --xr-border-color: #1F1F1F;\n",
       "  --xr-disabled-color: #515151;\n",
       "  --xr-background-color: #111111;\n",
       "  --xr-background-color-row-even: #111111;\n",
       "  --xr-background-color-row-odd: #313131;\n",
       "}\n",
       "\n",
       ".xr-wrap {\n",
       "  display: block !important;\n",
       "  min-width: 300px;\n",
       "  max-width: 700px;\n",
       "}\n",
       "\n",
       ".xr-text-repr-fallback {\n",
       "  /* fallback to plain text repr when CSS is not injected (untrusted notebook) */\n",
       "  display: none;\n",
       "}\n",
       "\n",
       ".xr-header {\n",
       "  padding-top: 6px;\n",
       "  padding-bottom: 6px;\n",
       "  margin-bottom: 4px;\n",
       "  border-bottom: solid 1px var(--xr-border-color);\n",
       "}\n",
       "\n",
       ".xr-header > div,\n",
       ".xr-header > ul {\n",
       "  display: inline;\n",
       "  margin-top: 0;\n",
       "  margin-bottom: 0;\n",
       "}\n",
       "\n",
       ".xr-obj-type,\n",
       ".xr-array-name {\n",
       "  margin-left: 2px;\n",
       "  margin-right: 10px;\n",
       "}\n",
       "\n",
       ".xr-obj-type {\n",
       "  color: var(--xr-font-color2);\n",
       "}\n",
       "\n",
       ".xr-sections {\n",
       "  padding-left: 0 !important;\n",
       "  display: grid;\n",
       "  grid-template-columns: 150px auto auto 1fr 20px 20px;\n",
       "}\n",
       "\n",
       ".xr-section-item {\n",
       "  display: contents;\n",
       "}\n",
       "\n",
       ".xr-section-item input {\n",
       "  display: none;\n",
       "}\n",
       "\n",
       ".xr-section-item input + label {\n",
       "  color: var(--xr-disabled-color);\n",
       "}\n",
       "\n",
       ".xr-section-item input:enabled + label {\n",
       "  cursor: pointer;\n",
       "  color: var(--xr-font-color2);\n",
       "}\n",
       "\n",
       ".xr-section-item input:enabled + label:hover {\n",
       "  color: var(--xr-font-color0);\n",
       "}\n",
       "\n",
       ".xr-section-summary {\n",
       "  grid-column: 1;\n",
       "  color: var(--xr-font-color2);\n",
       "  font-weight: 500;\n",
       "}\n",
       "\n",
       ".xr-section-summary > span {\n",
       "  display: inline-block;\n",
       "  padding-left: 0.5em;\n",
       "}\n",
       "\n",
       ".xr-section-summary-in:disabled + label {\n",
       "  color: var(--xr-font-color2);\n",
       "}\n",
       "\n",
       ".xr-section-summary-in + label:before {\n",
       "  display: inline-block;\n",
       "  content: '►';\n",
       "  font-size: 11px;\n",
       "  width: 15px;\n",
       "  text-align: center;\n",
       "}\n",
       "\n",
       ".xr-section-summary-in:disabled + label:before {\n",
       "  color: var(--xr-disabled-color);\n",
       "}\n",
       "\n",
       ".xr-section-summary-in:checked + label:before {\n",
       "  content: '▼';\n",
       "}\n",
       "\n",
       ".xr-section-summary-in:checked + label > span {\n",
       "  display: none;\n",
       "}\n",
       "\n",
       ".xr-section-summary,\n",
       ".xr-section-inline-details {\n",
       "  padding-top: 4px;\n",
       "  padding-bottom: 4px;\n",
       "}\n",
       "\n",
       ".xr-section-inline-details {\n",
       "  grid-column: 2 / -1;\n",
       "}\n",
       "\n",
       ".xr-section-details {\n",
       "  display: none;\n",
       "  grid-column: 1 / -1;\n",
       "  margin-bottom: 5px;\n",
       "}\n",
       "\n",
       ".xr-section-summary-in:checked ~ .xr-section-details {\n",
       "  display: contents;\n",
       "}\n",
       "\n",
       ".xr-array-wrap {\n",
       "  grid-column: 1 / -1;\n",
       "  display: grid;\n",
       "  grid-template-columns: 20px auto;\n",
       "}\n",
       "\n",
       ".xr-array-wrap > label {\n",
       "  grid-column: 1;\n",
       "  vertical-align: top;\n",
       "}\n",
       "\n",
       ".xr-preview {\n",
       "  color: var(--xr-font-color3);\n",
       "}\n",
       "\n",
       ".xr-array-preview,\n",
       ".xr-array-data {\n",
       "  padding: 0 5px !important;\n",
       "  grid-column: 2;\n",
       "}\n",
       "\n",
       ".xr-array-data,\n",
       ".xr-array-in:checked ~ .xr-array-preview {\n",
       "  display: none;\n",
       "}\n",
       "\n",
       ".xr-array-in:checked ~ .xr-array-data,\n",
       ".xr-array-preview {\n",
       "  display: inline-block;\n",
       "}\n",
       "\n",
       ".xr-dim-list {\n",
       "  display: inline-block !important;\n",
       "  list-style: none;\n",
       "  padding: 0 !important;\n",
       "  margin: 0;\n",
       "}\n",
       "\n",
       ".xr-dim-list li {\n",
       "  display: inline-block;\n",
       "  padding: 0;\n",
       "  margin: 0;\n",
       "}\n",
       "\n",
       ".xr-dim-list:before {\n",
       "  content: '(';\n",
       "}\n",
       "\n",
       ".xr-dim-list:after {\n",
       "  content: ')';\n",
       "}\n",
       "\n",
       ".xr-dim-list li:not(:last-child):after {\n",
       "  content: ',';\n",
       "  padding-right: 5px;\n",
       "}\n",
       "\n",
       ".xr-has-index {\n",
       "  font-weight: bold;\n",
       "}\n",
       "\n",
       ".xr-var-list,\n",
       ".xr-var-item {\n",
       "  display: contents;\n",
       "}\n",
       "\n",
       ".xr-var-item > div,\n",
       ".xr-var-item label,\n",
       ".xr-var-item > .xr-var-name span {\n",
       "  background-color: var(--xr-background-color-row-even);\n",
       "  margin-bottom: 0;\n",
       "}\n",
       "\n",
       ".xr-var-item > .xr-var-name:hover span {\n",
       "  padding-right: 5px;\n",
       "}\n",
       "\n",
       ".xr-var-list > li:nth-child(odd) > div,\n",
       ".xr-var-list > li:nth-child(odd) > label,\n",
       ".xr-var-list > li:nth-child(odd) > .xr-var-name span {\n",
       "  background-color: var(--xr-background-color-row-odd);\n",
       "}\n",
       "\n",
       ".xr-var-name {\n",
       "  grid-column: 1;\n",
       "}\n",
       "\n",
       ".xr-var-dims {\n",
       "  grid-column: 2;\n",
       "}\n",
       "\n",
       ".xr-var-dtype {\n",
       "  grid-column: 3;\n",
       "  text-align: right;\n",
       "  color: var(--xr-font-color2);\n",
       "}\n",
       "\n",
       ".xr-var-preview {\n",
       "  grid-column: 4;\n",
       "}\n",
       "\n",
       ".xr-index-preview {\n",
       "  grid-column: 2 / 5;\n",
       "  color: var(--xr-font-color2);\n",
       "}\n",
       "\n",
       ".xr-var-name,\n",
       ".xr-var-dims,\n",
       ".xr-var-dtype,\n",
       ".xr-preview,\n",
       ".xr-attrs dt {\n",
       "  white-space: nowrap;\n",
       "  overflow: hidden;\n",
       "  text-overflow: ellipsis;\n",
       "  padding-right: 10px;\n",
       "}\n",
       "\n",
       ".xr-var-name:hover,\n",
       ".xr-var-dims:hover,\n",
       ".xr-var-dtype:hover,\n",
       ".xr-attrs dt:hover {\n",
       "  overflow: visible;\n",
       "  width: auto;\n",
       "  z-index: 1;\n",
       "}\n",
       "\n",
       ".xr-var-attrs,\n",
       ".xr-var-data,\n",
       ".xr-index-data {\n",
       "  display: none;\n",
       "  background-color: var(--xr-background-color) !important;\n",
       "  padding-bottom: 5px !important;\n",
       "}\n",
       "\n",
       ".xr-var-attrs-in:checked ~ .xr-var-attrs,\n",
       ".xr-var-data-in:checked ~ .xr-var-data,\n",
       ".xr-index-data-in:checked ~ .xr-index-data {\n",
       "  display: block;\n",
       "}\n",
       "\n",
       ".xr-var-data > table {\n",
       "  float: right;\n",
       "}\n",
       "\n",
       ".xr-var-name span,\n",
       ".xr-var-data,\n",
       ".xr-index-name div,\n",
       ".xr-index-data,\n",
       ".xr-attrs {\n",
       "  padding-left: 25px !important;\n",
       "}\n",
       "\n",
       ".xr-attrs,\n",
       ".xr-var-attrs,\n",
       ".xr-var-data,\n",
       ".xr-index-data {\n",
       "  grid-column: 1 / -1;\n",
       "}\n",
       "\n",
       "dl.xr-attrs {\n",
       "  padding: 0;\n",
       "  margin: 0;\n",
       "  display: grid;\n",
       "  grid-template-columns: 125px auto;\n",
       "}\n",
       "\n",
       ".xr-attrs dt,\n",
       ".xr-attrs dd {\n",
       "  padding: 0;\n",
       "  margin: 0;\n",
       "  float: left;\n",
       "  padding-right: 10px;\n",
       "  width: auto;\n",
       "}\n",
       "\n",
       ".xr-attrs dt {\n",
       "  font-weight: normal;\n",
       "  grid-column: 1;\n",
       "}\n",
       "\n",
       ".xr-attrs dt:hover span {\n",
       "  display: inline-block;\n",
       "  background: var(--xr-background-color);\n",
       "  padding-right: 10px;\n",
       "}\n",
       "\n",
       ".xr-attrs dd {\n",
       "  grid-column: 2;\n",
       "  white-space: pre-wrap;\n",
       "  word-break: break-all;\n",
       "}\n",
       "\n",
       ".xr-icon-database,\n",
       ".xr-icon-file-text2,\n",
       ".xr-no-icon {\n",
       "  display: inline-block;\n",
       "  vertical-align: middle;\n",
       "  width: 1em;\n",
       "  height: 1.5em !important;\n",
       "  stroke-width: 0;\n",
       "  stroke: currentColor;\n",
       "  fill: currentColor;\n",
       "}\n",
       "</style><pre class='xr-text-repr-fallback'>&lt;xarray.DataArray &#x27;sst&#x27; (quantile: 2, month: 12)&gt;\n",
       "array([[-0.06171728, -0.04083298, -0.03358139, -0.02611669, -0.02590343,\n",
       "        -0.04876528, -0.05000315, -0.07152403, -0.0798261 , -0.078192  ,\n",
       "        -0.068315  , -0.07137791],\n",
       "       [ 0.05462822,  0.03442566,  0.03385681,  0.02292138,  0.02021693,\n",
       "         0.04393635,  0.04313753,  0.05687285,  0.06829148,  0.06332054,\n",
       "         0.05880897,  0.0588492 ]])\n",
       "Coordinates:\n",
       "  * month     (month) int64 1 2 3 4 5 6 7 8 9 10 11 12\n",
       "  * quantile  (quantile) float64 0.05 0.95</pre><div class='xr-wrap' style='display:none'><div class='xr-header'><div class='xr-obj-type'>xarray.DataArray</div><div class='xr-array-name'>'sst'</div><ul class='xr-dim-list'><li><span class='xr-has-index'>quantile</span>: 2</li><li><span class='xr-has-index'>month</span>: 12</li></ul></div><ul class='xr-sections'><li class='xr-section-item'><div class='xr-array-wrap'><input id='section-53c0c2f1-0011-4d0b-a347-e2a89d963a83' class='xr-array-in' type='checkbox' checked><label for='section-53c0c2f1-0011-4d0b-a347-e2a89d963a83' title='Show/hide data repr'><svg class='icon xr-icon-database'><use xlink:href='#icon-database'></use></svg></label><div class='xr-array-preview xr-preview'><span>-0.06172 -0.04083 -0.03358 -0.02612 ... 0.06332 0.05881 0.05885</span></div><div class='xr-array-data'><pre>array([[-0.06171728, -0.04083298, -0.03358139, -0.02611669, -0.02590343,\n",
       "        -0.04876528, -0.05000315, -0.07152403, -0.0798261 , -0.078192  ,\n",
       "        -0.068315  , -0.07137791],\n",
       "       [ 0.05462822,  0.03442566,  0.03385681,  0.02292138,  0.02021693,\n",
       "         0.04393635,  0.04313753,  0.05687285,  0.06829148,  0.06332054,\n",
       "         0.05880897,  0.0588492 ]])</pre></div></div></li><li class='xr-section-item'><input id='section-2eea3155-d06d-4d25-af94-b3fb469a8de9' class='xr-section-summary-in' type='checkbox'  checked><label for='section-2eea3155-d06d-4d25-af94-b3fb469a8de9' class='xr-section-summary' >Coordinates: <span>(2)</span></label><div class='xr-section-inline-details'></div><div class='xr-section-details'><ul class='xr-var-list'><li class='xr-var-item'><div class='xr-var-name'><span class='xr-has-index'>month</span></div><div class='xr-var-dims'>(month)</div><div class='xr-var-dtype'>int64</div><div class='xr-var-preview xr-preview'>1 2 3 4 5 6 7 8 9 10 11 12</div><input id='attrs-70e158d5-50b4-483a-b987-0cdd3068199a' class='xr-var-attrs-in' type='checkbox' disabled><label for='attrs-70e158d5-50b4-483a-b987-0cdd3068199a' title='Show/Hide attributes'><svg class='icon xr-icon-file-text2'><use xlink:href='#icon-file-text2'></use></svg></label><input id='data-d8acb935-93a5-4caa-b98f-f22e29c1a73a' class='xr-var-data-in' type='checkbox'><label for='data-d8acb935-93a5-4caa-b98f-f22e29c1a73a' title='Show/Hide data repr'><svg class='icon xr-icon-database'><use xlink:href='#icon-database'></use></svg></label><div class='xr-var-attrs'><dl class='xr-attrs'></dl></div><div class='xr-var-data'><pre>array([ 1,  2,  3,  4,  5,  6,  7,  8,  9, 10, 11, 12])</pre></div></li><li class='xr-var-item'><div class='xr-var-name'><span class='xr-has-index'>quantile</span></div><div class='xr-var-dims'>(quantile)</div><div class='xr-var-dtype'>float64</div><div class='xr-var-preview xr-preview'>0.05 0.95</div><input id='attrs-cdbf2506-0007-44b7-9f8c-154644be0b76' class='xr-var-attrs-in' type='checkbox' disabled><label for='attrs-cdbf2506-0007-44b7-9f8c-154644be0b76' title='Show/Hide attributes'><svg class='icon xr-icon-file-text2'><use xlink:href='#icon-file-text2'></use></svg></label><input id='data-77f626c6-03fc-4513-88df-8fd5ffd7a0ae' class='xr-var-data-in' type='checkbox'><label for='data-77f626c6-03fc-4513-88df-8fd5ffd7a0ae' title='Show/Hide data repr'><svg class='icon xr-icon-database'><use xlink:href='#icon-database'></use></svg></label><div class='xr-var-attrs'><dl class='xr-attrs'></dl></div><div class='xr-var-data'><pre>array([0.05, 0.95])</pre></div></li></ul></div></li><li class='xr-section-item'><input id='section-de179dd4-8ca7-488c-a273-559c9c4fd298' class='xr-section-summary-in' type='checkbox'  ><label for='section-de179dd4-8ca7-488c-a273-559c9c4fd298' class='xr-section-summary' >Indexes: <span>(2)</span></label><div class='xr-section-inline-details'></div><div class='xr-section-details'><ul class='xr-var-list'><li class='xr-var-item'><div class='xr-index-name'><div>month</div></div><div class='xr-index-preview'>PandasIndex</div><div></div><input id='index-f2cf750f-18c0-4939-87f6-7cce24422ed6' class='xr-index-data-in' type='checkbox'/><label for='index-f2cf750f-18c0-4939-87f6-7cce24422ed6' title='Show/Hide index repr'><svg class='icon xr-icon-database'><use xlink:href='#icon-database'></use></svg></label><div class='xr-index-data'><pre>PandasIndex(Int64Index([1, 2, 3, 4, 5, 6, 7, 8, 9, 10, 11, 12], dtype=&#x27;int64&#x27;, name=&#x27;month&#x27;))</pre></div></li><li class='xr-var-item'><div class='xr-index-name'><div>quantile</div></div><div class='xr-index-preview'>PandasIndex</div><div></div><input id='index-f8862b9b-d167-4931-af80-68e6b386f7a0' class='xr-index-data-in' type='checkbox'/><label for='index-f8862b9b-d167-4931-af80-68e6b386f7a0' title='Show/Hide index repr'><svg class='icon xr-icon-database'><use xlink:href='#icon-database'></use></svg></label><div class='xr-index-data'><pre>PandasIndex(Float64Index([0.05, 0.95], dtype=&#x27;float64&#x27;, name=&#x27;quantile&#x27;))</pre></div></li></ul></div></li><li class='xr-section-item'><input id='section-663de991-0357-472c-a1c3-98d38f82a14b' class='xr-section-summary-in' type='checkbox' disabled ><label for='section-663de991-0357-472c-a1c3-98d38f82a14b' class='xr-section-summary'  title='Expand/collapse section'>Attributes: <span>(0)</span></label><div class='xr-section-inline-details'></div><div class='xr-section-details'><dl class='xr-attrs'></dl></div></li></ul></div></div>"
      ],
      "text/plain": [
       "<xarray.DataArray 'sst' (quantile: 2, month: 12)>\n",
       "array([[-0.06171728, -0.04083298, -0.03358139, -0.02611669, -0.02590343,\n",
       "        -0.04876528, -0.05000315, -0.07152403, -0.0798261 , -0.078192  ,\n",
       "        -0.068315  , -0.07137791],\n",
       "       [ 0.05462822,  0.03442566,  0.03385681,  0.02292138,  0.02021693,\n",
       "         0.04393635,  0.04313753,  0.05687285,  0.06829148,  0.06332054,\n",
       "         0.05880897,  0.0588492 ]])\n",
       "Coordinates:\n",
       "  * month     (month) int64 1 2 3 4 5 6 7 8 9 10 11 12\n",
       "  * quantile  (quantile) float64 0.05 0.95"
      ]
     },
     "execution_count": 17,
     "metadata": {},
     "output_type": "execute_result"
    }
   ],
   "source": [
    "OC_p"
   ]
  },
  {
   "cell_type": "code",
   "execution_count": 18,
   "id": "bb89bf0b-7b4e-4b37-9d10-998d1d5f3941",
   "metadata": {
    "tags": []
   },
   "outputs": [
    {
     "data": {
      "text/plain": [
       "[<matplotlib.lines.Line2D at 0x14d61cf3bf70>]"
      ]
     },
     "execution_count": 18,
     "metadata": {},
     "output_type": "execute_result"
    },
    {
     "data": {
      "image/png": "[encoded data removed]",
      "text/plain": [
       "<Figure size 640x480 with 1 Axes>"
      ]
     },
     "metadata": {},
     "output_type": "display_data"
    }
   ],
   "source": [
    "(VC_p)[0].plot()\n",
    "(VC_p)[1].plot()"
   ]
  },
  {
   "cell_type": "code",
   "execution_count": 19,
   "id": "55422193-9b97-4279-9f2d-5cdafef77780",
   "metadata": {
    "tags": []
   },
   "outputs": [],
   "source": [
    "OC_dmi = dmi_exp(OC).groupby(\"time.month\").std(\"time\")\n",
    "MC_dmi = dmi_exp(MC).groupby(\"time.month\").std(\"time\")\n",
    "VC_dmi = dmi_exp(VC).groupby(\"time.month\").std(\"time\")\n",
    "ctrl_dmi = dmi_exp(ctrl).groupby(\"time.month\").std(\"time\")"
   ]
  },
  {
   "cell_type": "code",
   "execution_count": 20,
   "id": "ce6f054a-8fe5-4501-b17c-e93615b3e956",
   "metadata": {
    "tags": []
   },
   "outputs": [
    {
     "data": {
      "text/plain": [
       "<matplotlib.legend.Legend at 0x14d61cebc310>"
      ]
     },
     "execution_count": 20,
     "metadata": {},
     "output_type": "execute_result"
    },
    {
     "data": {
      "image/png": "[encoded data removed]",
      "text/plain": [
       "<Figure size 1000x600 with 1 Axes>"
      ]
     },
     "metadata": {},
     "output_type": "display_data"
    }
   ],
   "source": [
    "plt.figure(figsize = (10,6))\n",
    "ctrl_dmi.plot(label = \"CTRL\")\n",
    "plt.errorbar(OC_dmi.month, OC_dmi, yerr=[abs(OC_p[1]), abs(OC_p[0])]\n",
    "                 , fmt='-o', capsize=5, label = 'No ENSO no bias')\n",
    "plt.errorbar(MC_dmi.month, MC_dmi, yerr=[abs(MC_p[1]), abs(MC_p[0])]\n",
    "                 , fmt='-o', capsize=5, label = 'No ENSO')\n",
    "plt.errorbar(VC_dmi.month, VC_dmi, yerr=[abs(VC_p[1]), abs(VC_p[0])]\n",
    "                 , fmt='-o', capsize=5, label = 'ENSO no bias')\n",
    "plt.legend()"
   ]
  },
  {
   "cell_type": "code",
   "execution_count": null,
   "id": "9cb8ccf8-b70f-4388-9036-38ba0a5a7159",
   "metadata": {},
   "outputs": [],
   "source": []
  }
 ],
 "metadata": {
  "kernelspec": {
   "display_name": "Python 3 (ipykernel)",
   "language": "python",
   "name": "python3"
  },
  "language_info": {
   "codemirror_mode": {
    "name": "ipython",
    "version": 3
   },
   "file_extension": ".py",
   "mimetype": "text/x-python",
   "name": "python",
   "nbconvert_exporter": "python",
   "pygments_lexer": "ipython3",
   "version": "3.9.15"
  }
 },
 "nbformat": 4,
 "nbformat_minor": 5
}
