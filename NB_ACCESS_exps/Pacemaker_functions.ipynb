{
 "cells": [
  {
   "cell_type": "code",
   "execution_count": 1,
   "id": "84b2a1ba-b3e3-4898-9f04-2114f07637bf",
   "metadata": {
    "tags": []
   },
   "outputs": [],
   "source": [
    "import xarray as xr\n",
    "import xesmf as xe\n",
    "import numpy as np\n",
    "%matplotlib inline\n",
    "import matplotlib.pyplot as plt\n",
    "import cartopy.crs as ccrs\n",
    "import dask"
   ]
  },
  {
   "cell_type": "code",
   "execution_count": 2,
   "id": "3d014534-db41-4d79-ac93-97b8419ec729",
   "metadata": {
    "tags": []
   },
   "outputs": [],
   "source": [
    "from eofs.xarray import Eof"
   ]
  },
  {
   "cell_type": "markdown",
   "id": "4777bf26-e8f7-4875-8bc7-9912bf748c78",
   "metadata": {},
   "source": [
    "Here we are going to make functions that will make analysing the pacemaker experiments "
   ]
  },
  {
   "cell_type": "code",
   "execution_count": null,
   "id": "300edaa5-44a0-4486-bfd7-5c1b26f906c9",
   "metadata": {},
   "outputs": [],
   "source": [
    "def sst_bias(model, obs, freq=None, plot=None):\n",
    "    \"\"\"\n",
    "    This fucntion plots or outputs the SST bias of model relative to obs. Can choose between \n",
    "    annual and monthly frequency, but will default to motnhly frequency. Fucntion will \n",
    "    defualt to not plot if not specified\n",
    "    \n",
    "    Parameters\n",
    "    ----------\n",
    "    model : DataArray\n",
    "        DataArray of model run monthly data\n",
    "    obs : DataArray\n",
    "        DataArray of obs run monthly data\n",
    "    freq : {‘monthly’, ‘annual’}, optional\n",
    "        if None default to 'monthly'\n",
    "    plot : True or False\n",
    "        if true, plot is made, if false then no\n",
    "\n",
    "    \"\"\"\n",
    "    #check frequency of sampling, defaukt to monthly if not specified\n",
    "    if freq == None:\n",
    "        freq = 'monthly'\n",
    "    if plot == None:\n",
    "        plot = False\n",
    "    #calculate the bias\n",
    "    if freq == \"monthly\":\n",
    "        bias = (model.groupby('time.month').mean('time') - obs.groupby('time.month').mean('time'))\n",
    "        if plot == True:\n",
    "            fg = bias.plot.contourf(col='month', col_wrap = 4,  transform=ccrs.PlateCarree(),\n",
    "                                 subplot_kws={\"projection\": ccrs.PlateCarree(central_longitude = 180)}, \n",
    "                                  figsize=(20,8), facecolor = 'white', vmin = -2, vmax = 2, levels =11,  cmap = 'RdBu_r',\n",
    "                                    cbar_kwargs=dict(label='Bias ($^\\\\circ$C)'))\n",
    "            for i, ax in enumerate(fg.axes.flat):\n",
    "                ax.coastlines()\n",
    "                #ax.set_facecolor('grey')\n",
    "                gl = ax.gridlines(crs=ccrs.PlateCarree(), draw_labels=True,\n",
    "                                  linewidth=0.7, color='gray', alpha=0.5, linestyle='--')\n",
    "                if i in [0,1,2,3,4,5,6,7]:\n",
    "                    gl.bottom_labels = False\n",
    "                if i in [1,2,3,5,6,7,9,10,11]:\n",
    "                    gl.left_labels = False\n",
    "                gl.top_labels = False\n",
    "                gl.right_labels = False               \n",
    "            #now add the month labels\\n\",\n",
    "            titles =['Jan', 'Feb', 'Mar', 'Apr', 'May', 'Jun','Jul',\n",
    "                     'Aug', 'Sep', 'Oct', 'Nov', 'Dec']\n",
    "            for ax,title in zip(fg.axes.flatten(),titles):\n",
    "                ax.set_title(title )\n",
    "            return\n",
    "        elif plot == False:\n",
    "            return bias\n",
    "    elif freq == \"annual\":\n",
    "        bias = (model.mean('time') - obs.mean('time'))\n",
    "        if plot == True:\n",
    "            ax = plt.axes(projection=ccrs.PlateCarree(central_longitude=180))\n",
    "            bias.plot.contourf(ax=ax, vmin = -2, vmax = 2, cmap = \"RdBu_r\", levels = 11, extend = 'both',\n",
    "                   transform=ccrs.PlateCarree(), cbar_kwargs=dict(label='Bias ($^\\\\circ$C)'))\n",
    "            ax.set_title('Annual mean SST bias')\n",
    "            ax.coastlines(color = 'k')\n",
    "            ax.gridlines()\n",
    "            #ax.set_facecolor('grey')\n",
    "            gl = ax.gridlines(crs=ccrs.PlateCarree(), draw_labels=True,\n",
    "                                  linewidth=0.7, color='gray', alpha=0.5, linestyle='--')\n",
    "            gl.top_labels = False\n",
    "            gl.right_labels = False\n",
    "            return \n",
    "        elif plot == False:\n",
    "            return bias"
   ]
  }
 ],
 "metadata": {
  "kernelspec": {
   "display_name": "Python 3 (ipykernel)",
   "language": "python",
   "name": "python3"
  },
  "language_info": {
   "codemirror_mode": {
    "name": "ipython",
    "version": 3
   },
   "file_extension": ".py",
   "mimetype": "text/x-python",
   "name": "python",
   "nbconvert_exporter": "python",
   "pygments_lexer": "ipython3",
   "version": "3.9.15"
  }
 },
 "nbformat": 4,
 "nbformat_minor": 5
}
